{
 "cells": [
  {
   "cell_type": "markdown",
   "id": "8e266955",
   "metadata": {},
   "source": [
    "# Library"
   ]
  },
  {
   "cell_type": "code",
   "execution_count": 67,
   "id": "d57d3ba3",
   "metadata": {},
   "outputs": [],
   "source": [
    "import seaborn as sns\n",
    "import pandas as pd\n",
    "import matplotlib.pyplot as plt\n",
    "import numpy as np\n",
    "\n",
    "from sklearn.model_selection import train_test_split\n",
    "from sklearn.linear_model import LogisticRegression\n",
    "from sklearn.model_selection import GridSearchCV, StratifiedKFold, cross_val_score\n",
    "from sklearn.pipeline import make_pipeline\n",
    "\n",
    "from sklearn.metrics import confusion_matrix, accuracy_score, precision_score, recall_score, f1_score\n",
    "\n",
    "from sklearn.preprocessing import StandardScaler\n",
    "\n",
    "from sklearn.metrics import roc_curve, roc_auc_score"
   ]
  },
  {
   "cell_type": "markdown",
   "id": "9886016a",
   "metadata": {},
   "source": [
    "# Configration"
   ]
  },
  {
   "cell_type": "code",
   "execution_count": 104,
   "id": "8aba3834",
   "metadata": {},
   "outputs": [],
   "source": [
    "grid_search_flag = 1\n",
    "estimater_model = 'rf'\n",
    "lr_params_grid = {\n",
    "    'C': [1e-2, 1e-1, 1, 1e1, 1e2]\n",
    "}\n",
    "rf_params_grid = {\n",
    "    \n",
    "}\n",
    "threshold_grid = [f / 10 for f in list(range(1, 10, 1))]"
   ]
  },
  {
   "cell_type": "markdown",
   "id": "7cbc3053",
   "metadata": {},
   "source": [
    "# Import data"
   ]
  },
  {
   "cell_type": "code",
   "execution_count": 105,
   "id": "ad89dc81",
   "metadata": {},
   "outputs": [],
   "source": [
    "target_file = './data/input/input_add_rank.csv'\n",
    "\n",
    "df_data = pd.read_csv(target_file)\n",
    "df_data = df_data.set_index(['horse_id'])"
   ]
  },
  {
   "cell_type": "code",
   "execution_count": 106,
   "id": "f478806b",
   "metadata": {},
   "outputs": [
    {
     "name": "stdout",
     "output_type": "stream",
     "text": [
      "            target    1g_ago    2g_ago    3g_ago    4g_ago    5g_ago  \\\n",
      "horse_id                                                               \n",
      "1988105984     0.0  0.600000  0.333333  0.066667  0.538462  0.083333   \n",
      "1991103531     0.0  0.461538  0.666667  0.375000       NaN       NaN   \n",
      "1991190011     0.0       NaN       NaN       NaN       NaN       NaN   \n",
      "1992100038     0.0  0.555556  0.636364  0.375000  0.333333  0.833333   \n",
      "1992101546     0.0  0.285714  0.250000  0.250000  0.750000  0.333333   \n",
      "\n",
      "            rank_glass  rank_dirt      rank  \n",
      "horse_id                                     \n",
      "1988105984         NaN   0.403643  0.403643  \n",
      "1991103531    0.777778   0.501068  0.570246  \n",
      "1991190011    0.562500        NaN  0.562500  \n",
      "1992100038    0.485277   0.480977  0.484891  \n",
      "1992101546    0.405078   0.458542  0.424120  \n",
      "(106845, 9)\n"
     ]
    }
   ],
   "source": [
    "print(df_data.head())\n",
    "print(df_data.shape)"
   ]
  },
  {
   "cell_type": "markdown",
   "id": "13665b5f",
   "metadata": {},
   "source": [
    "# Preprocessing"
   ]
  },
  {
   "cell_type": "code",
   "execution_count": 107,
   "id": "5c96f486",
   "metadata": {},
   "outputs": [
    {
     "data": {
      "text/plain": [
       "target            0\n",
       "1g_ago         4171\n",
       "2g_ago         9214\n",
       "3g_ago        14241\n",
       "4g_ago        18837\n",
       "5g_ago        23010\n",
       "rank_glass    21141\n",
       "rank_dirt     11251\n",
       "rank              0\n",
       "dtype: int64"
      ]
     },
     "execution_count": 107,
     "metadata": {},
     "output_type": "execute_result"
    }
   ],
   "source": [
    "df_data.isnull().sum()"
   ]
  },
  {
   "cell_type": "markdown",
   "id": "f34175b9",
   "metadata": {},
   "source": [
    "#### 2022/11/23\n",
    "- 6試合以上の成績が残っていない馬は除外"
   ]
  },
  {
   "cell_type": "code",
   "execution_count": 108,
   "id": "6bcf1ab7",
   "metadata": {},
   "outputs": [
    {
     "data": {
      "text/html": [
       "<div>\n",
       "<style scoped>\n",
       "    .dataframe tbody tr th:only-of-type {\n",
       "        vertical-align: middle;\n",
       "    }\n",
       "\n",
       "    .dataframe tbody tr th {\n",
       "        vertical-align: top;\n",
       "    }\n",
       "\n",
       "    .dataframe thead th {\n",
       "        text-align: right;\n",
       "    }\n",
       "</style>\n",
       "<table border=\"1\" class=\"dataframe\">\n",
       "  <thead>\n",
       "    <tr style=\"text-align: right;\">\n",
       "      <th></th>\n",
       "      <th>target</th>\n",
       "      <th>1g_ago</th>\n",
       "      <th>2g_ago</th>\n",
       "      <th>3g_ago</th>\n",
       "      <th>4g_ago</th>\n",
       "      <th>5g_ago</th>\n",
       "      <th>rank_glass</th>\n",
       "      <th>rank_dirt</th>\n",
       "      <th>rank</th>\n",
       "    </tr>\n",
       "    <tr>\n",
       "      <th>horse_id</th>\n",
       "      <th></th>\n",
       "      <th></th>\n",
       "      <th></th>\n",
       "      <th></th>\n",
       "      <th></th>\n",
       "      <th></th>\n",
       "      <th></th>\n",
       "      <th></th>\n",
       "      <th></th>\n",
       "    </tr>\n",
       "  </thead>\n",
       "  <tbody>\n",
       "    <tr>\n",
       "      <th>1988105984</th>\n",
       "      <td>0.0</td>\n",
       "      <td>0.600000</td>\n",
       "      <td>0.333333</td>\n",
       "      <td>0.066667</td>\n",
       "      <td>0.538462</td>\n",
       "      <td>0.083333</td>\n",
       "      <td>NaN</td>\n",
       "      <td>0.403643</td>\n",
       "      <td>0.403643</td>\n",
       "    </tr>\n",
       "    <tr>\n",
       "      <th>1992100038</th>\n",
       "      <td>0.0</td>\n",
       "      <td>0.555556</td>\n",
       "      <td>0.636364</td>\n",
       "      <td>0.375000</td>\n",
       "      <td>0.333333</td>\n",
       "      <td>0.833333</td>\n",
       "      <td>0.485277</td>\n",
       "      <td>0.480977</td>\n",
       "      <td>0.484891</td>\n",
       "    </tr>\n",
       "    <tr>\n",
       "      <th>1992101546</th>\n",
       "      <td>0.0</td>\n",
       "      <td>0.285714</td>\n",
       "      <td>0.250000</td>\n",
       "      <td>0.250000</td>\n",
       "      <td>0.750000</td>\n",
       "      <td>0.333333</td>\n",
       "      <td>0.405078</td>\n",
       "      <td>0.458542</td>\n",
       "      <td>0.424120</td>\n",
       "    </tr>\n",
       "    <tr>\n",
       "      <th>1992102844</th>\n",
       "      <td>0.0</td>\n",
       "      <td>0.666667</td>\n",
       "      <td>0.588235</td>\n",
       "      <td>0.266667</td>\n",
       "      <td>0.625000</td>\n",
       "      <td>0.416667</td>\n",
       "      <td>0.421091</td>\n",
       "      <td>0.928571</td>\n",
       "      <td>0.435187</td>\n",
       "    </tr>\n",
       "    <tr>\n",
       "      <th>1992104930</th>\n",
       "      <td>0.0</td>\n",
       "      <td>0.833333</td>\n",
       "      <td>0.900000</td>\n",
       "      <td>0.900000</td>\n",
       "      <td>0.800000</td>\n",
       "      <td>0.333333</td>\n",
       "      <td>0.802564</td>\n",
       "      <td>0.504846</td>\n",
       "      <td>0.524476</td>\n",
       "    </tr>\n",
       "  </tbody>\n",
       "</table>\n",
       "</div>"
      ],
      "text/plain": [
       "            target    1g_ago    2g_ago    3g_ago    4g_ago    5g_ago  \\\n",
       "horse_id                                                               \n",
       "1988105984     0.0  0.600000  0.333333  0.066667  0.538462  0.083333   \n",
       "1992100038     0.0  0.555556  0.636364  0.375000  0.333333  0.833333   \n",
       "1992101546     0.0  0.285714  0.250000  0.250000  0.750000  0.333333   \n",
       "1992102844     0.0  0.666667  0.588235  0.266667  0.625000  0.416667   \n",
       "1992104930     0.0  0.833333  0.900000  0.900000  0.800000  0.333333   \n",
       "\n",
       "            rank_glass  rank_dirt      rank  \n",
       "horse_id                                     \n",
       "1988105984         NaN   0.403643  0.403643  \n",
       "1992100038    0.485277   0.480977  0.484891  \n",
       "1992101546    0.405078   0.458542  0.424120  \n",
       "1992102844    0.421091   0.928571  0.435187  \n",
       "1992104930    0.802564   0.504846  0.524476  "
      ]
     },
     "execution_count": 108,
     "metadata": {},
     "output_type": "execute_result"
    }
   ],
   "source": [
    "df_data = df_data[df_data['5g_ago'].notnull()]\n",
    "df_data.head()\n",
    "#df_input.head()\n",
    "#df_data.fillna(0.5, inplace=True)\n",
    "#df_temp.head()\n",
    "#df_data = df_data.dropna(subset=drop_list)\n",
    "#df_data = pd.concat([df_temp, df_data[['target']]], axis=1)"
   ]
  },
  {
   "cell_type": "markdown",
   "id": "bea0f91d-e3fd-47a9-aa1d-89cc74bef7ce",
   "metadata": {},
   "source": [
    "### NaNを平均値で補完"
   ]
  },
  {
   "cell_type": "code",
   "execution_count": 123,
   "id": "faab87c2-0d64-48d3-9156-54aec487c142",
   "metadata": {},
   "outputs": [],
   "source": [
    "df_data = df_data.fillna(df_data.mean())"
   ]
  },
  {
   "cell_type": "code",
   "execution_count": 124,
   "id": "92a16f84",
   "metadata": {},
   "outputs": [],
   "source": [
    "df_x = df_data.iloc[:, 1:]\n",
    "df_y = df_data.iloc[:, 0]"
   ]
  },
  {
   "cell_type": "code",
   "execution_count": 125,
   "id": "ddf8d791-e750-4586-b431-a026c06b890f",
   "metadata": {},
   "outputs": [
    {
     "data": {
      "text/plain": [
       "horse_id\n",
       "1988105984    0.0\n",
       "1992100038    0.0\n",
       "1992101546    0.0\n",
       "1992102844    0.0\n",
       "1992104930    0.0\n",
       "             ... \n",
       "2020106981    0.0\n",
       "2020107146    1.0\n",
       "2020109061    0.0\n",
       "2020109133    0.0\n",
       "2020109153    0.0\n",
       "Name: target, Length: 83835, dtype: float64"
      ]
     },
     "execution_count": 125,
     "metadata": {},
     "output_type": "execute_result"
    }
   ],
   "source": [
    "df_y"
   ]
  },
  {
   "cell_type": "code",
   "execution_count": 126,
   "id": "7f5b98e1",
   "metadata": {},
   "outputs": [
    {
     "name": "stdout",
     "output_type": "stream",
     "text": [
      "# train 0 :  63102\n",
      "# train 1 :  3966\n",
      "# test 0 :  15775\n",
      "# test 0 :  992\n"
     ]
    }
   ],
   "source": [
    "x_train, x_test, y_train, y_test = train_test_split(df_x, df_y, test_size=0.2, stratify=df_y, random_state=0)\n",
    "\n",
    "print('# train 0 : ', len(y_train[y_train==0]))\n",
    "print('# train 1 : ', len(y_train[y_train==1]))\n",
    "\n",
    "print('# test 0 : ', len(y_test[y_test==0]))\n",
    "print('# test 0 : ', len(y_test[y_test==1]))"
   ]
  },
  {
   "cell_type": "code",
   "execution_count": 127,
   "id": "f21525a3",
   "metadata": {},
   "outputs": [
    {
     "name": "stderr",
     "output_type": "stream",
     "text": [
      "/usr/local/Caskroom/miniforge/base/envs/share-envs/lib/python3.10/site-packages/seaborn/_decorators.py:36: FutureWarning: Pass the following variable as a keyword arg: x. From version 0.12, the only valid positional argument will be `data`, and passing other arguments without an explicit keyword will result in an error or misinterpretation.\n",
      "  warnings.warn(\n"
     ]
    },
    {
     "data": {
      "text/plain": [
       "<AxesSubplot:xlabel='target', ylabel='count'>"
      ]
     },
     "execution_count": 127,
     "metadata": {},
     "output_type": "execute_result"
    },
    {
     "data": {
      "image/png": "[encoded data removed]",
      "text/plain": [
       "<Figure size 432x288 with 1 Axes>"
      ]
     },
     "metadata": {
      "needs_background": "light"
     },
     "output_type": "display_data"
    }
   ],
   "source": [
    "sns.countplot(y_train)"
   ]
  },
  {
   "cell_type": "code",
   "execution_count": 128,
   "id": "62fd5c0c",
   "metadata": {},
   "outputs": [
    {
     "name": "stderr",
     "output_type": "stream",
     "text": [
      "/usr/local/Caskroom/miniforge/base/envs/share-envs/lib/python3.10/site-packages/seaborn/_decorators.py:36: FutureWarning: Pass the following variable as a keyword arg: x. From version 0.12, the only valid positional argument will be `data`, and passing other arguments without an explicit keyword will result in an error or misinterpretation.\n",
      "  warnings.warn(\n"
     ]
    },
    {
     "data": {
      "text/plain": [
       "<AxesSubplot:xlabel='target', ylabel='count'>"
      ]
     },
     "execution_count": 128,
     "metadata": {},
     "output_type": "execute_result"
    },
    {
     "data": {
      "image/png": "[encoded data removed]",
      "text/plain": [
       "<Figure size 432x288 with 1 Axes>"
      ]
     },
     "metadata": {
      "needs_background": "light"
     },
     "output_type": "display_data"
    }
   ],
   "source": [
    "sns.countplot(y_test)"
   ]
  },
  {
   "cell_type": "markdown",
   "id": "fd6eda43",
   "metadata": {},
   "source": [
    "# Pipeline"
   ]
  },
  {
   "cell_type": "code",
   "execution_count": 129,
   "id": "7140e047",
   "metadata": {},
   "outputs": [],
   "source": [
    "from sklearn.pipeline import make_pipeline\n",
    "model_lrbl = LogisticRegression(penalty='l2', random_state=0, class_weight='balanced')\n",
    "model_lrno = LogisticRegression(penalty='l2', random_state=0, class_weight=None)\n",
    "model_rf = RandomForestClassifier(n_estimators=100, rando_state=0, class_weight='balanced')\n",
    "#pipe_lrbl = make_pipeline(StandardScaler(), model_lrbl)\n",
    "#pipe_lrno = make_pipeline(StandardScaler(), model_"
   ]
  },
  {
   "cell_type": "markdown",
   "id": "a4b4616a",
   "metadata": {},
   "source": [
    "- weightをNoneにするとtarget0のデータに過学習してしまい、確率が小さい値に寄ってしまった。（気になるようだったら試してみてください）"
   ]
  },
  {
   "cell_type": "code",
   "execution_count": 130,
   "id": "6e95bd8d",
   "metadata": {},
   "outputs": [],
   "source": [
    "skfold = StratifiedKFold(n_splits=10, shuffle=True, random_state=1)"
   ]
  },
  {
   "cell_type": "code",
   "execution_count": 131,
   "id": "ae3b1ed5",
   "metadata": {},
   "outputs": [],
   "source": [
    "if grid_search_flag:\n",
    "    clf = GridSearchCV(estimator=model_lrbl, param_grid=params_grid, scoring='roc_auc', cv=10, n_jobs=-1, error_score='raise')\n",
    "    clf.fit(x_train, y_train)\n",
    "    best_model = clf.best_estimator_"
   ]
  },
  {
   "cell_type": "code",
   "execution_count": 132,
   "id": "c08ec219",
   "metadata": {},
   "outputs": [
    {
     "data": {
      "image/png": "[encoded data removed]",
      "text/plain": [
       "<Figure size 432x288 with 1 Axes>"
      ]
     },
     "metadata": {
      "needs_background": "light"
     },
     "output_type": "display_data"
    },
    {
     "name": "stdout",
     "output_type": "stream",
     "text": [
      "Best AUC score:  0.8120790731557691\n"
     ]
    }
   ],
   "source": [
    "y_pred = best_model.predict_proba(x_train)[:, 1]\n",
    "\n",
    "fpr, tpr, thresholds = roc_curve(y_train, y_pred)\n",
    "plt.plot(fpr, tpr, label=\"ROC Curve\")\n",
    "plt.xlabel(\"FPR\")\n",
    "plt.ylabel(\"TPR\")\n",
    "plt.show()\n",
    "\n",
    "best_score = roc_auc_score(y_test, clf.predict_proba(x_test)[:, 1])\n",
    "print(\"Best AUC score: \", best_score)"
   ]
  },
  {
   "cell_type": "code",
   "execution_count": 133,
   "id": "45d84331",
   "metadata": {},
   "outputs": [
    {
     "name": "stdout",
     "output_type": "stream",
     "text": [
      "Best threshold:  0.9\n",
      "Best precision:  0.4234338747099768\n"
     ]
    }
   ],
   "source": [
    "best_score = 0\n",
    "best_threshold = 0\n",
    "for thr in threshold_grid:\n",
    "    y_pred = (clf.predict_proba(x_train)[:, 1] > thr) * 1\n",
    "    temp_score = precision_score(y_true=y_train, y_pred=y_pred)\n",
    "    if best_score < temp_score:\n",
    "        best_threshold = thr\n",
    "        best_score = temp_score\n",
    "\n",
    "print(\"Best threshold: \", best_threshold)\n",
    "print(\"Best precision: \", best_score)"
   ]
  },
  {
   "cell_type": "code",
   "execution_count": 134,
   "id": "f72e974d",
   "metadata": {},
   "outputs": [
    {
     "data": {
      "text/plain": [
       "0.9"
      ]
     },
     "execution_count": 134,
     "metadata": {},
     "output_type": "execute_result"
    }
   ],
   "source": [
    "best_threshold"
   ]
  },
  {
   "cell_type": "code",
   "execution_count": 135,
   "id": "dd2257b0",
   "metadata": {},
   "outputs": [
    {
     "name": "stdout",
     "output_type": "stream",
     "text": [
      "precision： 0.39631336405529954\n",
      "recall： 0.08669354838709678\n",
      "f1 score： 0.1422663358147229\n",
      "confusion matrix = \n",
      " [[15644   131]\n",
      " [  906    86]]\n"
     ]
    }
   ],
   "source": [
    "y_pred_test = (clf.predict_proba(x_test)[:,1] > best_threshold ) * 1\n",
    "print('precision：', precision_score(y_true=y_test, y_pred=y_pred_test))\n",
    "print('recall：', recall_score(y_true=y_test, y_pred=y_pred_test))\n",
    "print('f1 score：', f1_score(y_true=y_test, y_pred=y_pred_test))\n",
    "print('confusion matrix = \\n', confusion_matrix(y_true=y_test, y_pred=y_pred_test))"
   ]
  },
  {
   "cell_type": "markdown",
   "id": "5807df82",
   "metadata": {},
   "source": [
    "# train, testそれぞれのProbabilityを見てみる\n",
    "## train"
   ]
  },
  {
   "cell_type": "code",
   "execution_count": 136,
   "id": "576f2e15",
   "metadata": {},
   "outputs": [
    {
     "data": {
      "text/plain": [
       "<AxesSubplot:ylabel='Count'>"
      ]
     },
     "execution_count": 136,
     "metadata": {},
     "output_type": "execute_result"
    },
    {
     "data": {
      "image/png": "[encoded data removed]",
      "text/plain": [
       "<Figure size 432x288 with 1 Axes>"
      ]
     },
     "metadata": {
      "needs_background": "light"
     },
     "output_type": "display_data"
    }
   ],
   "source": [
    "y_pred_train = clf.predict_proba(x_train)[:,1] \n",
    "sns.histplot(y_pred_train)"
   ]
  },
  {
   "cell_type": "code",
   "execution_count": 137,
   "id": "073987f0",
   "metadata": {},
   "outputs": [
    {
     "data": {
      "text/html": [
       "<div>\n",
       "<style scoped>\n",
       "    .dataframe tbody tr th:only-of-type {\n",
       "        vertical-align: middle;\n",
       "    }\n",
       "\n",
       "    .dataframe tbody tr th {\n",
       "        vertical-align: top;\n",
       "    }\n",
       "\n",
       "    .dataframe thead th {\n",
       "        text-align: right;\n",
       "    }\n",
       "</style>\n",
       "<table border=\"1\" class=\"dataframe\">\n",
       "  <thead>\n",
       "    <tr style=\"text-align: right;\">\n",
       "      <th></th>\n",
       "      <th>0</th>\n",
       "      <th>1</th>\n",
       "    </tr>\n",
       "  </thead>\n",
       "  <tbody>\n",
       "    <tr>\n",
       "      <th>0</th>\n",
       "      <td>0.0</td>\n",
       "      <td>0.208200</td>\n",
       "    </tr>\n",
       "    <tr>\n",
       "      <th>1</th>\n",
       "      <td>0.0</td>\n",
       "      <td>0.114473</td>\n",
       "    </tr>\n",
       "    <tr>\n",
       "      <th>2</th>\n",
       "      <td>0.0</td>\n",
       "      <td>0.782148</td>\n",
       "    </tr>\n",
       "    <tr>\n",
       "      <th>3</th>\n",
       "      <td>0.0</td>\n",
       "      <td>0.394883</td>\n",
       "    </tr>\n",
       "    <tr>\n",
       "      <th>4</th>\n",
       "      <td>0.0</td>\n",
       "      <td>0.320234</td>\n",
       "    </tr>\n",
       "  </tbody>\n",
       "</table>\n",
       "</div>"
      ],
      "text/plain": [
       "     0         1\n",
       "0  0.0  0.208200\n",
       "1  0.0  0.114473\n",
       "2  0.0  0.782148\n",
       "3  0.0  0.394883\n",
       "4  0.0  0.320234"
      ]
     },
     "execution_count": 137,
     "metadata": {},
     "output_type": "execute_result"
    }
   ],
   "source": [
    "np_y_true_train = y_train.to_numpy()\n",
    "np_concat = [np_y_true_train, y_pred_train]\n",
    "df_concat_train = pd.DataFrame(np_concat)\n",
    "df_concat_train = df_concat_train.T\n",
    "df_concat_train.head()"
   ]
  },
  {
   "cell_type": "code",
   "execution_count": 138,
   "id": "43c95bc9",
   "metadata": {},
   "outputs": [
    {
     "data": {
      "text/plain": [
       "<AxesSubplot:xlabel='1', ylabel='Count'>"
      ]
     },
     "execution_count": 138,
     "metadata": {},
     "output_type": "execute_result"
    },
    {
     "data": {
      "image/png": "[encoded data removed]",
      "text/plain": [
       "<Figure size 720x360 with 2 Axes>"
      ]
     },
     "metadata": {
      "needs_background": "light"
     },
     "output_type": "display_data"
    }
   ],
   "source": [
    "fig, ax = plt.subplots(1, 2, figsize = (10,5))\n",
    "ax[0].set_xlim(0.5, 1)\n",
    "ax[0].set_ylim(0, 1000)\n",
    "ax[0].set_xlabel('0')\n",
    "ax[1].set_xlim(0.5, 1)\n",
    "ax[1].set_ylim(0, 1000)\n",
    "ax[1].set_xlabel('1')\n",
    "sns.histplot(data=df_concat_train[df_concat_train.iloc[:, 0]==0].iloc[:, 1], ax=ax[0], bins=100)\n",
    "sns.histplot(data=df_concat_train[df_concat_train.iloc[:, 0]==1].iloc[:, 1], ax=ax[1], bins=100)"
   ]
  },
  {
   "cell_type": "markdown",
   "id": "8ee2c0b9",
   "metadata": {},
   "source": [
    "## test"
   ]
  },
  {
   "cell_type": "code",
   "execution_count": 139,
   "id": "4ea6a35b",
   "metadata": {},
   "outputs": [
    {
     "data": {
      "text/plain": [
       "<AxesSubplot:xlabel='1', ylabel='Count'>"
      ]
     },
     "execution_count": 139,
     "metadata": {},
     "output_type": "execute_result"
    },
    {
     "data": {
      "image/png": "[encoded data removed]",
      "text/plain": [
       "<Figure size 720x360 with 2 Axes>"
      ]
     },
     "metadata": {
      "needs_background": "light"
     },
     "output_type": "display_data"
    }
   ],
   "source": [
    "y_pred_test = clf.predict_proba(x_test)[:,1] \n",
    "#sns.histplot(y_pred_test)\n",
    "\n",
    "np_y_true_test = y_test.to_numpy()\n",
    "np_concat = [np_y_true_test, y_pred_test]\n",
    "df_concat_test = pd.DataFrame(np_concat)\n",
    "df_concat_test = df_concat_test.T\n",
    "df_concat_test.head()\n",
    "\n",
    "fig, ax = plt.subplots(1, 2, figsize = (10,5))\n",
    "ax[0].set_xlim(0.5, 1)\n",
    "ax[0].set_ylim(0, 100)\n",
    "ax[0].set_xlabel('0')\n",
    "ax[1].set_xlim(0.5, 1)\n",
    "ax[1].set_ylim(0, 100)\n",
    "ax[1].set_xlabel('1')\n",
    "sns.histplot(data=df_concat_test[df_concat_test.iloc[:, 0]==0].iloc[:, 1], ax=ax[0], bins=100)\n",
    "sns.histplot(data=df_concat_test[df_concat_test.iloc[:, 0]==1].iloc[:, 1], ax=ax[1], bins=100)"
   ]
  },
  {
   "cell_type": "markdown",
   "id": "2c40680f",
   "metadata": {},
   "source": [
    "### 2022/11/12\n",
    "- N/Aを0.5で埋めていることが起因しているのかx=0.5付近のcountが多い。\n",
    " - 0.5付近の確率となる馬のデータを確認してみる。\n",
    " - 補完値を変更 or 一定の試合数の馬のみにデータを絞る 等も試してみる必要がある\n",
    "  \n",
    "- 神様であるtestを見ると、このモデルでは上手くthresholdを設定してもprecsionを上げることは難しそう。モデルの変更か相当素晴らしい特徴量を追加する必要がある？\\"
   ]
  },
  {
   "cell_type": "markdown",
   "id": "79f807a6",
   "metadata": {},
   "source": [
    "### 2022/11/23\n",
    "- トレーニングデータは値補完することを諦め、6試合以上の成績がある馬のみにしぼることでprecisionは0.15→0.25程度に向上した。やはり試合数を重ねた馬でないと予測は難しい気がする"
   ]
  },
  {
   "cell_type": "code",
   "execution_count": null,
   "id": "30faf1c8",
   "metadata": {},
   "outputs": [],
   "source": []
  },
  {
   "cell_type": "code",
   "execution_count": null,
   "id": "74f74d60",
   "metadata": {},
   "outputs": [],
   "source": []
  },
  {
   "cell_type": "code",
   "execution_count": null,
   "id": "58404425",
   "metadata": {},
   "outputs": [],
   "source": []
  },
  {
   "cell_type": "code",
   "execution_count": null,
   "id": "a3fdce9e-c10b-4330-9a8e-f30cb5cb348c",
   "metadata": {},
   "outputs": [],
   "source": []
  },
  {
   "cell_type": "code",
   "execution_count": null,
   "id": "51f5b945-ab9a-4f2b-8e8d-093e8d25fa28",
   "metadata": {},
   "outputs": [],
   "source": []
  },
  {
   "cell_type": "code",
   "execution_count": null,
   "id": "305836a8-e32c-4be9-bca2-51f3cba4dfde",
   "metadata": {},
   "outputs": [],
   "source": []
  }
 ],
 "metadata": {
  "kernelspec": {
   "display_name": "Python 3 (ipykernel)",
   "language": "python",
   "name": "python3"
  },
  "language_info": {
   "codemirror_mode": {
    "name": "ipython",
    "version": 3
   },
   "file_extension": ".py",
   "mimetype": "text/x-python",
   "name": "python",
   "nbconvert_exporter": "python",
   "pygments_lexer": "ipython3",
   "version": "3.10.5"
  }
 },
 "nbformat": 4,
 "nbformat_minor": 5
}
