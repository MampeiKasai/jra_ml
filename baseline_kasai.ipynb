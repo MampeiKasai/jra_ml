{
 "cells": [
  {
   "cell_type": "markdown",
   "id": "8e266955",
   "metadata": {},
   "source": [
    "# Library"
   ]
  },
  {
   "cell_type": "code",
   "execution_count": 1,
   "id": "d57d3ba3",
   "metadata": {},
   "outputs": [],
   "source": [
    "import seaborn as sns\n",
    "import pandas as pd\n",
    "import matplotlib.pyplot as plt\n",
    "import numpy as np\n",
    "\n",
    "from sklearn.model_selection import train_test_split\n",
    "from sklearn.linear_model import LogisticRegression\n",
    "from sklearn.model_selection import GridSearchCV, StratifiedKFold, cross_val_score\n",
    "from sklearn.pipeline import make_pipeline\n",
    "\n",
    "from sklearn.metrics import confusion_matrix, accuracy_score, precision_score, recall_score, f1_score\n",
    "\n",
    "from sklearn.preprocessing import StandardScaler\n",
    "\n",
    "from sklearn.metrics import roc_curve, roc_auc_score"
   ]
  },
  {
   "cell_type": "markdown",
   "id": "2f440d5e",
   "metadata": {},
   "source": [
    "# Configration"
   ]
  },
  {
   "cell_type": "code",
   "execution_count": 153,
   "id": "54efa348",
   "metadata": {},
   "outputs": [],
   "source": [
    "grid_search_flag = 1\n",
    "params_grid = {\n",
    "    'C': [1e-2, 1e-1, 1, 1e1, 1e2]\n",
    "}\n",
    "threshold_grid = [f / 10 for f in list(range(1, 10, 1))]"
   ]
  },
  {
   "cell_type": "code",
   "execution_count": 154,
   "id": "f4d07631",
   "metadata": {},
   "outputs": [
    {
     "data": {
      "text/plain": [
       "[0.1, 0.2, 0.3, 0.4, 0.5, 0.6, 0.7, 0.8, 0.9]"
      ]
     },
     "execution_count": 154,
     "metadata": {},
     "output_type": "execute_result"
    }
   ],
   "source": [
    "threshold_grid"
   ]
  },
  {
   "cell_type": "markdown",
   "id": "7cbc3053",
   "metadata": {},
   "source": [
    "# Import data"
   ]
  },
  {
   "cell_type": "code",
   "execution_count": 90,
   "id": "ad89dc81",
   "metadata": {},
   "outputs": [],
   "source": [
    "target_file = './data/input/input.csv'\n",
    "\n",
    "df_data = pd.read_csv(target_file)\n",
    "df_data = df_data.set_index(['horse_id'])"
   ]
  },
  {
   "cell_type": "code",
   "execution_count": 91,
   "id": "f478806b",
   "metadata": {},
   "outputs": [
    {
     "name": "stdout",
     "output_type": "stream",
     "text": [
      "                2試合前      3試合前      4試合前      5試合前      6試合前      7試合前  \\\n",
      "horse_id                                                                 \n",
      "1988105984  0.600000  0.333333  0.066667  0.538462  0.083333  0.071429   \n",
      "1991103531  0.461538  0.666667  0.375000       NaN       NaN       NaN   \n",
      "1991190011       NaN       NaN       NaN       NaN       NaN       NaN   \n",
      "1992100038  0.555556  0.636364  0.375000  0.333333  0.833333  0.722222   \n",
      "1992101546  0.285714  0.250000  0.250000  0.750000  0.333333  0.625000   \n",
      "\n",
      "              8試合前      9試合前     10試合前     11試合前  target  \n",
      "horse_id                                                  \n",
      "1988105984  0.8125  0.363636  0.214286  0.083333     0.0  \n",
      "1991103531     NaN       NaN       NaN       NaN     0.0  \n",
      "1991190011     NaN       NaN       NaN       NaN     0.0  \n",
      "1992100038  0.6875  0.866667  0.800000  0.545455     0.0  \n",
      "1992101546  0.7000  0.857143  1.000000  0.846154     0.0  \n",
      "(106843, 11)\n"
     ]
    }
   ],
   "source": [
    "print(df_data.head())\n",
    "print(df_data.shape)"
   ]
  },
  {
   "cell_type": "markdown",
   "id": "13665b5f",
   "metadata": {},
   "source": [
    "# Preprocessing"
   ]
  },
  {
   "cell_type": "code",
   "execution_count": 92,
   "id": "b52e07a8",
   "metadata": {},
   "outputs": [],
   "source": [
    "column  = []\n",
    "n_game = 2\n",
    "for c in df_data.columns:\n",
    "    if c != 'target':\n",
    "        column.append(str(n_game) + 'games_ago')\n",
    "        n_game += 1\n",
    "    else:\n",
    "        column.append('target')"
   ]
  },
  {
   "cell_type": "code",
   "execution_count": 93,
   "id": "04b6c5e2",
   "metadata": {},
   "outputs": [
    {
     "data": {
      "text/html": [
       "<div>\n",
       "<style scoped>\n",
       "    .dataframe tbody tr th:only-of-type {\n",
       "        vertical-align: middle;\n",
       "    }\n",
       "\n",
       "    .dataframe tbody tr th {\n",
       "        vertical-align: top;\n",
       "    }\n",
       "\n",
       "    .dataframe thead th {\n",
       "        text-align: right;\n",
       "    }\n",
       "</style>\n",
       "<table border=\"1\" class=\"dataframe\">\n",
       "  <thead>\n",
       "    <tr style=\"text-align: right;\">\n",
       "      <th></th>\n",
       "      <th>2games_ago</th>\n",
       "      <th>3games_ago</th>\n",
       "      <th>4games_ago</th>\n",
       "      <th>5games_ago</th>\n",
       "      <th>6games_ago</th>\n",
       "      <th>7games_ago</th>\n",
       "      <th>8games_ago</th>\n",
       "      <th>9games_ago</th>\n",
       "      <th>10games_ago</th>\n",
       "      <th>11games_ago</th>\n",
       "      <th>target</th>\n",
       "    </tr>\n",
       "    <tr>\n",
       "      <th>horse_id</th>\n",
       "      <th></th>\n",
       "      <th></th>\n",
       "      <th></th>\n",
       "      <th></th>\n",
       "      <th></th>\n",
       "      <th></th>\n",
       "      <th></th>\n",
       "      <th></th>\n",
       "      <th></th>\n",
       "      <th></th>\n",
       "      <th></th>\n",
       "    </tr>\n",
       "  </thead>\n",
       "  <tbody>\n",
       "    <tr>\n",
       "      <th>1988105984</th>\n",
       "      <td>0.600000</td>\n",
       "      <td>0.333333</td>\n",
       "      <td>0.066667</td>\n",
       "      <td>0.538462</td>\n",
       "      <td>0.083333</td>\n",
       "      <td>0.071429</td>\n",
       "      <td>0.8125</td>\n",
       "      <td>0.363636</td>\n",
       "      <td>0.214286</td>\n",
       "      <td>0.083333</td>\n",
       "      <td>0.0</td>\n",
       "    </tr>\n",
       "    <tr>\n",
       "      <th>1991103531</th>\n",
       "      <td>0.461538</td>\n",
       "      <td>0.666667</td>\n",
       "      <td>0.375000</td>\n",
       "      <td>NaN</td>\n",
       "      <td>NaN</td>\n",
       "      <td>NaN</td>\n",
       "      <td>NaN</td>\n",
       "      <td>NaN</td>\n",
       "      <td>NaN</td>\n",
       "      <td>NaN</td>\n",
       "      <td>0.0</td>\n",
       "    </tr>\n",
       "    <tr>\n",
       "      <th>1991190011</th>\n",
       "      <td>NaN</td>\n",
       "      <td>NaN</td>\n",
       "      <td>NaN</td>\n",
       "      <td>NaN</td>\n",
       "      <td>NaN</td>\n",
       "      <td>NaN</td>\n",
       "      <td>NaN</td>\n",
       "      <td>NaN</td>\n",
       "      <td>NaN</td>\n",
       "      <td>NaN</td>\n",
       "      <td>0.0</td>\n",
       "    </tr>\n",
       "    <tr>\n",
       "      <th>1992100038</th>\n",
       "      <td>0.555556</td>\n",
       "      <td>0.636364</td>\n",
       "      <td>0.375000</td>\n",
       "      <td>0.333333</td>\n",
       "      <td>0.833333</td>\n",
       "      <td>0.722222</td>\n",
       "      <td>0.6875</td>\n",
       "      <td>0.866667</td>\n",
       "      <td>0.800000</td>\n",
       "      <td>0.545455</td>\n",
       "      <td>0.0</td>\n",
       "    </tr>\n",
       "    <tr>\n",
       "      <th>1992101546</th>\n",
       "      <td>0.285714</td>\n",
       "      <td>0.250000</td>\n",
       "      <td>0.250000</td>\n",
       "      <td>0.750000</td>\n",
       "      <td>0.333333</td>\n",
       "      <td>0.625000</td>\n",
       "      <td>0.7000</td>\n",
       "      <td>0.857143</td>\n",
       "      <td>1.000000</td>\n",
       "      <td>0.846154</td>\n",
       "      <td>0.0</td>\n",
       "    </tr>\n",
       "  </tbody>\n",
       "</table>\n",
       "</div>"
      ],
      "text/plain": [
       "            2games_ago  3games_ago  4games_ago  5games_ago  6games_ago  \\\n",
       "horse_id                                                                 \n",
       "1988105984    0.600000    0.333333    0.066667    0.538462    0.083333   \n",
       "1991103531    0.461538    0.666667    0.375000         NaN         NaN   \n",
       "1991190011         NaN         NaN         NaN         NaN         NaN   \n",
       "1992100038    0.555556    0.636364    0.375000    0.333333    0.833333   \n",
       "1992101546    0.285714    0.250000    0.250000    0.750000    0.333333   \n",
       "\n",
       "            7games_ago  8games_ago  9games_ago  10games_ago  11games_ago  \\\n",
       "horse_id                                                                   \n",
       "1988105984    0.071429      0.8125    0.363636     0.214286     0.083333   \n",
       "1991103531         NaN         NaN         NaN          NaN          NaN   \n",
       "1991190011         NaN         NaN         NaN          NaN          NaN   \n",
       "1992100038    0.722222      0.6875    0.866667     0.800000     0.545455   \n",
       "1992101546    0.625000      0.7000    0.857143     1.000000     0.846154   \n",
       "\n",
       "            target  \n",
       "horse_id            \n",
       "1988105984     0.0  \n",
       "1991103531     0.0  \n",
       "1991190011     0.0  \n",
       "1992100038     0.0  \n",
       "1992101546     0.0  "
      ]
     },
     "execution_count": 93,
     "metadata": {},
     "output_type": "execute_result"
    }
   ],
   "source": [
    "df_data.columns = column\n",
    "df_data.head()"
   ]
  },
  {
   "cell_type": "code",
   "execution_count": 94,
   "id": "5c96f486",
   "metadata": {},
   "outputs": [
    {
     "data": {
      "text/plain": [
       "2games_ago      4159\n",
       "3games_ago      9183\n",
       "4games_ago     14167\n",
       "5games_ago     18696\n",
       "6games_ago     22780\n",
       "7games_ago     26665\n",
       "8games_ago     30019\n",
       "9games_ago     33245\n",
       "10games_ago    36250\n",
       "11games_ago    39109\n",
       "target             0\n",
       "dtype: int64"
      ]
     },
     "execution_count": 94,
     "metadata": {},
     "output_type": "execute_result"
    }
   ],
   "source": [
    "df_data.isnull().sum()"
   ]
  },
  {
   "cell_type": "markdown",
   "id": "070d25b4",
   "metadata": {},
   "source": [
    "#### 2022/11/23\n",
    "- 6試合以上の成績が残っていない馬は除外"
   ]
  },
  {
   "cell_type": "code",
   "execution_count": 95,
   "id": "6bcf1ab7",
   "metadata": {},
   "outputs": [
    {
     "data": {
      "text/html": [
       "<div>\n",
       "<style scoped>\n",
       "    .dataframe tbody tr th:only-of-type {\n",
       "        vertical-align: middle;\n",
       "    }\n",
       "\n",
       "    .dataframe tbody tr th {\n",
       "        vertical-align: top;\n",
       "    }\n",
       "\n",
       "    .dataframe thead th {\n",
       "        text-align: right;\n",
       "    }\n",
       "</style>\n",
       "<table border=\"1\" class=\"dataframe\">\n",
       "  <thead>\n",
       "    <tr style=\"text-align: right;\">\n",
       "      <th></th>\n",
       "      <th>2games_ago</th>\n",
       "      <th>3games_ago</th>\n",
       "      <th>4games_ago</th>\n",
       "      <th>5games_ago</th>\n",
       "      <th>6games_ago</th>\n",
       "      <th>7games_ago</th>\n",
       "      <th>8games_ago</th>\n",
       "      <th>9games_ago</th>\n",
       "      <th>10games_ago</th>\n",
       "      <th>11games_ago</th>\n",
       "    </tr>\n",
       "    <tr>\n",
       "      <th>horse_id</th>\n",
       "      <th></th>\n",
       "      <th></th>\n",
       "      <th></th>\n",
       "      <th></th>\n",
       "      <th></th>\n",
       "      <th></th>\n",
       "      <th></th>\n",
       "      <th></th>\n",
       "      <th></th>\n",
       "      <th></th>\n",
       "    </tr>\n",
       "  </thead>\n",
       "  <tbody>\n",
       "    <tr>\n",
       "      <th>1988105984</th>\n",
       "      <td>0.600000</td>\n",
       "      <td>0.333333</td>\n",
       "      <td>0.066667</td>\n",
       "      <td>0.538462</td>\n",
       "      <td>0.083333</td>\n",
       "      <td>0.071429</td>\n",
       "      <td>0.8125</td>\n",
       "      <td>0.363636</td>\n",
       "      <td>0.214286</td>\n",
       "      <td>0.083333</td>\n",
       "    </tr>\n",
       "    <tr>\n",
       "      <th>1992100038</th>\n",
       "      <td>0.555556</td>\n",
       "      <td>0.636364</td>\n",
       "      <td>0.375000</td>\n",
       "      <td>0.333333</td>\n",
       "      <td>0.833333</td>\n",
       "      <td>0.722222</td>\n",
       "      <td>0.6875</td>\n",
       "      <td>0.866667</td>\n",
       "      <td>0.800000</td>\n",
       "      <td>0.545455</td>\n",
       "    </tr>\n",
       "    <tr>\n",
       "      <th>1992101546</th>\n",
       "      <td>0.285714</td>\n",
       "      <td>0.250000</td>\n",
       "      <td>0.250000</td>\n",
       "      <td>0.750000</td>\n",
       "      <td>0.333333</td>\n",
       "      <td>0.625000</td>\n",
       "      <td>0.7000</td>\n",
       "      <td>0.857143</td>\n",
       "      <td>1.000000</td>\n",
       "      <td>0.846154</td>\n",
       "    </tr>\n",
       "    <tr>\n",
       "      <th>1992102844</th>\n",
       "      <td>0.666667</td>\n",
       "      <td>0.588235</td>\n",
       "      <td>0.266667</td>\n",
       "      <td>0.625000</td>\n",
       "      <td>0.416667</td>\n",
       "      <td>0.388889</td>\n",
       "      <td>0.0625</td>\n",
       "      <td>0.111111</td>\n",
       "      <td>0.750000</td>\n",
       "      <td>0.200000</td>\n",
       "    </tr>\n",
       "    <tr>\n",
       "      <th>1992104930</th>\n",
       "      <td>0.833333</td>\n",
       "      <td>0.900000</td>\n",
       "      <td>0.900000</td>\n",
       "      <td>0.800000</td>\n",
       "      <td>0.333333</td>\n",
       "      <td>1.000000</td>\n",
       "      <td>0.7500</td>\n",
       "      <td>0.857143</td>\n",
       "      <td>0.600000</td>\n",
       "      <td>0.636364</td>\n",
       "    </tr>\n",
       "  </tbody>\n",
       "</table>\n",
       "</div>"
      ],
      "text/plain": [
       "            2games_ago  3games_ago  4games_ago  5games_ago  6games_ago  \\\n",
       "horse_id                                                                 \n",
       "1988105984    0.600000    0.333333    0.066667    0.538462    0.083333   \n",
       "1992100038    0.555556    0.636364    0.375000    0.333333    0.833333   \n",
       "1992101546    0.285714    0.250000    0.250000    0.750000    0.333333   \n",
       "1992102844    0.666667    0.588235    0.266667    0.625000    0.416667   \n",
       "1992104930    0.833333    0.900000    0.900000    0.800000    0.333333   \n",
       "\n",
       "            7games_ago  8games_ago  9games_ago  10games_ago  11games_ago  \n",
       "horse_id                                                                  \n",
       "1988105984    0.071429      0.8125    0.363636     0.214286     0.083333  \n",
       "1992100038    0.722222      0.6875    0.866667     0.800000     0.545455  \n",
       "1992101546    0.625000      0.7000    0.857143     1.000000     0.846154  \n",
       "1992102844    0.388889      0.0625    0.111111     0.750000     0.200000  \n",
       "1992104930    1.000000      0.7500    0.857143     0.600000     0.636364  "
      ]
     },
     "execution_count": 95,
     "metadata": {},
     "output_type": "execute_result"
    }
   ],
   "source": [
    "df_data = df_data[df_data['6games_ago'].notnull()]\n",
    "df_input.head()\n",
    "#df_input.head()\n",
    "#df_data.fillna(0.5, inplace=True)\n",
    "#df_temp.head()\n",
    "#df_data = df_data.dropna(subset=drop_list)\n",
    "#df_data = pd.concat([df_temp, df_data[['target']]], axis=1)"
   ]
  },
  {
   "cell_type": "code",
   "execution_count": 96,
   "id": "5a3c2a61",
   "metadata": {},
   "outputs": [
    {
     "data": {
      "text/plain": [
       "2games_ago         0\n",
       "3games_ago         0\n",
       "4games_ago         0\n",
       "5games_ago         0\n",
       "6games_ago      4084\n",
       "7games_ago      7969\n",
       "8games_ago     11323\n",
       "9games_ago     14549\n",
       "10games_ago    17554\n",
       "11games_ago    20413\n",
       "dtype: int64"
      ]
     },
     "execution_count": 96,
     "metadata": {},
     "output_type": "execute_result"
    }
   ],
   "source": [
    "df_input.isnull().sum()"
   ]
  },
  {
   "cell_type": "code",
   "execution_count": 110,
   "id": "92a16f84",
   "metadata": {},
   "outputs": [],
   "source": [
    "df_x = df_data.iloc[:, 0:-6]\n",
    "df_y = df_data.iloc[:, -1]"
   ]
  },
  {
   "cell_type": "code",
   "execution_count": 111,
   "id": "7f5b98e1",
   "metadata": {},
   "outputs": [
    {
     "name": "stdout",
     "output_type": "stream",
     "text": [
      "# train 0 :  63020\n",
      "# train 1 :  4230\n",
      "# test 0 :  15756\n",
      "# test 0 :  1057\n"
     ]
    }
   ],
   "source": [
    "x_train, x_test, y_train, y_test = train_test_split(df_x, df_y, test_size=0.2, stratify=df_y, random_state=0)\n",
    "\n",
    "print('# train 0 : ', len(y_train[y_train==0]))\n",
    "print('# train 1 : ', len(y_train[y_train==1]))\n",
    "\n",
    "print('# test 0 : ', len(y_test[y_test==0]))\n",
    "print('# test 0 : ', len(y_test[y_test==1]))"
   ]
  },
  {
   "cell_type": "code",
   "execution_count": 114,
   "id": "f21525a3",
   "metadata": {},
   "outputs": [
    {
     "name": "stderr",
     "output_type": "stream",
     "text": [
      "/usr/local/Caskroom/miniforge/base/envs/share-envs/lib/python3.10/site-packages/seaborn/_decorators.py:36: FutureWarning: Pass the following variable as a keyword arg: x. From version 0.12, the only valid positional argument will be `data`, and passing other arguments without an explicit keyword will result in an error or misinterpretation.\n",
      "  warnings.warn(\n"
     ]
    },
    {
     "data": {
      "text/plain": [
       "<AxesSubplot:xlabel='target', ylabel='count'>"
      ]
     },
     "execution_count": 114,
     "metadata": {},
     "output_type": "execute_result"
    },
    {
     "data": {
      "image/png": "[encoded data removed]",
      "text/plain": [
       "<Figure size 432x288 with 1 Axes>"
      ]
     },
     "metadata": {
      "needs_background": "light"
     },
     "output_type": "display_data"
    }
   ],
   "source": [
    "sns.countplot(y_train)"
   ]
  },
  {
   "cell_type": "code",
   "execution_count": 115,
   "id": "62fd5c0c",
   "metadata": {},
   "outputs": [
    {
     "name": "stderr",
     "output_type": "stream",
     "text": [
      "/usr/local/Caskroom/miniforge/base/envs/share-envs/lib/python3.10/site-packages/seaborn/_decorators.py:36: FutureWarning: Pass the following variable as a keyword arg: x. From version 0.12, the only valid positional argument will be `data`, and passing other arguments without an explicit keyword will result in an error or misinterpretation.\n",
      "  warnings.warn(\n"
     ]
    },
    {
     "data": {
      "text/plain": [
       "<AxesSubplot:xlabel='target', ylabel='count'>"
      ]
     },
     "execution_count": 115,
     "metadata": {},
     "output_type": "execute_result"
    },
    {
     "data": {
      "image/png": "[encoded data removed]",
      "text/plain": [
       "<Figure size 432x288 with 1 Axes>"
      ]
     },
     "metadata": {
      "needs_background": "light"
     },
     "output_type": "display_data"
    }
   ],
   "source": [
    "sns.countplot(y_test)"
   ]
  },
  {
   "cell_type": "markdown",
   "id": "fd6eda43",
   "metadata": {},
   "source": [
    "# Pipeline"
   ]
  },
  {
   "cell_type": "code",
   "execution_count": 116,
   "id": "7140e047",
   "metadata": {},
   "outputs": [],
   "source": [
    "from sklearn.pipeline import make_pipeline\n",
    "model_lrbl = LogisticRegression(penalty='l2', random_state=0, class_weight='balanced')\n",
    "model_lrno = LogisticRegression(penalty='l2', random_state=0, class_weight=None)\n",
    "#pipe_lrbl = make_pipeline(StandardScaler(), model_lrbl)\n",
    "#pipe_lrno = make_pipeline(StandardScaler(), model_"
   ]
  },
  {
   "cell_type": "markdown",
   "id": "a4b4616a",
   "metadata": {},
   "source": [
    "- weightをNoneにするとtarget0のデータに過学習してしまい、確率が小さい値に寄ってしまった。（気になるようだったら試してみてください）"
   ]
  },
  {
   "cell_type": "code",
   "execution_count": 117,
   "id": "6e95bd8d",
   "metadata": {},
   "outputs": [],
   "source": [
    "skfold = StratifiedKFold(n_splits=10, shuffle=True, random_state=1)"
   ]
  },
  {
   "cell_type": "code",
   "execution_count": 118,
   "id": "ae3b1ed5",
   "metadata": {},
   "outputs": [],
   "source": [
    "if grid_search_flag:\n",
    "    clf = GridSearchCV(estimator=model_lrbl, param_grid=param_grid, scoring='roc_auc', cv=10, n_jobs=-1, error_score='raise')\n",
    "    clf.fit(x_train, y_train)\n",
    "    best_model = clf.best_estimator_"
   ]
  },
  {
   "cell_type": "code",
   "execution_count": 132,
   "id": "c08ec219",
   "metadata": {},
   "outputs": [
    {
     "data": {
      "image/png": "[encoded data removed]",
      "text/plain": [
       "<Figure size 432x288 with 1 Axes>"
      ]
     },
     "metadata": {
      "needs_background": "light"
     },
     "output_type": "display_data"
    },
    {
     "name": "stdout",
     "output_type": "stream",
     "text": [
      "Best AUC score:  0.783123240822736\n"
     ]
    }
   ],
   "source": [
    "y_pred = best_model.predict_proba(x_train)[:, 1]\n",
    "\n",
    "fpr, tpr, thresholds = roc_curve(y_train, y_pred)\n",
    "plt.plot(fpr, tpr, label=\"ROC Curve\")\n",
    "plt.xlabel(\"FPR\")\n",
    "plt.ylabel(\"TPR\")\n",
    "plt.show()\n",
    "\n",
    "best_score = roc_auc_score(y_test, clf.predict_proba(x_test)[:, 1])\n",
    "print(\"Best AUC score: \", best_score)"
   ]
  },
  {
   "cell_type": "code",
   "execution_count": 157,
   "id": "45d84331",
   "metadata": {},
   "outputs": [
    {
     "name": "stdout",
     "output_type": "stream",
     "text": [
      "Best threshold:  0.9\n",
      "Best precision:  0.43902439024390244\n"
     ]
    }
   ],
   "source": [
    "best_score = 0\n",
    "best_threshold = 0\n",
    "for thr in threshold_grid:\n",
    "    y_pred = (clf.predict_proba(x_train)[:, 1] > thr) * 1\n",
    "    temp_score = precision_score(y_true=y_train, y_pred=y_pred)\n",
    "    if best_score < temp_score:\n",
    "        best_threshold = thr\n",
    "        best_score = temp_score\n",
    "\n",
    "print(\"Best threshold: \", best_threshold)\n",
    "print(\"Best precision: \", best_score)"
   ]
  },
  {
   "cell_type": "code",
   "execution_count": 158,
   "id": "f72e974d",
   "metadata": {},
   "outputs": [
    {
     "data": {
      "text/plain": [
       "0.9"
      ]
     },
     "execution_count": 158,
     "metadata": {},
     "output_type": "execute_result"
    }
   ],
   "source": [
    "best_threshold"
   ]
  },
  {
   "cell_type": "code",
   "execution_count": 160,
   "id": "dd2257b0",
   "metadata": {},
   "outputs": [
    {
     "name": "stdout",
     "output_type": "stream",
     "text": [
      "precision： 0.25\n",
      "recall： 0.002838221381267739\n",
      "f1 score： 0.005612722170252573\n",
      "confusion matrix = \n",
      " [[15747     9]\n",
      " [ 1054     3]]\n"
     ]
    }
   ],
   "source": [
    "y_pred_test = (clf.predict_proba(x_test)[:,1] > best_threshold) * 1\n",
    "print('precision：', precision_score(y_true=y_test, y_pred=y_pred_test))\n",
    "print('recall：', recall_score(y_true=y_test, y_pred=y_pred_test))\n",
    "print('f1 score：', f1_score(y_true=y_test, y_pred=y_pred_test))\n",
    "print('confusion matrix = \\n', confusion_matrix(y_true=y_test, y_pred=y_pred_test))"
   ]
  },
  {
   "cell_type": "markdown",
   "id": "5807df82",
   "metadata": {},
   "source": [
    "# train, testそれぞれのProbabilityを見てみる\n",
    "## train"
   ]
  },
  {
   "cell_type": "code",
   "execution_count": 126,
   "id": "576f2e15",
   "metadata": {
    "scrolled": false
   },
   "outputs": [
    {
     "data": {
      "text/plain": [
       "<AxesSubplot:ylabel='Count'>"
      ]
     },
     "execution_count": 126,
     "metadata": {},
     "output_type": "execute_result"
    },
    {
     "data": {
      "image/png": "[encoded data removed]",
      "text/plain": [
       "<Figure size 432x288 with 1 Axes>"
      ]
     },
     "metadata": {
      "needs_background": "light"
     },
     "output_type": "display_data"
    }
   ],
   "source": [
    "y_pred_train = clf.predict_proba(x_train)[:,1] \n",
    "sns.histplot(y_pred_train)"
   ]
  },
  {
   "cell_type": "code",
   "execution_count": 127,
   "id": "073987f0",
   "metadata": {},
   "outputs": [
    {
     "data": {
      "text/html": [
       "<div>\n",
       "<style scoped>\n",
       "    .dataframe tbody tr th:only-of-type {\n",
       "        vertical-align: middle;\n",
       "    }\n",
       "\n",
       "    .dataframe tbody tr th {\n",
       "        vertical-align: top;\n",
       "    }\n",
       "\n",
       "    .dataframe thead th {\n",
       "        text-align: right;\n",
       "    }\n",
       "</style>\n",
       "<table border=\"1\" class=\"dataframe\">\n",
       "  <thead>\n",
       "    <tr style=\"text-align: right;\">\n",
       "      <th></th>\n",
       "      <th>0</th>\n",
       "      <th>1</th>\n",
       "    </tr>\n",
       "  </thead>\n",
       "  <tbody>\n",
       "    <tr>\n",
       "      <th>0</th>\n",
       "      <td>1.0</td>\n",
       "      <td>0.695573</td>\n",
       "    </tr>\n",
       "    <tr>\n",
       "      <th>1</th>\n",
       "      <td>0.0</td>\n",
       "      <td>0.247547</td>\n",
       "    </tr>\n",
       "    <tr>\n",
       "      <th>2</th>\n",
       "      <td>1.0</td>\n",
       "      <td>0.756709</td>\n",
       "    </tr>\n",
       "    <tr>\n",
       "      <th>3</th>\n",
       "      <td>0.0</td>\n",
       "      <td>0.643954</td>\n",
       "    </tr>\n",
       "    <tr>\n",
       "      <th>4</th>\n",
       "      <td>0.0</td>\n",
       "      <td>0.638811</td>\n",
       "    </tr>\n",
       "  </tbody>\n",
       "</table>\n",
       "</div>"
      ],
      "text/plain": [
       "     0         1\n",
       "0  1.0  0.695573\n",
       "1  0.0  0.247547\n",
       "2  1.0  0.756709\n",
       "3  0.0  0.643954\n",
       "4  0.0  0.638811"
      ]
     },
     "execution_count": 127,
     "metadata": {},
     "output_type": "execute_result"
    }
   ],
   "source": [
    "np_y_true_train = y_train.to_numpy()\n",
    "np_concat = [np_y_true_train, y_pred_train]\n",
    "df_concat_train = pd.DataFrame(np_concat)\n",
    "df_concat_train = df_concat_train.T\n",
    "df_concat_train.head()"
   ]
  },
  {
   "cell_type": "code",
   "execution_count": 161,
   "id": "43c95bc9",
   "metadata": {},
   "outputs": [
    {
     "data": {
      "text/plain": [
       "<AxesSubplot:xlabel='1', ylabel='Count'>"
      ]
     },
     "execution_count": 161,
     "metadata": {},
     "output_type": "execute_result"
    },
    {
     "data": {
      "image/png": "[encoded data removed]",
      "text/plain": [
       "<Figure size 720x360 with 2 Axes>"
      ]
     },
     "metadata": {
      "needs_background": "light"
     },
     "output_type": "display_data"
    }
   ],
   "source": [
    "fig, ax = plt.subplots(1, 2, figsize = (10,5))\n",
    "ax[0].set_xlim(0.5, 1)\n",
    "ax[0].set_ylim(0, 1000)\n",
    "ax[0].set_xlabel('0')\n",
    "ax[1].set_xlim(0.5, 1)\n",
    "ax[1].set_ylim(0, 1000)\n",
    "ax[1].set_xlabel('1')\n",
    "sns.histplot(data=df_concat_train[df_concat_train.iloc[:, 0]==0].iloc[:, 1], ax=ax[0], bins=100)\n",
    "sns.histplot(data=df_concat_train[df_concat_train.iloc[:, 0]==1].iloc[:, 1], ax=ax[1], bins=100)"
   ]
  },
  {
   "cell_type": "markdown",
   "id": "8ee2c0b9",
   "metadata": {},
   "source": [
    "## test"
   ]
  },
  {
   "cell_type": "code",
   "execution_count": 162,
   "id": "4ea6a35b",
   "metadata": {},
   "outputs": [
    {
     "data": {
      "text/plain": [
       "<AxesSubplot:xlabel='1', ylabel='Count'>"
      ]
     },
     "execution_count": 162,
     "metadata": {},
     "output_type": "execute_result"
    },
    {
     "data": {
      "image/png": "[encoded data removed]",
      "text/plain": [
       "<Figure size 720x360 with 2 Axes>"
      ]
     },
     "metadata": {
      "needs_background": "light"
     },
     "output_type": "display_data"
    }
   ],
   "source": [
    "y_pred_test = clf.predict_proba(x_test)[:,1] \n",
    "#sns.histplot(y_pred_test)\n",
    "\n",
    "np_y_true_test = y_test.to_numpy()\n",
    "np_concat = [np_y_true_test, y_pred_test]\n",
    "df_concat_test = pd.DataFrame(np_concat)\n",
    "df_concat_test = df_concat_test.T\n",
    "df_concat_test.head()\n",
    "\n",
    "fig, ax = plt.subplots(1, 2, figsize = (10,5))\n",
    "ax[0].set_xlim(0.5, 1)\n",
    "ax[0].set_ylim(0, 100)\n",
    "ax[0].set_xlabel('0')\n",
    "ax[1].set_xlim(0.5, 1)\n",
    "ax[1].set_ylim(0, 100)\n",
    "ax[1].set_xlabel('1')\n",
    "sns.histplot(data=df_concat_test[df_concat_test.iloc[:, 0]==0].iloc[:, 1], ax=ax[0], bins=100)\n",
    "sns.histplot(data=df_concat_test[df_concat_test.iloc[:, 0]==1].iloc[:, 1], ax=ax[1], bins=100)"
   ]
  },
  {
   "cell_type": "markdown",
   "id": "2c40680f",
   "metadata": {},
   "source": [
    "### 2022/11/12\n",
    "- N/Aを0.5で埋めていることが起因しているのかx=0.5付近のcountが多い。\n",
    " - 0.5付近の確率となる馬のデータを確認してみる。\n",
    " - 補完値を変更 or 一定の試合数の馬のみにデータを絞る 等も試してみる必要がある\n",
    "  \n",
    "- 神様であるtestを見ると、このモデルでは上手くthresholdを設定してもprecsionを上げることは難しそう。モデルの変更か相当素晴らしい特徴量を追加する必要がある？\\"
   ]
  },
  {
   "cell_type": "markdown",
   "id": "564c70d0",
   "metadata": {},
   "source": [
    "### 2022/11/23\n",
    "- トレーニングデータは値補完することを諦め、6試合以上の成績がある馬のみにしぼることでprecisionは0.15→0.25程度に向上した。やはり試合数を重ねた馬でないと予測は難しい気がする"
   ]
  },
  {
   "cell_type": "code",
   "execution_count": null,
   "id": "30faf1c8",
   "metadata": {},
   "outputs": [],
   "source": []
  }
 ],
 "metadata": {
  "kernelspec": {
   "display_name": "Python 3 (ipykernel)",
   "language": "python",
   "name": "python3"
  },
  "language_info": {
   "codemirror_mode": {
    "name": "ipython",
    "version": 3
   },
   "file_extension": ".py",
   "mimetype": "text/x-python",
   "name": "python",
   "nbconvert_exporter": "python",
   "pygments_lexer": "ipython3",
   "version": "3.10.5"
  }
 },
 "nbformat": 4,
 "nbformat_minor": 5
}
