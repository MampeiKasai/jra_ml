{
 "cells": [
  {
   "cell_type": "markdown",
   "id": "4d1f0a0f",
   "metadata": {},
   "source": [
    "# Library"
   ]
  },
  {
   "cell_type": "code",
   "execution_count": 66,
   "id": "b4879c5c",
   "metadata": {},
   "outputs": [],
   "source": [
    "import seaborn as sns\n",
    "import pandas as pd\n",
    "import matplotlib.pyplot as plt\n",
    "import numpy as np\n",
    "\n",
    "from sklearn.model_selection import train_test_split\n",
    "from sklearn.linear_model import LogisticRegression\n",
    "from sklearn.model_selection import GridSearchCV, StratifiedKFold, cross_val_score\n",
    "from sklearn.pipeline import make_pipeline\n",
    "\n",
    "from sklearn.metrics import confusion_matrix, accuracy_score, precision_score, recall_score, f1_score\n",
    "\n",
    "from sklearn.preprocessing import StandardScaler\n",
    "\n",
    "from sklearn.metrics import roc_curve, roc_auc_score"
   ]
  },
  {
   "cell_type": "markdown",
   "id": "73ead2ce",
   "metadata": {},
   "source": [
    "# Import data"
   ]
  },
  {
   "cell_type": "code",
   "execution_count": 96,
   "id": "e85ab128",
   "metadata": {},
   "outputs": [],
   "source": [
    "target_file = './data/input/input.csv'\n",
    "\n",
    "df_data = pd.read_csv(target_file)\n",
    "df_data = df_data.set_index(['horse_id'])"
   ]
  },
  {
   "cell_type": "code",
   "execution_count": 99,
   "id": "1380c390",
   "metadata": {},
   "outputs": [
    {
     "name": "stdout",
     "output_type": "stream",
     "text": [
      "                2試合前      3試合前      4試合前      5試合前      6試合前      7試合前  \\\n",
      "horse_id                                                                 \n",
      "1988105984  0.600000  0.333333  0.066667  0.538462  0.083333  0.071429   \n",
      "1991103531  0.461538  0.666667  0.375000       NaN       NaN       NaN   \n",
      "1991190011       NaN       NaN       NaN       NaN       NaN       NaN   \n",
      "1992100038  0.555556  0.636364  0.375000  0.333333  0.833333  0.722222   \n",
      "1992101546  0.285714  0.250000  0.250000  0.750000  0.333333  0.625000   \n",
      "\n",
      "              8試合前      9試合前     10試合前     11試合前  target  \n",
      "horse_id                                                  \n",
      "1988105984  0.8125  0.363636  0.214286  0.083333     0.0  \n",
      "1991103531     NaN       NaN       NaN       NaN     0.0  \n",
      "1991190011     NaN       NaN       NaN       NaN     0.0  \n",
      "1992100038  0.6875  0.866667  0.800000  0.545455     0.0  \n",
      "1992101546  0.7000  0.857143  1.000000  0.846154     0.0  \n",
      "(106843, 11)\n"
     ]
    }
   ],
   "source": [
    "print(df_data.head())\n",
    "print(df_data.shape)"
   ]
  },
  {
   "cell_type": "markdown",
   "id": "d85b0450",
   "metadata": {},
   "source": [
    "# Preprocessing"
   ]
  },
  {
   "cell_type": "code",
   "execution_count": 64,
   "id": "c474a032",
   "metadata": {},
   "outputs": [],
   "source": [
    "column  = []\n",
    "n_game = 2\n",
    "for c in df_data.columns:\n",
    "    if c != 'target':\n",
    "        column.append(str(n_game) + 'games_ago')\n",
    "        n_game += 1\n",
    "    else:\n",
    "        column.append('target')"
   ]
  },
  {
   "cell_type": "code",
   "execution_count": 51,
   "id": "f627b1d5",
   "metadata": {},
   "outputs": [
    {
     "data": {
      "text/html": [
       "<div>\n",
       "<style scoped>\n",
       "    .dataframe tbody tr th:only-of-type {\n",
       "        vertical-align: middle;\n",
       "    }\n",
       "\n",
       "    .dataframe tbody tr th {\n",
       "        vertical-align: top;\n",
       "    }\n",
       "\n",
       "    .dataframe thead th {\n",
       "        text-align: right;\n",
       "    }\n",
       "</style>\n",
       "<table border=\"1\" class=\"dataframe\">\n",
       "  <thead>\n",
       "    <tr style=\"text-align: right;\">\n",
       "      <th></th>\n",
       "      <th>2games_ago</th>\n",
       "      <th>3games_ago</th>\n",
       "      <th>4games_ago</th>\n",
       "      <th>5games_ago</th>\n",
       "      <th>6games_ago</th>\n",
       "      <th>7games_ago</th>\n",
       "      <th>8games_ago</th>\n",
       "      <th>9games_ago</th>\n",
       "      <th>10games_ago</th>\n",
       "      <th>11games_ago</th>\n",
       "      <th>target</th>\n",
       "    </tr>\n",
       "    <tr>\n",
       "      <th>horse_id</th>\n",
       "      <th></th>\n",
       "      <th></th>\n",
       "      <th></th>\n",
       "      <th></th>\n",
       "      <th></th>\n",
       "      <th></th>\n",
       "      <th></th>\n",
       "      <th></th>\n",
       "      <th></th>\n",
       "      <th></th>\n",
       "      <th></th>\n",
       "    </tr>\n",
       "  </thead>\n",
       "  <tbody>\n",
       "    <tr>\n",
       "      <th>1988105984</th>\n",
       "      <td>0.600000</td>\n",
       "      <td>0.333333</td>\n",
       "      <td>0.066667</td>\n",
       "      <td>0.538462</td>\n",
       "      <td>0.083333</td>\n",
       "      <td>0.071429</td>\n",
       "      <td>0.8125</td>\n",
       "      <td>0.363636</td>\n",
       "      <td>0.214286</td>\n",
       "      <td>0.083333</td>\n",
       "      <td>0.0</td>\n",
       "    </tr>\n",
       "    <tr>\n",
       "      <th>1991103531</th>\n",
       "      <td>0.461538</td>\n",
       "      <td>0.666667</td>\n",
       "      <td>0.375000</td>\n",
       "      <td>NaN</td>\n",
       "      <td>NaN</td>\n",
       "      <td>NaN</td>\n",
       "      <td>NaN</td>\n",
       "      <td>NaN</td>\n",
       "      <td>NaN</td>\n",
       "      <td>NaN</td>\n",
       "      <td>0.0</td>\n",
       "    </tr>\n",
       "    <tr>\n",
       "      <th>1991190011</th>\n",
       "      <td>NaN</td>\n",
       "      <td>NaN</td>\n",
       "      <td>NaN</td>\n",
       "      <td>NaN</td>\n",
       "      <td>NaN</td>\n",
       "      <td>NaN</td>\n",
       "      <td>NaN</td>\n",
       "      <td>NaN</td>\n",
       "      <td>NaN</td>\n",
       "      <td>NaN</td>\n",
       "      <td>0.0</td>\n",
       "    </tr>\n",
       "    <tr>\n",
       "      <th>1992100038</th>\n",
       "      <td>0.555556</td>\n",
       "      <td>0.636364</td>\n",
       "      <td>0.375000</td>\n",
       "      <td>0.333333</td>\n",
       "      <td>0.833333</td>\n",
       "      <td>0.722222</td>\n",
       "      <td>0.6875</td>\n",
       "      <td>0.866667</td>\n",
       "      <td>0.800000</td>\n",
       "      <td>0.545455</td>\n",
       "      <td>0.0</td>\n",
       "    </tr>\n",
       "    <tr>\n",
       "      <th>1992101546</th>\n",
       "      <td>0.285714</td>\n",
       "      <td>0.250000</td>\n",
       "      <td>0.250000</td>\n",
       "      <td>0.750000</td>\n",
       "      <td>0.333333</td>\n",
       "      <td>0.625000</td>\n",
       "      <td>0.7000</td>\n",
       "      <td>0.857143</td>\n",
       "      <td>1.000000</td>\n",
       "      <td>0.846154</td>\n",
       "      <td>0.0</td>\n",
       "    </tr>\n",
       "  </tbody>\n",
       "</table>\n",
       "</div>"
      ],
      "text/plain": [
       "            2games_ago  3games_ago  4games_ago  5games_ago  6games_ago  \\\n",
       "horse_id                                                                 \n",
       "1988105984    0.600000    0.333333    0.066667    0.538462    0.083333   \n",
       "1991103531    0.461538    0.666667    0.375000         NaN         NaN   \n",
       "1991190011         NaN         NaN         NaN         NaN         NaN   \n",
       "1992100038    0.555556    0.636364    0.375000    0.333333    0.833333   \n",
       "1992101546    0.285714    0.250000    0.250000    0.750000    0.333333   \n",
       "\n",
       "            7games_ago  8games_ago  9games_ago  10games_ago  11games_ago  \\\n",
       "horse_id                                                                   \n",
       "1988105984    0.071429      0.8125    0.363636     0.214286     0.083333   \n",
       "1991103531         NaN         NaN         NaN          NaN          NaN   \n",
       "1991190011         NaN         NaN         NaN          NaN          NaN   \n",
       "1992100038    0.722222      0.6875    0.866667     0.800000     0.545455   \n",
       "1992101546    0.625000      0.7000    0.857143     1.000000     0.846154   \n",
       "\n",
       "            target  \n",
       "horse_id            \n",
       "1988105984     0.0  \n",
       "1991103531     0.0  \n",
       "1991190011     0.0  \n",
       "1992100038     0.0  \n",
       "1992101546     0.0  "
      ]
     },
     "execution_count": 51,
     "metadata": {},
     "output_type": "execute_result"
    }
   ],
   "source": [
    "df_data.columns = column\n",
    "df_data.head()"
   ]
  },
  {
   "cell_type": "code",
   "execution_count": 52,
   "id": "6923ef7c",
   "metadata": {},
   "outputs": [
    {
     "data": {
      "text/plain": [
       "2games_ago      4159\n",
       "3games_ago      9183\n",
       "4games_ago     14167\n",
       "5games_ago     18696\n",
       "6games_ago     22780\n",
       "7games_ago     26665\n",
       "8games_ago     30019\n",
       "9games_ago     33245\n",
       "10games_ago    36250\n",
       "11games_ago    39109\n",
       "target             0\n",
       "dtype: int64"
      ]
     },
     "execution_count": 52,
     "metadata": {},
     "output_type": "execute_result"
    }
   ],
   "source": [
    "df_data.isnull().sum()"
   ]
  },
  {
   "cell_type": "code",
   "execution_count": 53,
   "id": "8eff7d36",
   "metadata": {},
   "outputs": [
    {
     "data": {
      "text/html": [
       "<div>\n",
       "<style scoped>\n",
       "    .dataframe tbody tr th:only-of-type {\n",
       "        vertical-align: middle;\n",
       "    }\n",
       "\n",
       "    .dataframe tbody tr th {\n",
       "        vertical-align: top;\n",
       "    }\n",
       "\n",
       "    .dataframe thead th {\n",
       "        text-align: right;\n",
       "    }\n",
       "</style>\n",
       "<table border=\"1\" class=\"dataframe\">\n",
       "  <thead>\n",
       "    <tr style=\"text-align: right;\">\n",
       "      <th></th>\n",
       "      <th>2games_ago</th>\n",
       "      <th>3games_ago</th>\n",
       "      <th>4games_ago</th>\n",
       "      <th>5games_ago</th>\n",
       "      <th>6games_ago</th>\n",
       "      <th>7games_ago</th>\n",
       "      <th>8games_ago</th>\n",
       "      <th>9games_ago</th>\n",
       "      <th>10games_ago</th>\n",
       "      <th>11games_ago</th>\n",
       "      <th>target</th>\n",
       "    </tr>\n",
       "    <tr>\n",
       "      <th>horse_id</th>\n",
       "      <th></th>\n",
       "      <th></th>\n",
       "      <th></th>\n",
       "      <th></th>\n",
       "      <th></th>\n",
       "      <th></th>\n",
       "      <th></th>\n",
       "      <th></th>\n",
       "      <th></th>\n",
       "      <th></th>\n",
       "      <th></th>\n",
       "    </tr>\n",
       "  </thead>\n",
       "  <tbody>\n",
       "    <tr>\n",
       "      <th>1988105984</th>\n",
       "      <td>0.600000</td>\n",
       "      <td>0.333333</td>\n",
       "      <td>0.066667</td>\n",
       "      <td>0.538462</td>\n",
       "      <td>0.083333</td>\n",
       "      <td>0.071429</td>\n",
       "      <td>0.8125</td>\n",
       "      <td>0.363636</td>\n",
       "      <td>0.214286</td>\n",
       "      <td>0.083333</td>\n",
       "      <td>0.0</td>\n",
       "    </tr>\n",
       "    <tr>\n",
       "      <th>1991103531</th>\n",
       "      <td>0.461538</td>\n",
       "      <td>0.666667</td>\n",
       "      <td>0.375000</td>\n",
       "      <td>0.500000</td>\n",
       "      <td>0.500000</td>\n",
       "      <td>0.500000</td>\n",
       "      <td>0.5000</td>\n",
       "      <td>0.500000</td>\n",
       "      <td>0.500000</td>\n",
       "      <td>0.500000</td>\n",
       "      <td>0.0</td>\n",
       "    </tr>\n",
       "    <tr>\n",
       "      <th>1991190011</th>\n",
       "      <td>0.500000</td>\n",
       "      <td>0.500000</td>\n",
       "      <td>0.500000</td>\n",
       "      <td>0.500000</td>\n",
       "      <td>0.500000</td>\n",
       "      <td>0.500000</td>\n",
       "      <td>0.5000</td>\n",
       "      <td>0.500000</td>\n",
       "      <td>0.500000</td>\n",
       "      <td>0.500000</td>\n",
       "      <td>0.0</td>\n",
       "    </tr>\n",
       "    <tr>\n",
       "      <th>1992100038</th>\n",
       "      <td>0.555556</td>\n",
       "      <td>0.636364</td>\n",
       "      <td>0.375000</td>\n",
       "      <td>0.333333</td>\n",
       "      <td>0.833333</td>\n",
       "      <td>0.722222</td>\n",
       "      <td>0.6875</td>\n",
       "      <td>0.866667</td>\n",
       "      <td>0.800000</td>\n",
       "      <td>0.545455</td>\n",
       "      <td>0.0</td>\n",
       "    </tr>\n",
       "    <tr>\n",
       "      <th>1992101546</th>\n",
       "      <td>0.285714</td>\n",
       "      <td>0.250000</td>\n",
       "      <td>0.250000</td>\n",
       "      <td>0.750000</td>\n",
       "      <td>0.333333</td>\n",
       "      <td>0.625000</td>\n",
       "      <td>0.7000</td>\n",
       "      <td>0.857143</td>\n",
       "      <td>1.000000</td>\n",
       "      <td>0.846154</td>\n",
       "      <td>0.0</td>\n",
       "    </tr>\n",
       "  </tbody>\n",
       "</table>\n",
       "</div>"
      ],
      "text/plain": [
       "            2games_ago  3games_ago  4games_ago  5games_ago  6games_ago  \\\n",
       "horse_id                                                                 \n",
       "1988105984    0.600000    0.333333    0.066667    0.538462    0.083333   \n",
       "1991103531    0.461538    0.666667    0.375000    0.500000    0.500000   \n",
       "1991190011    0.500000    0.500000    0.500000    0.500000    0.500000   \n",
       "1992100038    0.555556    0.636364    0.375000    0.333333    0.833333   \n",
       "1992101546    0.285714    0.250000    0.250000    0.750000    0.333333   \n",
       "\n",
       "            7games_ago  8games_ago  9games_ago  10games_ago  11games_ago  \\\n",
       "horse_id                                                                   \n",
       "1988105984    0.071429      0.8125    0.363636     0.214286     0.083333   \n",
       "1991103531    0.500000      0.5000    0.500000     0.500000     0.500000   \n",
       "1991190011    0.500000      0.5000    0.500000     0.500000     0.500000   \n",
       "1992100038    0.722222      0.6875    0.866667     0.800000     0.545455   \n",
       "1992101546    0.625000      0.7000    0.857143     1.000000     0.846154   \n",
       "\n",
       "            target  \n",
       "horse_id            \n",
       "1988105984     0.0  \n",
       "1991103531     0.0  \n",
       "1991190011     0.0  \n",
       "1992100038     0.0  \n",
       "1992101546     0.0  "
      ]
     },
     "execution_count": 53,
     "metadata": {},
     "output_type": "execute_result"
    }
   ],
   "source": [
    "df_data.fillna(0.5, inplace=True)\n",
    "df_data.head()"
   ]
  },
  {
   "cell_type": "code",
   "execution_count": 89,
   "id": "556b1ce0",
   "metadata": {},
   "outputs": [],
   "source": [
    "df_x = df_data.iloc[:, 0:-6]\n",
    "df_y = df_data.iloc[:, -1]"
   ]
  },
  {
   "cell_type": "code",
   "execution_count": 116,
   "id": "d5a19aaf",
   "metadata": {},
   "outputs": [
    {
     "name": "stdout",
     "output_type": "stream",
     "text": [
      "# train 0 :  80196\n",
      "# train 1 :  5278\n",
      "# test 0 :  20049\n",
      "# test 0 :  1320\n"
     ]
    }
   ],
   "source": [
    "x_train, x_test, y_train, y_test = train_test_split(df_x, df_y, test_size=0.2, stratify=df_y, random_state=0)\n",
    "\n",
    "print('# train 0 : ', len(y_train[y_train==0]))\n",
    "print('# train 1 : ', len(y_train[y_train==1]))\n",
    "\n",
    "print('# test 0 : ', len(y_test[y_test==0]))\n",
    "print('# test 0 : ', len(y_test[y_test==1]))"
   ]
  },
  {
   "cell_type": "code",
   "execution_count": 133,
   "id": "9081ef11",
   "metadata": {},
   "outputs": [
    {
     "name": "stderr",
     "output_type": "stream",
     "text": [
      "/usr/local/Caskroom/miniforge/base/envs/share-envs/lib/python3.10/site-packages/seaborn/_decorators.py:36: FutureWarning: Pass the following variable as a keyword arg: x. From version 0.12, the only valid positional argument will be `data`, and passing other arguments without an explicit keyword will result in an error or misinterpretation.\n",
      "  warnings.warn(\n"
     ]
    },
    {
     "data": {
      "text/plain": [
       "<AxesSubplot:xlabel='target', ylabel='count'>"
      ]
     },
     "execution_count": 133,
     "metadata": {},
     "output_type": "execute_result"
    },
    {
     "data": {
      "image/png": "[encoded data removed]",
      "text/plain": [
       "<Figure size 640x480 with 1 Axes>"
      ]
     },
     "metadata": {},
     "output_type": "display_data"
    }
   ],
   "source": [
    "sns.countplot(y_train)"
   ]
  },
  {
   "cell_type": "code",
   "execution_count": 134,
   "id": "ccad0f3f",
   "metadata": {},
   "outputs": [
    {
     "name": "stderr",
     "output_type": "stream",
     "text": [
      "/usr/local/Caskroom/miniforge/base/envs/share-envs/lib/python3.10/site-packages/seaborn/_decorators.py:36: FutureWarning: Pass the following variable as a keyword arg: x. From version 0.12, the only valid positional argument will be `data`, and passing other arguments without an explicit keyword will result in an error or misinterpretation.\n",
      "  warnings.warn(\n"
     ]
    },
    {
     "data": {
      "text/plain": [
       "<AxesSubplot:xlabel='target', ylabel='count'>"
      ]
     },
     "execution_count": 134,
     "metadata": {},
     "output_type": "execute_result"
    },
    {
     "data": {
      "image/png": "[encoded data removed]",
      "text/plain": [
       "<Figure size 640x480 with 1 Axes>"
      ]
     },
     "metadata": {},
     "output_type": "display_data"
    }
   ],
   "source": [
    "sns.countplot(y_test)"
   ]
  },
  {
   "cell_type": "markdown",
   "id": "c19dd7ec",
   "metadata": {},
   "source": [
    "# Pipeline"
   ]
  },
  {
   "cell_type": "code",
   "execution_count": 375,
   "id": "6ed3cba2",
   "metadata": {},
   "outputs": [],
   "source": [
    "from sklearn.pipeline import make_pipeline\n",
    "model_lrbl = LogisticRegression(penalty='l2', random_state=0, class_weight='balanced')\n",
    "model_lrno = LogisticRegression(penalty='l2', random_state=0, class_weight=None)\n",
    "#pipe_lrbl = make_pipeline(StandardScaler(), model_lrbl)\n",
    "#pipe_lrno = make_pipeline(StandardScaler(), model_"
   ]
  },
  {
   "cell_type": "markdown",
   "id": "2a2a5e14",
   "metadata": {},
   "source": [
    "- weightをNoneにするとtarget0のデータに過学習してしまい、確率が小さい値に寄ってしまった。（気になるようだったら試してみてください）"
   ]
  },
  {
   "cell_type": "code",
   "execution_count": 376,
   "id": "b45bbbac",
   "metadata": {},
   "outputs": [],
   "source": [
    "skfold = StratifiedKFold(n_splits=10, shuffle=True, random_state=1)"
   ]
  },
  {
   "cell_type": "code",
   "execution_count": 391,
   "id": "2580a9ee",
   "metadata": {},
   "outputs": [],
   "source": [
    "clf = GridSearchCV(estimator=model_lrbl, param_grid=param_grid, scoring='roc_auc', cv=10, n_jobs=-1)\n",
    "clf.fit(x_train, y_train)\n",
    "best_model = clf.best_estimator_"
   ]
  },
  {
   "cell_type": "code",
   "execution_count": 392,
   "id": "7ee87940",
   "metadata": {},
   "outputs": [
    {
     "data": {
      "text/html": [
       "<div>\n",
       "<style scoped>\n",
       "    .dataframe tbody tr th:only-of-type {\n",
       "        vertical-align: middle;\n",
       "    }\n",
       "\n",
       "    .dataframe tbody tr th {\n",
       "        vertical-align: top;\n",
       "    }\n",
       "\n",
       "    .dataframe thead th {\n",
       "        text-align: right;\n",
       "    }\n",
       "</style>\n",
       "<table border=\"1\" class=\"dataframe\">\n",
       "  <thead>\n",
       "    <tr style=\"text-align: right;\">\n",
       "      <th></th>\n",
       "      <th>mean_fit_time</th>\n",
       "      <th>std_fit_time</th>\n",
       "      <th>mean_score_time</th>\n",
       "      <th>std_score_time</th>\n",
       "      <th>param_C</th>\n",
       "      <th>params</th>\n",
       "      <th>split0_test_score</th>\n",
       "      <th>split1_test_score</th>\n",
       "      <th>split2_test_score</th>\n",
       "      <th>split3_test_score</th>\n",
       "      <th>split4_test_score</th>\n",
       "      <th>split5_test_score</th>\n",
       "      <th>split6_test_score</th>\n",
       "      <th>split7_test_score</th>\n",
       "      <th>split8_test_score</th>\n",
       "      <th>split9_test_score</th>\n",
       "      <th>mean_test_score</th>\n",
       "      <th>std_test_score</th>\n",
       "      <th>rank_test_score</th>\n",
       "    </tr>\n",
       "  </thead>\n",
       "  <tbody>\n",
       "    <tr>\n",
       "      <th>0</th>\n",
       "      <td>0.104378</td>\n",
       "      <td>0.023230</td>\n",
       "      <td>0.010476</td>\n",
       "      <td>0.006068</td>\n",
       "      <td>0.001</td>\n",
       "      <td>{'C': 0.001}</td>\n",
       "      <td>0.795412</td>\n",
       "      <td>0.770486</td>\n",
       "      <td>0.767793</td>\n",
       "      <td>0.777324</td>\n",
       "      <td>0.798150</td>\n",
       "      <td>0.780751</td>\n",
       "      <td>0.768586</td>\n",
       "      <td>0.788652</td>\n",
       "      <td>0.782481</td>\n",
       "      <td>0.770383</td>\n",
       "      <td>0.780002</td>\n",
       "      <td>0.010573</td>\n",
       "      <td>7</td>\n",
       "    </tr>\n",
       "    <tr>\n",
       "      <th>1</th>\n",
       "      <td>0.088881</td>\n",
       "      <td>0.007102</td>\n",
       "      <td>0.006714</td>\n",
       "      <td>0.001861</td>\n",
       "      <td>0.01</td>\n",
       "      <td>{'C': 0.01}</td>\n",
       "      <td>0.796736</td>\n",
       "      <td>0.770525</td>\n",
       "      <td>0.768545</td>\n",
       "      <td>0.777818</td>\n",
       "      <td>0.800485</td>\n",
       "      <td>0.782465</td>\n",
       "      <td>0.769066</td>\n",
       "      <td>0.790719</td>\n",
       "      <td>0.784228</td>\n",
       "      <td>0.772318</td>\n",
       "      <td>0.781291</td>\n",
       "      <td>0.011074</td>\n",
       "      <td>6</td>\n",
       "    </tr>\n",
       "    <tr>\n",
       "      <th>2</th>\n",
       "      <td>0.095189</td>\n",
       "      <td>0.007514</td>\n",
       "      <td>0.005059</td>\n",
       "      <td>0.001825</td>\n",
       "      <td>0.1</td>\n",
       "      <td>{'C': 0.1}</td>\n",
       "      <td>0.796843</td>\n",
       "      <td>0.770168</td>\n",
       "      <td>0.768391</td>\n",
       "      <td>0.778075</td>\n",
       "      <td>0.800552</td>\n",
       "      <td>0.782483</td>\n",
       "      <td>0.768824</td>\n",
       "      <td>0.791080</td>\n",
       "      <td>0.784475</td>\n",
       "      <td>0.772521</td>\n",
       "      <td>0.781341</td>\n",
       "      <td>0.011194</td>\n",
       "      <td>4</td>\n",
       "    </tr>\n",
       "    <tr>\n",
       "      <th>3</th>\n",
       "      <td>0.096312</td>\n",
       "      <td>0.011788</td>\n",
       "      <td>0.006185</td>\n",
       "      <td>0.001595</td>\n",
       "      <td>1.0</td>\n",
       "      <td>{'C': 1.0}</td>\n",
       "      <td>0.796851</td>\n",
       "      <td>0.770188</td>\n",
       "      <td>0.768438</td>\n",
       "      <td>0.778070</td>\n",
       "      <td>0.800497</td>\n",
       "      <td>0.782457</td>\n",
       "      <td>0.768797</td>\n",
       "      <td>0.791096</td>\n",
       "      <td>0.784451</td>\n",
       "      <td>0.772541</td>\n",
       "      <td>0.781339</td>\n",
       "      <td>0.011180</td>\n",
       "      <td>5</td>\n",
       "    </tr>\n",
       "    <tr>\n",
       "      <th>4</th>\n",
       "      <td>0.091193</td>\n",
       "      <td>0.010481</td>\n",
       "      <td>0.006826</td>\n",
       "      <td>0.003136</td>\n",
       "      <td>10.0</td>\n",
       "      <td>{'C': 10.0}</td>\n",
       "      <td>0.796849</td>\n",
       "      <td>0.770190</td>\n",
       "      <td>0.768445</td>\n",
       "      <td>0.778091</td>\n",
       "      <td>0.800499</td>\n",
       "      <td>0.782457</td>\n",
       "      <td>0.768793</td>\n",
       "      <td>0.791102</td>\n",
       "      <td>0.784455</td>\n",
       "      <td>0.772547</td>\n",
       "      <td>0.781343</td>\n",
       "      <td>0.011179</td>\n",
       "      <td>1</td>\n",
       "    </tr>\n",
       "    <tr>\n",
       "      <th>5</th>\n",
       "      <td>0.080870</td>\n",
       "      <td>0.007166</td>\n",
       "      <td>0.004689</td>\n",
       "      <td>0.002207</td>\n",
       "      <td>100.0</td>\n",
       "      <td>{'C': 100.0}</td>\n",
       "      <td>0.796848</td>\n",
       "      <td>0.770189</td>\n",
       "      <td>0.768444</td>\n",
       "      <td>0.778092</td>\n",
       "      <td>0.800499</td>\n",
       "      <td>0.782458</td>\n",
       "      <td>0.768792</td>\n",
       "      <td>0.791102</td>\n",
       "      <td>0.784454</td>\n",
       "      <td>0.772548</td>\n",
       "      <td>0.781343</td>\n",
       "      <td>0.011179</td>\n",
       "      <td>2</td>\n",
       "    </tr>\n",
       "    <tr>\n",
       "      <th>6</th>\n",
       "      <td>0.089694</td>\n",
       "      <td>0.015102</td>\n",
       "      <td>0.003619</td>\n",
       "      <td>0.000471</td>\n",
       "      <td>1000.0</td>\n",
       "      <td>{'C': 1000.0}</td>\n",
       "      <td>0.796847</td>\n",
       "      <td>0.770189</td>\n",
       "      <td>0.768445</td>\n",
       "      <td>0.778092</td>\n",
       "      <td>0.800499</td>\n",
       "      <td>0.782458</td>\n",
       "      <td>0.768792</td>\n",
       "      <td>0.791103</td>\n",
       "      <td>0.784453</td>\n",
       "      <td>0.772548</td>\n",
       "      <td>0.781343</td>\n",
       "      <td>0.011179</td>\n",
       "      <td>3</td>\n",
       "    </tr>\n",
       "  </tbody>\n",
       "</table>\n",
       "</div>"
      ],
      "text/plain": [
       "   mean_fit_time  std_fit_time  mean_score_time  std_score_time param_C  \\\n",
       "0       0.104378      0.023230         0.010476        0.006068   0.001   \n",
       "1       0.088881      0.007102         0.006714        0.001861    0.01   \n",
       "2       0.095189      0.007514         0.005059        0.001825     0.1   \n",
       "3       0.096312      0.011788         0.006185        0.001595     1.0   \n",
       "4       0.091193      0.010481         0.006826        0.003136    10.0   \n",
       "5       0.080870      0.007166         0.004689        0.002207   100.0   \n",
       "6       0.089694      0.015102         0.003619        0.000471  1000.0   \n",
       "\n",
       "          params  split0_test_score  split1_test_score  split2_test_score  \\\n",
       "0   {'C': 0.001}           0.795412           0.770486           0.767793   \n",
       "1    {'C': 0.01}           0.796736           0.770525           0.768545   \n",
       "2     {'C': 0.1}           0.796843           0.770168           0.768391   \n",
       "3     {'C': 1.0}           0.796851           0.770188           0.768438   \n",
       "4    {'C': 10.0}           0.796849           0.770190           0.768445   \n",
       "5   {'C': 100.0}           0.796848           0.770189           0.768444   \n",
       "6  {'C': 1000.0}           0.796847           0.770189           0.768445   \n",
       "\n",
       "   split3_test_score  split4_test_score  split5_test_score  split6_test_score  \\\n",
       "0           0.777324           0.798150           0.780751           0.768586   \n",
       "1           0.777818           0.800485           0.782465           0.769066   \n",
       "2           0.778075           0.800552           0.782483           0.768824   \n",
       "3           0.778070           0.800497           0.782457           0.768797   \n",
       "4           0.778091           0.800499           0.782457           0.768793   \n",
       "5           0.778092           0.800499           0.782458           0.768792   \n",
       "6           0.778092           0.800499           0.782458           0.768792   \n",
       "\n",
       "   split7_test_score  split8_test_score  split9_test_score  mean_test_score  \\\n",
       "0           0.788652           0.782481           0.770383         0.780002   \n",
       "1           0.790719           0.784228           0.772318         0.781291   \n",
       "2           0.791080           0.784475           0.772521         0.781341   \n",
       "3           0.791096           0.784451           0.772541         0.781339   \n",
       "4           0.791102           0.784455           0.772547         0.781343   \n",
       "5           0.791102           0.784454           0.772548         0.781343   \n",
       "6           0.791103           0.784453           0.772548         0.781343   \n",
       "\n",
       "   std_test_score  rank_test_score  \n",
       "0        0.010573                7  \n",
       "1        0.011074                6  \n",
       "2        0.011194                4  \n",
       "3        0.011180                5  \n",
       "4        0.011179                1  \n",
       "5        0.011179                2  \n",
       "6        0.011179                3  "
      ]
     },
     "execution_count": 392,
     "metadata": {},
     "output_type": "execute_result"
    }
   ],
   "source": [
    "cv_result = pd.DataFrame(clf.cv_results_)\n",
    "cv_result"
   ]
  },
  {
   "cell_type": "code",
   "execution_count": 393,
   "id": "3601bc43",
   "metadata": {},
   "outputs": [
    {
     "data": {
      "image/png": "[encoded data removed]",
      "text/plain": [
       "<Figure size 640x480 with 1 Axes>"
      ]
     },
     "metadata": {},
     "output_type": "display_data"
    },
    {
     "name": "stdout",
     "output_type": "stream",
     "text": [
      "Best AUC score:  0.7920081973407576\n"
     ]
    }
   ],
   "source": [
    "y_pred = best_model.predict_proba(x_train)[:, 1]\n",
    "\n",
    "fpr, tpr, thresholds = roc_curve(y_train, y_pred)\n",
    "plt.plot(fpr, tpr, label=\"ROC Curve\")\n",
    "plt.xlabel(\"FPR\")\n",
    "plt.ylabel(\"TPR\")\n",
    "plt.show()\n",
    "\n",
    "best_score = roc_auc_score(y_test, clf.predict_proba(x_test)[:, 1])\n",
    "print(\"Best AUC score: \", best_score)"
   ]
  },
  {
   "cell_type": "code",
   "execution_count": null,
   "id": "0c615e3f",
   "metadata": {},
   "outputs": [
    {
     "name": "stderr",
     "output_type": "stream",
     "text": [
      "/usr/local/Caskroom/miniforge/base/envs/share-envs/lib/python3.10/site-packages/sklearn/metrics/_classification.py:1327: UndefinedMetricWarning: Precision is ill-defined and being set to 0.0 due to no predicted samples. Use `zero_division` parameter to control this behavior.\n",
      "  _warn_prf(average, modifier, msg_start, len(result))\n",
      "/usr/local/Caskroom/miniforge/base/envs/share-envs/lib/python3.10/site-packages/sklearn/metrics/_classification.py:1327: UndefinedMetricWarning: Precision is ill-defined and being set to 0.0 due to no predicted samples. Use `zero_division` parameter to control this behavior.\n",
      "  _warn_prf(average, modifier, msg_start, len(result))\n"
     ]
    }
   ],
   "source": [
    "best_score = 0\n",
    "best_threshold = 0\n",
    "for thr in thresholds:\n",
    "    y_pred = (clf.predict_proba(x_train)[:, 1] > thr) * 1\n",
    "    temp_score = precision_score(y_true=y_train, y_pred=y_pred)\n",
    "    if best_score < temp_score:\n",
    "        best_threshold = thr\n",
    "        best_score = temp_score\n",
    "\n",
    "print(\"Best threshold: \", best_threshold)\n",
    "print(\"Best precision: \", best_score)"
   ]
  },
  {
   "cell_type": "code",
   "execution_count": null,
   "id": "6dc3bcd1",
   "metadata": {},
   "outputs": [],
   "source": [
    "best_threshold"
   ]
  },
  {
   "cell_type": "code",
   "execution_count": null,
   "id": "ea8f67aa",
   "metadata": {},
   "outputs": [],
   "source": [
    "y_pred_test = (clf.predict_proba(x_test)[:,1] > 0.36) * 1\n",
    "print('precision：', precision_score(y_true=y_test, y_pred=y_pred_test))\n",
    "print('recall：', recall_score(y_true=y_test, y_pred=y_pred_test))\n",
    "print('f1 score：', f1_score(y_true=y_test, y_pred=y_pred_test))\n",
    "print('confusion matrix = \\n', confusion_matrix(y_true=y_test, y_pred=y_pred_test))"
   ]
  },
  {
   "cell_type": "markdown",
   "id": "379c0e43",
   "metadata": {},
   "source": [
    "# train, testそれぞれのProbabilityを見てみる\n",
    "## train"
   ]
  },
  {
   "cell_type": "code",
   "execution_count": null,
   "id": "87b278b1",
   "metadata": {
    "scrolled": false
   },
   "outputs": [],
   "source": [
    "y_pred_train = clf.predict_proba(x_train)[:,1] \n",
    "sns.histplot(y_pred_train)"
   ]
  },
  {
   "cell_type": "code",
   "execution_count": null,
   "id": "7deff07c",
   "metadata": {},
   "outputs": [],
   "source": [
    "np_y_true_train = y_train.to_numpy()\n",
    "np_concat = [np_y_true_train, y_pred_train]\n",
    "df_concat_train = pd.DataFrame(np_concat)\n",
    "df_concat_train = df_concat_train.T\n",
    "df_concat_train.head()"
   ]
  },
  {
   "cell_type": "code",
   "execution_count": null,
   "id": "9766091e",
   "metadata": {},
   "outputs": [],
   "source": [
    "fig, ax = plt.subplots(1, 2, figsize = (10,5))\n",
    "ax[0].set_xlim(0, 1)\n",
    "ax[0].set_ylim(0, 1000)\n",
    "ax[0].set_xlabel('0')\n",
    "ax[1].set_xlim(0, 1)\n",
    "ax[1].set_ylim(0, 1000)\n",
    "ax[1].set_xlabel('1')\n",
    "sns.histplot(data=df_concat_train[df_concat_train.iloc[:, 0]==0].iloc[:, 1], ax=ax[0], bins=100)\n",
    "sns.histplot(data=df_concat_train[df_concat_train.iloc[:, 0]==1].iloc[:, 1], ax=ax[1], bins=100)"
   ]
  },
  {
   "cell_type": "markdown",
   "id": "b153ecb0",
   "metadata": {},
   "source": [
    "## test"
   ]
  },
  {
   "cell_type": "code",
   "execution_count": null,
   "id": "5b2ff6f2",
   "metadata": {},
   "outputs": [],
   "source": [
    "y_pred_test = clf.predict_proba(x_test)[:,1] \n",
    "#sns.histplot(y_pred_test)\n",
    "\n",
    "np_y_true_test = y_test.to_numpy()\n",
    "np_concat = [np_y_true_test, y_pred_test]\n",
    "df_concat_test = pd.DataFrame(np_concat)\n",
    "df_concat_test = df_concat_test.T\n",
    "df_concat_test.head()\n",
    "\n",
    "fig, ax = plt.subplots(1, 2, figsize = (10,5))\n",
    "ax[0].set_xlim(0.5, 1)\n",
    "ax[0].set_ylim(0, 600)\n",
    "ax[0].set_xlabel('0')\n",
    "ax[1].set_xlim(0.5, 1)\n",
    "ax[1].set_ylim(0, 600)\n",
    "ax[1].set_xlabel('1')\n",
    "sns.histplot(data=df_concat_test[df_concat_test.iloc[:, 0]==0].iloc[:, 1], ax=ax[0], bins=100)\n",
    "sns.histplot(data=df_concat_test[df_concat_test.iloc[:, 0]==1].iloc[:, 1], ax=ax[1], bins=100)"
   ]
  },
  {
   "cell_type": "markdown",
   "id": "170195de",
   "metadata": {},
   "source": [
    "- N/Aを0.5で埋めていることが起因しているのかx=0.5付近のcountが多い。\n",
    " - 0.5付近の確率となる馬のデータを確認してみる。\n",
    " - 補完値を変更 or 一定の試合数の馬のみにデータを絞る 等も試してみる必要がある\n",
    "  \n",
    "- 神様であるtestを見ると、このモデルでは上手くthresholdを設定してもprecsionを上げることは難しそう。モデルの変更か相当素晴らしい特徴量を追加する必要がある？"
   ]
  },
  {
   "cell_type": "code",
   "execution_count": null,
   "id": "e7402a89",
   "metadata": {},
   "outputs": [],
   "source": []
  },
  {
   "cell_type": "code",
   "execution_count": null,
   "id": "8cd16a64",
   "metadata": {},
   "outputs": [],
   "source": []
  }
 ],
 "metadata": {
  "kernelspec": {
   "display_name": "Python 3 (ipykernel)",
   "language": "python",
   "name": "python3"
  },
  "language_info": {
   "codemirror_mode": {
    "name": "ipython",
    "version": 3
   },
   "file_extension": ".py",
   "mimetype": "text/x-python",
   "name": "python",
   "nbconvert_exporter": "python",
   "pygments_lexer": "ipython3",
   "version": "3.10.5"
  }
 },
 "nbformat": 4,
 "nbformat_minor": 5
}
