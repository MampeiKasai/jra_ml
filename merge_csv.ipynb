{
 "cells": [
  {
   "cell_type": "code",
   "execution_count": 1,
   "id": "80cb397f",
   "metadata": {},
   "outputs": [],
   "source": [
    "import os\n",
    "import sys\n",
    "\n",
    "import pandas as pd"
   ]
  },
  {
   "cell_type": "code",
   "execution_count": 4,
   "id": "af5fe98e",
   "metadata": {},
   "outputs": [],
   "source": [
    "base_dir = '/Users/eee/python/jra_ml/data/'\n",
    "table_dir = [\n",
    "    '/Users/eee/python/jra_ml/data/table/20220903-20201205',\n",
    "    '/Users/eee/python/jra_ml/data/table/20201205-20150201',\n",
    "    '/Users/eee/python/jra_ml/data/table/20150201-2010',\n",
    "    '/Users/eee/python/jra_ml/data/table/2010-2009',\n",
    "    '/Users/eee/python/jra_ml/data/table/2009',\n",
    "    ]\n",
    "target_file = [\n",
    "    'course_info.csv',\n",
    "#    'horse_result.csv',\n",
    "    'horse_pedigree.csv',\n",
    "    'race_result.csv',\n",
    "    ]"
   ]
  },
  {
   "cell_type": "code",
   "execution_count": 3,
   "id": "89785aec",
   "metadata": {},
   "outputs": [
    {
     "name": "stdout",
     "output_type": "stream",
     "text": [
      "(8763251, 29)\n",
      "(7701229, 29)\n",
      "(2223684, 29)\n",
      "(1706046, 29)\n"
     ]
    }
   ],
   "source": [
    "for f in target_file:\n",
    "    for i, d in enumerate(table_dir):\n",
    "        target_path = os.path.join(d, f)\n",
    "        if i == 0:\n",
    "            output_df = pd.read_csv(target_path)\n",
    "        else:\n",
    "            add_df = pd.read_csv(target_path)\n",
    "            print(add_df.shape)\n",
    "            output_df = pd.concat([output_df, add_df], axis=0)\n",
    "    \n",
    "    output_df = output_df[output_df.duplicated()==True]\n",
    "    output_df.reset_index()\n",
    "    \n",
    "    output_path = os.path.join(base_dir, f)\n",
    "    output_df.to_csv(output_path, index=False)"
   ]
  },
  {
   "cell_type": "code",
   "execution_count": null,
   "id": "8cc69cd7",
   "metadata": {},
   "outputs": [],
   "source": []
  }
 ],
 "metadata": {
  "kernelspec": {
   "display_name": "Python 3 (ipykernel)",
   "language": "python",
   "name": "python3"
  },
  "language_info": {
   "codemirror_mode": {
    "name": "ipython",
    "version": 3
   },
   "file_extension": ".py",
   "mimetype": "text/x-python",
   "name": "python",
   "nbconvert_exporter": "python",
   "pygments_lexer": "ipython3",
   "version": "3.10.5"
  }
 },
 "nbformat": 4,
 "nbformat_minor": 5
}
