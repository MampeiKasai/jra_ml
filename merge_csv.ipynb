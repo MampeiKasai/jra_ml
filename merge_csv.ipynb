{
 "cells": [
  {
   "cell_type": "code",
   "execution_count": 1,
   "id": "dfa6ac9f",
   "metadata": {},
   "outputs": [],
   "source": [
    "import os\n",
    "import sys\n",
    "\n",
    "import pandas as pd"
   ]
  },
  {
   "cell_type": "code",
   "execution_count": 17,
   "id": "3d6b4c92",
   "metadata": {},
   "outputs": [],
   "source": [
    "base_dir = '/Users/eee/python/jra_ml/data/'\n",
    "table_dir = [\n",
    "    '/Users/eee/python/jra_ml/data/table/20220903-20201205',\n",
    "    '/Users/eee/python/jra_ml/data/table/20201205-20150201',\n",
    "    '/Users/eee/python/jra_ml/data/table/20150201-2010',\n",
    "    '/Users/eee/python/jra_ml/data/table/2010-2009',\n",
    "    '/Users/eee/python/jra_ml/data/table/2009',\n",
    "    '/Users/eee/python/jra_ml/data/table/2008',\n",
    "    '/Users/eee/python/jra_ml/data/table/200802',\n",
    "    '/Users/eee/python/jra_ml/data/table/200801',\n",
    "    '/Users/eee/python/jra_ml/data/table/2009',\n",
    "    '/Users/eee/python/jra_ml/data/table/2007-2000'\n",
    "    ]\n",
    "target_file = [\n",
    "    'course_info.csv',\n",
    "    'horse_result.csv',\n",
    "    'horse_pedigree.csv',\n",
    "    'race_result.csv',\n",
    "    ]"
   ]
  },
  {
   "cell_type": "code",
   "execution_count": 18,
   "id": "be8bf588",
   "metadata": {},
   "outputs": [
    {
     "name": "stdout",
     "output_type": "stream",
     "text": [
      "(19420, 10)\n",
      "(15732, 10)\n",
      "(4586, 10)\n",
      "(3534, 10)\n",
      "(2988, 10)\n",
      "(129, 10)\n",
      "(229, 10)\n",
      "(3534, 10)\n",
      "(25487, 10)\n",
      "(8763251, 29)\n",
      "(7701229, 29)\n",
      "(2223684, 29)\n",
      "(1706046, 29)\n",
      "(1427011, 29)\n",
      "(64233, 29)\n",
      "(114049, 29)\n",
      "(1706046, 29)\n",
      "(11630612, 29)\n",
      "(276351, 64)\n",
      "(227757, 64)\n",
      "(66785, 64)\n",
      "(52018, 64)\n",
      "(43557, 64)\n",
      "(1941, 64)\n",
      "(3473, 64)\n",
      "(52018, 64)\n",
      "(358517, 64)\n",
      "(276351, 15)\n",
      "(227760, 15)\n",
      "(66787, 15)\n",
      "(52018, 15)\n",
      "(43557, 15)\n",
      "(1941, 15)\n",
      "(3473, 15)\n",
      "(52018, 15)\n",
      "(358517, 15)\n"
     ]
    }
   ],
   "source": [
    "for f in target_file:\n",
    "    for i, d in enumerate(table_dir):\n",
    "        target_path = os.path.join(d, f)\n",
    "        if i == 0:\n",
    "            output_df = pd.read_csv(target_path)\n",
    "        else:\n",
    "            add_df = pd.read_csv(target_path)\n",
    "            output_df = pd.concat([output_df, add_df], axis=0)\n",
    "            print(add_df.shape)\n",
    "            \n",
    "    output_df = output_df[output_df.duplicated()==False]\n",
    "    output_df.reset_index()\n",
    "    \n",
    "    output_path = os.path.join(base_dir, f)\n",
    "    output_df.to_csv(output_path, index=False)"
   ]
  },
  {
   "cell_type": "code",
   "execution_count": null,
   "id": "9f3dde80",
   "metadata": {},
   "outputs": [],
   "source": []
  },
  {
   "cell_type": "code",
   "execution_count": null,
   "id": "01e2d6ad",
   "metadata": {},
   "outputs": [],
   "source": []
  }
 ],
 "metadata": {
  "kernelspec": {
   "display_name": "Python 3 (ipykernel)",
   "language": "python",
   "name": "python3"
  },
  "language_info": {
   "codemirror_mode": {
    "name": "ipython",
    "version": 3
   },
   "file_extension": ".py",
   "mimetype": "text/x-python",
   "name": "python",
   "nbconvert_exporter": "python",
   "pygments_lexer": "ipython3",
   "version": "3.10.5"
  }
 },
 "nbformat": 4,
 "nbformat_minor": 5
}
