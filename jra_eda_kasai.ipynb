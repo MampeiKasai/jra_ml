{
 "cells": [
  {
   "cell_type": "code",
   "execution_count": 1,
   "id": "6d902576",
   "metadata": {},
   "outputs": [],
   "source": [
    "import os\n",
    "import sys\n",
    "\n",
    "import pandas as pd\n",
    "import seaborn as sns\n",
    "import matplotlib.pyplot as plt\n",
    "import japanize_matplotlib"
   ]
  },
  {
   "cell_type": "markdown",
   "id": "432780f5",
   "metadata": {},
   "source": [
    "# まずは馬戦績データ読み込み"
   ]
  },
  {
   "cell_type": "code",
   "execution_count": 690,
   "id": "e77a9dd2",
   "metadata": {},
   "outputs": [
    {
     "data": {
      "text/html": [
       "<div>\n",
       "<style scoped>\n",
       "    .dataframe tbody tr th:only-of-type {\n",
       "        vertical-align: middle;\n",
       "    }\n",
       "\n",
       "    .dataframe tbody tr th {\n",
       "        vertical-align: top;\n",
       "    }\n",
       "\n",
       "    .dataframe thead th {\n",
       "        text-align: right;\n",
       "    }\n",
       "</style>\n",
       "<table border=\"1\" class=\"dataframe\">\n",
       "  <thead>\n",
       "    <tr style=\"text-align: right;\">\n",
       "      <th></th>\n",
       "      <th>horse_id</th>\n",
       "      <th>日付</th>\n",
       "      <th>開催</th>\n",
       "      <th>天気</th>\n",
       "      <th>R</th>\n",
       "      <th>レース名</th>\n",
       "      <th>頭数</th>\n",
       "      <th>枠番</th>\n",
       "      <th>馬番</th>\n",
       "      <th>オッズ</th>\n",
       "      <th>人気</th>\n",
       "      <th>着順</th>\n",
       "      <th>騎手</th>\n",
       "      <th>斤量</th>\n",
       "      <th>距離</th>\n",
       "      <th>馬場</th>\n",
       "      <th>タイム</th>\n",
       "      <th>着差</th>\n",
       "      <th>馬体重</th>\n",
       "      <th>勝ち馬(2着馬)</th>\n",
       "    </tr>\n",
       "  </thead>\n",
       "  <tbody>\n",
       "    <tr>\n",
       "      <th>0</th>\n",
       "      <td>2020105571</td>\n",
       "      <td>2022/09/24</td>\n",
       "      <td>4中山6</td>\n",
       "      <td>曇</td>\n",
       "      <td>9.0</td>\n",
       "      <td>カンナS(OP)</td>\n",
       "      <td>10.0</td>\n",
       "      <td>3.0</td>\n",
       "      <td>3.0</td>\n",
       "      <td>12.9</td>\n",
       "      <td>5.0</td>\n",
       "      <td>3</td>\n",
       "      <td>丹内祐次</td>\n",
       "      <td>54.0</td>\n",
       "      <td>芝1200</td>\n",
       "      <td>重</td>\n",
       "      <td>1:09.7</td>\n",
       "      <td>0.3</td>\n",
       "      <td>466(+2)</td>\n",
       "      <td>ウメムスビ</td>\n",
       "    </tr>\n",
       "    <tr>\n",
       "      <th>1</th>\n",
       "      <td>2020105571</td>\n",
       "      <td>2022/09/03</td>\n",
       "      <td>2札幌7</td>\n",
       "      <td>晴</td>\n",
       "      <td>1.0</td>\n",
       "      <td>2歳未勝利</td>\n",
       "      <td>14.0</td>\n",
       "      <td>7.0</td>\n",
       "      <td>12.0</td>\n",
       "      <td>1.9</td>\n",
       "      <td>1.0</td>\n",
       "      <td>1</td>\n",
       "      <td>丹内祐次</td>\n",
       "      <td>54.0</td>\n",
       "      <td>芝1200</td>\n",
       "      <td>良</td>\n",
       "      <td>1:10.7</td>\n",
       "      <td>-0.5</td>\n",
       "      <td>464(-2)</td>\n",
       "      <td>(コパカバーナビーチ)</td>\n",
       "    </tr>\n",
       "    <tr>\n",
       "      <th>2</th>\n",
       "      <td>2020105571</td>\n",
       "      <td>2022/08/27</td>\n",
       "      <td>2札幌5</td>\n",
       "      <td>曇</td>\n",
       "      <td>2.0</td>\n",
       "      <td>2歳未勝利</td>\n",
       "      <td>8.0</td>\n",
       "      <td>4.0</td>\n",
       "      <td>4.0</td>\n",
       "      <td>2.2</td>\n",
       "      <td>1.0</td>\n",
       "      <td>2</td>\n",
       "      <td>丹内祐次</td>\n",
       "      <td>54.0</td>\n",
       "      <td>芝1200</td>\n",
       "      <td>良</td>\n",
       "      <td>1:10.5</td>\n",
       "      <td>0.1</td>\n",
       "      <td>466(+2)</td>\n",
       "      <td>バロットボックス</td>\n",
       "    </tr>\n",
       "    <tr>\n",
       "      <th>3</th>\n",
       "      <td>2020105571</td>\n",
       "      <td>2022/08/06</td>\n",
       "      <td>1札幌5</td>\n",
       "      <td>晴</td>\n",
       "      <td>5.0</td>\n",
       "      <td>2歳新馬</td>\n",
       "      <td>8.0</td>\n",
       "      <td>3.0</td>\n",
       "      <td>3.0</td>\n",
       "      <td>21.9</td>\n",
       "      <td>5.0</td>\n",
       "      <td>5</td>\n",
       "      <td>丹内祐次</td>\n",
       "      <td>54.0</td>\n",
       "      <td>芝1200</td>\n",
       "      <td>良</td>\n",
       "      <td>1:10.9</td>\n",
       "      <td>0.8</td>\n",
       "      <td>464(0)</td>\n",
       "      <td>メイクアスナッチ</td>\n",
       "    </tr>\n",
       "    <tr>\n",
       "      <th>4</th>\n",
       "      <td>2020101863</td>\n",
       "      <td>2022/09/25</td>\n",
       "      <td>4中山7</td>\n",
       "      <td>晴</td>\n",
       "      <td>2.0</td>\n",
       "      <td>2歳未勝利</td>\n",
       "      <td>16.0</td>\n",
       "      <td>8.0</td>\n",
       "      <td>15.0</td>\n",
       "      <td>6.6</td>\n",
       "      <td>3.0</td>\n",
       "      <td>5</td>\n",
       "      <td>黛弘人</td>\n",
       "      <td>54.0</td>\n",
       "      <td>芝1200</td>\n",
       "      <td>稍</td>\n",
       "      <td>1:10.0</td>\n",
       "      <td>0.6</td>\n",
       "      <td>420(-2)</td>\n",
       "      <td>クリノゴッホ</td>\n",
       "    </tr>\n",
       "  </tbody>\n",
       "</table>\n",
       "</div>"
      ],
      "text/plain": [
       "     horse_id          日付    開催 天気    R      レース名    頭数   枠番    馬番   オッズ   人気  \\\n",
       "0  2020105571  2022/09/24  4中山6  曇  9.0  カンナS(OP)  10.0  3.0   3.0  12.9  5.0   \n",
       "1  2020105571  2022/09/03  2札幌7  晴  1.0     2歳未勝利  14.0  7.0  12.0   1.9  1.0   \n",
       "2  2020105571  2022/08/27  2札幌5  曇  2.0     2歳未勝利   8.0  4.0   4.0   2.2  1.0   \n",
       "3  2020105571  2022/08/06  1札幌5  晴  5.0      2歳新馬   8.0  3.0   3.0  21.9  5.0   \n",
       "4  2020101863  2022/09/25  4中山7  晴  2.0     2歳未勝利  16.0  8.0  15.0   6.6  3.0   \n",
       "\n",
       "  着順    騎手    斤量     距離 馬場     タイム   着差      馬体重     勝ち馬(2着馬)  \n",
       "0  3  丹内祐次  54.0  芝1200  重  1:09.7  0.3  466(+2)        ウメムスビ  \n",
       "1  1  丹内祐次  54.0  芝1200  良  1:10.7 -0.5  464(-2)  (コパカバーナビーチ)  \n",
       "2  2  丹内祐次  54.0  芝1200  良  1:10.5  0.1  466(+2)     バロットボックス  \n",
       "3  5  丹内祐次  54.0  芝1200  良  1:10.9  0.8   464(0)     メイクアスナッチ  \n",
       "4  5   黛弘人  54.0  芝1200  稍  1:10.0  0.6  420(-2)       クリノゴッホ  "
      ]
     },
     "execution_count": 690,
     "metadata": {},
     "output_type": "execute_result"
    }
   ],
   "source": [
    "table_dir = '/Users/eee/python/jra_ml/data/table'\n",
    "target_file = 'horse_result.csv'\n",
    "table_path = os.path.join(table_dir, target_file)\n",
    "\n",
    "usecols = ['horse_id', '日付', '開催', '天気', 'R', 'レース名', '頭数', '枠番', '馬番', 'オッズ', '人気', '着順', '騎手', '斤量', '距離', '馬場', 'タイム', '着差', '馬体重', '勝ち馬(2着馬)']\n",
    "df = pd.read_csv(table_path, usecols=usecols)\n",
    "df.head()"
   ]
  },
  {
   "cell_type": "markdown",
   "id": "81e7bbe5",
   "metadata": {},
   "source": [
    "# 欠損行を削除"
   ]
  },
  {
   "cell_type": "code",
   "execution_count": 691,
   "id": "c352c894-7bfb-46fe-8580-3bb73844c064",
   "metadata": {},
   "outputs": [
    {
     "data": {
      "text/plain": [
       "horse_id         0\n",
       "日付               0\n",
       "開催               0\n",
       "天気            6988\n",
       "R             1963\n",
       "レース名            16\n",
       "頭数             528\n",
       "枠番            2697\n",
       "馬番              16\n",
       "オッズ         257320\n",
       "人気           24780\n",
       "着順            8961\n",
       "騎手             217\n",
       "斤量             251\n",
       "距離              16\n",
       "馬場            4882\n",
       "タイム          34939\n",
       "着差           36356\n",
       "馬体重             16\n",
       "勝ち馬(2着馬)     10416\n",
       "dtype: int64"
      ]
     },
     "execution_count": 691,
     "metadata": {},
     "output_type": "execute_result"
    }
   ],
   "source": [
    "df.isnull().sum()"
   ]
  },
  {
   "cell_type": "code",
   "execution_count": 692,
   "id": "c25e2da1",
   "metadata": {},
   "outputs": [
    {
     "data": {
      "text/html": [
       "<div>\n",
       "<style scoped>\n",
       "    .dataframe tbody tr th:only-of-type {\n",
       "        vertical-align: middle;\n",
       "    }\n",
       "\n",
       "    .dataframe tbody tr th {\n",
       "        vertical-align: top;\n",
       "    }\n",
       "\n",
       "    .dataframe thead th {\n",
       "        text-align: right;\n",
       "    }\n",
       "</style>\n",
       "<table border=\"1\" class=\"dataframe\">\n",
       "  <thead>\n",
       "    <tr style=\"text-align: right;\">\n",
       "      <th></th>\n",
       "      <th>horse_id</th>\n",
       "      <th>日付</th>\n",
       "      <th>開催</th>\n",
       "      <th>天気</th>\n",
       "      <th>R</th>\n",
       "      <th>レース名</th>\n",
       "      <th>頭数</th>\n",
       "      <th>枠番</th>\n",
       "      <th>馬番</th>\n",
       "      <th>オッズ</th>\n",
       "      <th>人気</th>\n",
       "      <th>着順</th>\n",
       "      <th>騎手</th>\n",
       "      <th>斤量</th>\n",
       "      <th>距離</th>\n",
       "      <th>馬場</th>\n",
       "      <th>タイム</th>\n",
       "      <th>着差</th>\n",
       "      <th>馬体重</th>\n",
       "      <th>勝ち馬(2着馬)</th>\n",
       "    </tr>\n",
       "  </thead>\n",
       "  <tbody>\n",
       "    <tr>\n",
       "      <th>0</th>\n",
       "      <td>2020105571</td>\n",
       "      <td>2022/09/24</td>\n",
       "      <td>4中山6</td>\n",
       "      <td>曇</td>\n",
       "      <td>9.0</td>\n",
       "      <td>カンナS(OP)</td>\n",
       "      <td>10.0</td>\n",
       "      <td>3.0</td>\n",
       "      <td>3.0</td>\n",
       "      <td>12.9</td>\n",
       "      <td>5.0</td>\n",
       "      <td>3</td>\n",
       "      <td>丹内祐次</td>\n",
       "      <td>54.0</td>\n",
       "      <td>芝1200</td>\n",
       "      <td>重</td>\n",
       "      <td>1:09.7</td>\n",
       "      <td>0.3</td>\n",
       "      <td>466(+2)</td>\n",
       "      <td>ウメムスビ</td>\n",
       "    </tr>\n",
       "    <tr>\n",
       "      <th>1</th>\n",
       "      <td>2020105571</td>\n",
       "      <td>2022/09/03</td>\n",
       "      <td>2札幌7</td>\n",
       "      <td>晴</td>\n",
       "      <td>1.0</td>\n",
       "      <td>2歳未勝利</td>\n",
       "      <td>14.0</td>\n",
       "      <td>7.0</td>\n",
       "      <td>12.0</td>\n",
       "      <td>1.9</td>\n",
       "      <td>1.0</td>\n",
       "      <td>1</td>\n",
       "      <td>丹内祐次</td>\n",
       "      <td>54.0</td>\n",
       "      <td>芝1200</td>\n",
       "      <td>良</td>\n",
       "      <td>1:10.7</td>\n",
       "      <td>-0.5</td>\n",
       "      <td>464(-2)</td>\n",
       "      <td>(コパカバーナビーチ)</td>\n",
       "    </tr>\n",
       "    <tr>\n",
       "      <th>2</th>\n",
       "      <td>2020105571</td>\n",
       "      <td>2022/08/27</td>\n",
       "      <td>2札幌5</td>\n",
       "      <td>曇</td>\n",
       "      <td>2.0</td>\n",
       "      <td>2歳未勝利</td>\n",
       "      <td>8.0</td>\n",
       "      <td>4.0</td>\n",
       "      <td>4.0</td>\n",
       "      <td>2.2</td>\n",
       "      <td>1.0</td>\n",
       "      <td>2</td>\n",
       "      <td>丹内祐次</td>\n",
       "      <td>54.0</td>\n",
       "      <td>芝1200</td>\n",
       "      <td>良</td>\n",
       "      <td>1:10.5</td>\n",
       "      <td>0.1</td>\n",
       "      <td>466(+2)</td>\n",
       "      <td>バロットボックス</td>\n",
       "    </tr>\n",
       "    <tr>\n",
       "      <th>3</th>\n",
       "      <td>2020105571</td>\n",
       "      <td>2022/08/06</td>\n",
       "      <td>1札幌5</td>\n",
       "      <td>晴</td>\n",
       "      <td>5.0</td>\n",
       "      <td>2歳新馬</td>\n",
       "      <td>8.0</td>\n",
       "      <td>3.0</td>\n",
       "      <td>3.0</td>\n",
       "      <td>21.9</td>\n",
       "      <td>5.0</td>\n",
       "      <td>5</td>\n",
       "      <td>丹内祐次</td>\n",
       "      <td>54.0</td>\n",
       "      <td>芝1200</td>\n",
       "      <td>良</td>\n",
       "      <td>1:10.9</td>\n",
       "      <td>0.8</td>\n",
       "      <td>464(0)</td>\n",
       "      <td>メイクアスナッチ</td>\n",
       "    </tr>\n",
       "    <tr>\n",
       "      <th>4</th>\n",
       "      <td>2020101863</td>\n",
       "      <td>2022/09/25</td>\n",
       "      <td>4中山7</td>\n",
       "      <td>晴</td>\n",
       "      <td>2.0</td>\n",
       "      <td>2歳未勝利</td>\n",
       "      <td>16.0</td>\n",
       "      <td>8.0</td>\n",
       "      <td>15.0</td>\n",
       "      <td>6.6</td>\n",
       "      <td>3.0</td>\n",
       "      <td>5</td>\n",
       "      <td>黛弘人</td>\n",
       "      <td>54.0</td>\n",
       "      <td>芝1200</td>\n",
       "      <td>稍</td>\n",
       "      <td>1:10.0</td>\n",
       "      <td>0.6</td>\n",
       "      <td>420(-2)</td>\n",
       "      <td>クリノゴッホ</td>\n",
       "    </tr>\n",
       "  </tbody>\n",
       "</table>\n",
       "</div>"
      ],
      "text/plain": [
       "     horse_id          日付    開催 天気    R      レース名    頭数   枠番    馬番   オッズ   人気  \\\n",
       "0  2020105571  2022/09/24  4中山6  曇  9.0  カンナS(OP)  10.0  3.0   3.0  12.9  5.0   \n",
       "1  2020105571  2022/09/03  2札幌7  晴  1.0     2歳未勝利  14.0  7.0  12.0   1.9  1.0   \n",
       "2  2020105571  2022/08/27  2札幌5  曇  2.0     2歳未勝利   8.0  4.0   4.0   2.2  1.0   \n",
       "3  2020105571  2022/08/06  1札幌5  晴  5.0      2歳新馬   8.0  3.0   3.0  21.9  5.0   \n",
       "4  2020101863  2022/09/25  4中山7  晴  2.0     2歳未勝利  16.0  8.0  15.0   6.6  3.0   \n",
       "\n",
       "  着順    騎手    斤量     距離 馬場     タイム   着差      馬体重     勝ち馬(2着馬)  \n",
       "0  3  丹内祐次  54.0  芝1200  重  1:09.7  0.3  466(+2)        ウメムスビ  \n",
       "1  1  丹内祐次  54.0  芝1200  良  1:10.7 -0.5  464(-2)  (コパカバーナビーチ)  \n",
       "2  2  丹内祐次  54.0  芝1200  良  1:10.5  0.1  466(+2)     バロットボックス  \n",
       "3  5  丹内祐次  54.0  芝1200  良  1:10.9  0.8   464(0)     メイクアスナッチ  \n",
       "4  5   黛弘人  54.0  芝1200  稍  1:10.0  0.6  420(-2)       クリノゴッホ  "
      ]
     },
     "execution_count": 692,
     "metadata": {},
     "output_type": "execute_result"
    }
   ],
   "source": [
    "df = df.dropna(subset=['着順', '頭数', '騎手'])\n",
    "df = df[df['着順'] != '失']\n",
    "df = df[df['着順'] != '取']\n",
    "df = df[df['着順'] != '中']\n",
    "df = df[df['着順'] != '除']\n",
    "df = df[df['頭数'] != 0]\n",
    "\n",
    "df.head()"
   ]
  },
  {
   "cell_type": "code",
   "execution_count": 693,
   "id": "7ecc362b-7f0f-4240-9542-d9c2dfdac05d",
   "metadata": {},
   "outputs": [
    {
     "data": {
      "text/plain": [
       "horse_id         0\n",
       "日付               0\n",
       "開催               0\n",
       "天気            1601\n",
       "R             1340\n",
       "レース名             0\n",
       "頭数               0\n",
       "枠番            2058\n",
       "馬番               0\n",
       "オッズ         231163\n",
       "人気            1180\n",
       "着順               0\n",
       "騎手               0\n",
       "斤量              22\n",
       "距離               0\n",
       "馬場              12\n",
       "タイム            496\n",
       "着差            1375\n",
       "馬体重              0\n",
       "勝ち馬(2着馬)       972\n",
       "dtype: int64"
      ]
     },
     "execution_count": 693,
     "metadata": {},
     "output_type": "execute_result"
    }
   ],
   "source": [
    "df.isnull().sum()"
   ]
  },
  {
   "cell_type": "markdown",
   "id": "917412b6",
   "metadata": {},
   "source": [
    "# 中央、地方レースの比率確認"
   ]
  },
  {
   "cell_type": "markdown",
   "id": "170687f0",
   "metadata": {},
   "source": [
    "## 中央、地方それぞれでデータを用意する"
   ]
  },
  {
   "cell_type": "code",
   "execution_count": 694,
   "id": "c728e0de",
   "metadata": {},
   "outputs": [
    {
     "data": {
      "text/html": [
       "<div>\n",
       "<style scoped>\n",
       "    .dataframe tbody tr th:only-of-type {\n",
       "        vertical-align: middle;\n",
       "    }\n",
       "\n",
       "    .dataframe tbody tr th {\n",
       "        vertical-align: top;\n",
       "    }\n",
       "\n",
       "    .dataframe thead th {\n",
       "        text-align: right;\n",
       "    }\n",
       "</style>\n",
       "<table border=\"1\" class=\"dataframe\">\n",
       "  <thead>\n",
       "    <tr style=\"text-align: right;\">\n",
       "      <th></th>\n",
       "      <th>horse_id</th>\n",
       "      <th>日付</th>\n",
       "      <th>開催</th>\n",
       "      <th>天気</th>\n",
       "      <th>R</th>\n",
       "      <th>レース名</th>\n",
       "      <th>頭数</th>\n",
       "      <th>枠番</th>\n",
       "      <th>馬番</th>\n",
       "      <th>オッズ</th>\n",
       "      <th>...</th>\n",
       "      <th>着順</th>\n",
       "      <th>騎手</th>\n",
       "      <th>斤量</th>\n",
       "      <th>距離</th>\n",
       "      <th>馬場</th>\n",
       "      <th>タイム</th>\n",
       "      <th>着差</th>\n",
       "      <th>馬体重</th>\n",
       "      <th>勝ち馬(2着馬)</th>\n",
       "      <th>レース場</th>\n",
       "    </tr>\n",
       "  </thead>\n",
       "  <tbody>\n",
       "    <tr>\n",
       "      <th>0</th>\n",
       "      <td>2020105571</td>\n",
       "      <td>2022/09/24</td>\n",
       "      <td>4中山6</td>\n",
       "      <td>曇</td>\n",
       "      <td>9.0</td>\n",
       "      <td>カンナS(OP)</td>\n",
       "      <td>10.0</td>\n",
       "      <td>3.0</td>\n",
       "      <td>3.0</td>\n",
       "      <td>12.9</td>\n",
       "      <td>...</td>\n",
       "      <td>3</td>\n",
       "      <td>丹内祐次</td>\n",
       "      <td>54.0</td>\n",
       "      <td>芝1200</td>\n",
       "      <td>重</td>\n",
       "      <td>1:09.7</td>\n",
       "      <td>0.3</td>\n",
       "      <td>466(+2)</td>\n",
       "      <td>ウメムスビ</td>\n",
       "      <td>中山</td>\n",
       "    </tr>\n",
       "    <tr>\n",
       "      <th>1</th>\n",
       "      <td>2020105571</td>\n",
       "      <td>2022/09/03</td>\n",
       "      <td>2札幌7</td>\n",
       "      <td>晴</td>\n",
       "      <td>1.0</td>\n",
       "      <td>2歳未勝利</td>\n",
       "      <td>14.0</td>\n",
       "      <td>7.0</td>\n",
       "      <td>12.0</td>\n",
       "      <td>1.9</td>\n",
       "      <td>...</td>\n",
       "      <td>1</td>\n",
       "      <td>丹内祐次</td>\n",
       "      <td>54.0</td>\n",
       "      <td>芝1200</td>\n",
       "      <td>良</td>\n",
       "      <td>1:10.7</td>\n",
       "      <td>-0.5</td>\n",
       "      <td>464(-2)</td>\n",
       "      <td>(コパカバーナビーチ)</td>\n",
       "      <td>札幌</td>\n",
       "    </tr>\n",
       "    <tr>\n",
       "      <th>2</th>\n",
       "      <td>2020105571</td>\n",
       "      <td>2022/08/27</td>\n",
       "      <td>2札幌5</td>\n",
       "      <td>曇</td>\n",
       "      <td>2.0</td>\n",
       "      <td>2歳未勝利</td>\n",
       "      <td>8.0</td>\n",
       "      <td>4.0</td>\n",
       "      <td>4.0</td>\n",
       "      <td>2.2</td>\n",
       "      <td>...</td>\n",
       "      <td>2</td>\n",
       "      <td>丹内祐次</td>\n",
       "      <td>54.0</td>\n",
       "      <td>芝1200</td>\n",
       "      <td>良</td>\n",
       "      <td>1:10.5</td>\n",
       "      <td>0.1</td>\n",
       "      <td>466(+2)</td>\n",
       "      <td>バロットボックス</td>\n",
       "      <td>札幌</td>\n",
       "    </tr>\n",
       "    <tr>\n",
       "      <th>3</th>\n",
       "      <td>2020105571</td>\n",
       "      <td>2022/08/06</td>\n",
       "      <td>1札幌5</td>\n",
       "      <td>晴</td>\n",
       "      <td>5.0</td>\n",
       "      <td>2歳新馬</td>\n",
       "      <td>8.0</td>\n",
       "      <td>3.0</td>\n",
       "      <td>3.0</td>\n",
       "      <td>21.9</td>\n",
       "      <td>...</td>\n",
       "      <td>5</td>\n",
       "      <td>丹内祐次</td>\n",
       "      <td>54.0</td>\n",
       "      <td>芝1200</td>\n",
       "      <td>良</td>\n",
       "      <td>1:10.9</td>\n",
       "      <td>0.8</td>\n",
       "      <td>464(0)</td>\n",
       "      <td>メイクアスナッチ</td>\n",
       "      <td>札幌</td>\n",
       "    </tr>\n",
       "    <tr>\n",
       "      <th>4</th>\n",
       "      <td>2020101863</td>\n",
       "      <td>2022/09/25</td>\n",
       "      <td>4中山7</td>\n",
       "      <td>晴</td>\n",
       "      <td>2.0</td>\n",
       "      <td>2歳未勝利</td>\n",
       "      <td>16.0</td>\n",
       "      <td>8.0</td>\n",
       "      <td>15.0</td>\n",
       "      <td>6.6</td>\n",
       "      <td>...</td>\n",
       "      <td>5</td>\n",
       "      <td>黛弘人</td>\n",
       "      <td>54.0</td>\n",
       "      <td>芝1200</td>\n",
       "      <td>稍</td>\n",
       "      <td>1:10.0</td>\n",
       "      <td>0.6</td>\n",
       "      <td>420(-2)</td>\n",
       "      <td>クリノゴッホ</td>\n",
       "      <td>中山</td>\n",
       "    </tr>\n",
       "  </tbody>\n",
       "</table>\n",
       "<p>5 rows × 21 columns</p>\n",
       "</div>"
      ],
      "text/plain": [
       "     horse_id          日付    開催 天気    R      レース名    頭数   枠番    馬番   オッズ  ...  \\\n",
       "0  2020105571  2022/09/24  4中山6  曇  9.0  カンナS(OP)  10.0  3.0   3.0  12.9  ...   \n",
       "1  2020105571  2022/09/03  2札幌7  晴  1.0     2歳未勝利  14.0  7.0  12.0   1.9  ...   \n",
       "2  2020105571  2022/08/27  2札幌5  曇  2.0     2歳未勝利   8.0  4.0   4.0   2.2  ...   \n",
       "3  2020105571  2022/08/06  1札幌5  晴  5.0      2歳新馬   8.0  3.0   3.0  21.9  ...   \n",
       "4  2020101863  2022/09/25  4中山7  晴  2.0     2歳未勝利  16.0  8.0  15.0   6.6  ...   \n",
       "\n",
       "   着順    騎手    斤量     距離 馬場     タイム   着差      馬体重     勝ち馬(2着馬) レース場  \n",
       "0   3  丹内祐次  54.0  芝1200  重  1:09.7  0.3  466(+2)        ウメムスビ   中山  \n",
       "1   1  丹内祐次  54.0  芝1200  良  1:10.7 -0.5  464(-2)  (コパカバーナビーチ)   札幌  \n",
       "2   2  丹内祐次  54.0  芝1200  良  1:10.5  0.1  466(+2)     バロットボックス   札幌  \n",
       "3   5  丹内祐次  54.0  芝1200  良  1:10.9  0.8   464(0)     メイクアスナッチ   札幌  \n",
       "4   5   黛弘人  54.0  芝1200  稍  1:10.0  0.6  420(-2)       クリノゴッホ   中山  \n",
       "\n",
       "[5 rows x 21 columns]"
      ]
     },
     "execution_count": 694,
     "metadata": {},
     "output_type": "execute_result"
    }
   ],
   "source": [
    "place_urban = ['札幌', '函館', '福島', '新潟', '東京', '中山', '中京', '京都', '阪神', '小倉']\n",
    "place_rural = ['帯広', '門別', '盛岡', '水沢', '浦和', '船橋', '大井', '川崎', '金沢', '笠松', '名古屋', '園田', '姫路', '高知', '佐賀']\n",
    "place_all = place_urban + place_rural\n",
    "\n",
    "df['レース場'] = df['開催']\n",
    "for p in place_all:\n",
    "    df['レース場'] = df['レース場'].where(~df['レース場'].str.contains(p), p)\n",
    "del_target = df.index[~df['レース場'].isin(place_all)]\n",
    "df = df.drop(del_target)\n",
    "df.head()"
   ]
  },
  {
   "cell_type": "markdown",
   "id": "8b677772",
   "metadata": {},
   "source": [
    "## 各レース場のヒストグラムをプロット"
   ]
  },
  {
   "cell_type": "code",
   "execution_count": 695,
   "id": "9458caa5",
   "metadata": {},
   "outputs": [
    {
     "data": {
      "image/png": "[encoded data removed]",
      "text/plain": [
       "<Figure size 1080x576 with 1 Axes>"
      ]
     },
     "metadata": {
      "needs_background": "light"
     },
     "output_type": "display_data"
    }
   ],
   "source": [
    "df['中央/地方'] = df['レース場'].isin(place_urban)\n",
    "df['中央/地方'] = df['中央/地方'].where(~df['レース場'].isin(place_urban), '中央')\n",
    "df['中央/地方'] = df['中央/地方'].where(df['レース場'].isin(place_urban), '地方')\n",
    "\n",
    "plt.figure(figsize=(15, 8))\n",
    "ax = sns.histplot(df[['レース場', '中央/地方']], x=df['レース場'], hue='中央/地方')"
   ]
  },
  {
   "cell_type": "code",
   "execution_count": 696,
   "id": "4f6ea69f",
   "metadata": {},
   "outputs": [
    {
     "data": {
      "text/plain": [
       "地方    1296387\n",
       "中央    1142626\n",
       "Name: 中央/地方, dtype: int64"
      ]
     },
     "execution_count": 696,
     "metadata": {},
     "output_type": "execute_result"
    }
   ],
   "source": [
    "df['中央/地方'].value_counts()"
   ]
  },
  {
   "cell_type": "markdown",
   "id": "292b65bc",
   "metadata": {},
   "source": [
    "## 中央/地方の戦績数を頭数ごとにプロットしてみる"
   ]
  },
  {
   "cell_type": "code",
   "execution_count": 697,
   "id": "df7cf927",
   "metadata": {},
   "outputs": [
    {
     "data": {
      "image/png": "[encoded data removed]",
      "text/plain": [
       "<Figure size 1080x576 with 1 Axes>"
      ]
     },
     "metadata": {
      "needs_background": "light"
     },
     "output_type": "display_data"
    }
   ],
   "source": [
    "plt.figure(figsize=(15, 8))\n",
    "ax = sns.histplot(df[['頭数', '中央/地方']], x=df['頭数'], hue='中央/地方')"
   ]
  },
  {
   "cell_type": "markdown",
   "id": "7d30aaa1-9915-4d75-a6d7-12b1cfcb793d",
   "metadata": {},
   "source": [
    "- 中央は地方に比べ馬戦績数が160,000データほど少ないが、中央は1レースあたりの頭数が多い分複勝予測の価値は中央の方が高いため、予定通り中央レースに特化したモデル作成を目指す。"
   ]
  },
  {
   "cell_type": "markdown",
   "id": "08877e46-1b83-4d22-aa12-2df7b4591f4a",
   "metadata": {},
   "source": [
    "## 頭数で割って、概算レース数をプロットしてみる"
   ]
  },
  {
   "cell_type": "code",
   "execution_count": 698,
   "id": "7ceb1e0e-5644-4405-afff-74d022c79292",
   "metadata": {},
   "outputs": [],
   "source": [
    "temp_urban = df\n",
    "temp_urban = temp_urban[temp_urban['中央/地方'] == '中央']\n",
    "count_urban = temp_urban.groupby('頭数').count()\n",
    "count_urban.reset_index(inplace=True)\n",
    "\n",
    "num_race_urban = pd.DataFrame(columns=['頭数', 'num_race', '中央/地方'])\n",
    "num_race_urban['頭数'] = count_urban['頭数']\n",
    "num_race_urban['num_race'] = count_urban['horse_id'] / count_urban['頭数']\n",
    "num_race_urban['中央/地方'] = '中央'"
   ]
  },
  {
   "cell_type": "code",
   "execution_count": 699,
   "id": "142771a7-cc6e-4f13-af6f-0fa9a03c2645",
   "metadata": {},
   "outputs": [],
   "source": [
    "temp_rural = df\n",
    "temp_rural = temp_rural[temp_rural['中央/地方'] == '地方']\n",
    "count_rural = temp_rural.groupby('頭数').count()\n",
    "count_rural.reset_index(inplace=True)\n",
    "\n",
    "num_race_rural = pd.DataFrame(columns=['頭数', 'num_race'])\n",
    "num_race_rural['頭数'] = count_rural['頭数']\n",
    "num_race_rural['num_race'] = count_rural['horse_id'] / count_rural['頭数']\n",
    "num_race_rural['中央/地方'] = '地方'"
   ]
  },
  {
   "cell_type": "code",
   "execution_count": 700,
   "id": "fc286099-9e5f-41a4-b37d-f55c6be6ed56",
   "metadata": {},
   "outputs": [
    {
     "data": {
      "text/html": [
       "<div>\n",
       "<style scoped>\n",
       "    .dataframe tbody tr th:only-of-type {\n",
       "        vertical-align: middle;\n",
       "    }\n",
       "\n",
       "    .dataframe tbody tr th {\n",
       "        vertical-align: top;\n",
       "    }\n",
       "\n",
       "    .dataframe thead th {\n",
       "        text-align: right;\n",
       "    }\n",
       "</style>\n",
       "<table border=\"1\" class=\"dataframe\">\n",
       "  <thead>\n",
       "    <tr style=\"text-align: right;\">\n",
       "      <th></th>\n",
       "      <th>頭数</th>\n",
       "      <th>num_race</th>\n",
       "      <th>中央/地方</th>\n",
       "    </tr>\n",
       "  </thead>\n",
       "  <tbody>\n",
       "    <tr>\n",
       "      <th>0</th>\n",
       "      <td>4.0</td>\n",
       "      <td>6.000000</td>\n",
       "      <td>中央</td>\n",
       "    </tr>\n",
       "    <tr>\n",
       "      <th>1</th>\n",
       "      <td>5.0</td>\n",
       "      <td>62.600000</td>\n",
       "      <td>中央</td>\n",
       "    </tr>\n",
       "    <tr>\n",
       "      <th>2</th>\n",
       "      <td>6.0</td>\n",
       "      <td>215.000000</td>\n",
       "      <td>中央</td>\n",
       "    </tr>\n",
       "    <tr>\n",
       "      <th>3</th>\n",
       "      <td>7.0</td>\n",
       "      <td>699.142857</td>\n",
       "      <td>中央</td>\n",
       "    </tr>\n",
       "    <tr>\n",
       "      <th>4</th>\n",
       "      <td>8.0</td>\n",
       "      <td>1849.500000</td>\n",
       "      <td>中央</td>\n",
       "    </tr>\n",
       "    <tr>\n",
       "      <th>5</th>\n",
       "      <td>9.0</td>\n",
       "      <td>2983.777778</td>\n",
       "      <td>中央</td>\n",
       "    </tr>\n",
       "    <tr>\n",
       "      <th>6</th>\n",
       "      <td>10.0</td>\n",
       "      <td>4158.300000</td>\n",
       "      <td>中央</td>\n",
       "    </tr>\n",
       "    <tr>\n",
       "      <th>7</th>\n",
       "      <td>11.0</td>\n",
       "      <td>5128.000000</td>\n",
       "      <td>中央</td>\n",
       "    </tr>\n",
       "    <tr>\n",
       "      <th>8</th>\n",
       "      <td>12.0</td>\n",
       "      <td>6999.916667</td>\n",
       "      <td>中央</td>\n",
       "    </tr>\n",
       "    <tr>\n",
       "      <th>9</th>\n",
       "      <td>13.0</td>\n",
       "      <td>7094.000000</td>\n",
       "      <td>中央</td>\n",
       "    </tr>\n",
       "    <tr>\n",
       "      <th>10</th>\n",
       "      <td>14.0</td>\n",
       "      <td>9040.285714</td>\n",
       "      <td>中央</td>\n",
       "    </tr>\n",
       "    <tr>\n",
       "      <th>11</th>\n",
       "      <td>15.0</td>\n",
       "      <td>9882.533333</td>\n",
       "      <td>中央</td>\n",
       "    </tr>\n",
       "    <tr>\n",
       "      <th>12</th>\n",
       "      <td>16.0</td>\n",
       "      <td>25799.875000</td>\n",
       "      <td>中央</td>\n",
       "    </tr>\n",
       "    <tr>\n",
       "      <th>13</th>\n",
       "      <td>17.0</td>\n",
       "      <td>1528.235294</td>\n",
       "      <td>中央</td>\n",
       "    </tr>\n",
       "    <tr>\n",
       "      <th>14</th>\n",
       "      <td>18.0</td>\n",
       "      <td>5925.722222</td>\n",
       "      <td>中央</td>\n",
       "    </tr>\n",
       "    <tr>\n",
       "      <th>0</th>\n",
       "      <td>3.0</td>\n",
       "      <td>4.000000</td>\n",
       "      <td>地方</td>\n",
       "    </tr>\n",
       "    <tr>\n",
       "      <th>1</th>\n",
       "      <td>4.0</td>\n",
       "      <td>20.500000</td>\n",
       "      <td>地方</td>\n",
       "    </tr>\n",
       "    <tr>\n",
       "      <th>2</th>\n",
       "      <td>5.0</td>\n",
       "      <td>678.800000</td>\n",
       "      <td>地方</td>\n",
       "    </tr>\n",
       "    <tr>\n",
       "      <th>3</th>\n",
       "      <td>6.0</td>\n",
       "      <td>2190.333333</td>\n",
       "      <td>地方</td>\n",
       "    </tr>\n",
       "    <tr>\n",
       "      <th>4</th>\n",
       "      <td>7.0</td>\n",
       "      <td>6888.285714</td>\n",
       "      <td>地方</td>\n",
       "    </tr>\n",
       "    <tr>\n",
       "      <th>5</th>\n",
       "      <td>8.0</td>\n",
       "      <td>16962.750000</td>\n",
       "      <td>地方</td>\n",
       "    </tr>\n",
       "    <tr>\n",
       "      <th>6</th>\n",
       "      <td>9.0</td>\n",
       "      <td>26075.888889</td>\n",
       "      <td>地方</td>\n",
       "    </tr>\n",
       "    <tr>\n",
       "      <th>7</th>\n",
       "      <td>10.0</td>\n",
       "      <td>36510.800000</td>\n",
       "      <td>地方</td>\n",
       "    </tr>\n",
       "    <tr>\n",
       "      <th>8</th>\n",
       "      <td>11.0</td>\n",
       "      <td>14976.000000</td>\n",
       "      <td>地方</td>\n",
       "    </tr>\n",
       "    <tr>\n",
       "      <th>9</th>\n",
       "      <td>12.0</td>\n",
       "      <td>18758.333333</td>\n",
       "      <td>地方</td>\n",
       "    </tr>\n",
       "    <tr>\n",
       "      <th>10</th>\n",
       "      <td>13.0</td>\n",
       "      <td>2164.769231</td>\n",
       "      <td>地方</td>\n",
       "    </tr>\n",
       "    <tr>\n",
       "      <th>11</th>\n",
       "      <td>14.0</td>\n",
       "      <td>4001.785714</td>\n",
       "      <td>地方</td>\n",
       "    </tr>\n",
       "    <tr>\n",
       "      <th>12</th>\n",
       "      <td>15.0</td>\n",
       "      <td>489.000000</td>\n",
       "      <td>地方</td>\n",
       "    </tr>\n",
       "    <tr>\n",
       "      <th>13</th>\n",
       "      <td>16.0</td>\n",
       "      <td>919.250000</td>\n",
       "      <td>地方</td>\n",
       "    </tr>\n",
       "  </tbody>\n",
       "</table>\n",
       "</div>"
      ],
      "text/plain": [
       "      頭数      num_race 中央/地方\n",
       "0    4.0      6.000000    中央\n",
       "1    5.0     62.600000    中央\n",
       "2    6.0    215.000000    中央\n",
       "3    7.0    699.142857    中央\n",
       "4    8.0   1849.500000    中央\n",
       "5    9.0   2983.777778    中央\n",
       "6   10.0   4158.300000    中央\n",
       "7   11.0   5128.000000    中央\n",
       "8   12.0   6999.916667    中央\n",
       "9   13.0   7094.000000    中央\n",
       "10  14.0   9040.285714    中央\n",
       "11  15.0   9882.533333    中央\n",
       "12  16.0  25799.875000    中央\n",
       "13  17.0   1528.235294    中央\n",
       "14  18.0   5925.722222    中央\n",
       "0    3.0      4.000000    地方\n",
       "1    4.0     20.500000    地方\n",
       "2    5.0    678.800000    地方\n",
       "3    6.0   2190.333333    地方\n",
       "4    7.0   6888.285714    地方\n",
       "5    8.0  16962.750000    地方\n",
       "6    9.0  26075.888889    地方\n",
       "7   10.0  36510.800000    地方\n",
       "8   11.0  14976.000000    地方\n",
       "9   12.0  18758.333333    地方\n",
       "10  13.0   2164.769231    地方\n",
       "11  14.0   4001.785714    地方\n",
       "12  15.0    489.000000    地方\n",
       "13  16.0    919.250000    地方"
      ]
     },
     "execution_count": 700,
     "metadata": {},
     "output_type": "execute_result"
    }
   ],
   "source": [
    "num_race = pd.concat([num_race_urban, num_race_rural], axis=0)\n",
    "#num_race.columns=['頭数', 'num_race_urban'\n",
    "num_race"
   ]
  },
  {
   "cell_type": "code",
   "execution_count": 701,
   "id": "aaa938d9-e1ba-4a43-8ac2-ee899009596e",
   "metadata": {},
   "outputs": [
    {
     "data": {
      "text/plain": [
       "<AxesSubplot:xlabel='頭数', ylabel='num_race'>"
      ]
     },
     "execution_count": 701,
     "metadata": {},
     "output_type": "execute_result"
    },
    {
     "data": {
      "image/png": "[encoded data removed]",
      "text/plain": [
       "<Figure size 2160x1080 with 1 Axes>"
      ]
     },
     "metadata": {
      "needs_background": "light"
     },
     "output_type": "display_data"
    }
   ],
   "source": [
    "num_race.groupby('頭数')\n",
    "plt.figure(figsize=(30, 15))\n",
    "sns.barplot(data=num_race, x='頭数', y='num_race', hue='中央/地方')\n",
    "\n",
    "#sns.barplot(x=num_race['頭数']+1, y=num_race['num_race_rural'])"
   ]
  },
  {
   "cell_type": "code",
   "execution_count": 702,
   "id": "5bc1919d-bffb-47d3-b391-b6d5f28e1919",
   "metadata": {},
   "outputs": [
    {
     "name": "stdout",
     "output_type": "stream",
     "text": [
      "中央レース数:  81372\n",
      "地方レース数:  130640\n"
     ]
    }
   ],
   "source": [
    "print('中央レース数: ', int(num_race_urban['num_race'].sum())) \n",
    "print('地方レース数: ', int(num_race_rural['num_race'].sum()))"
   ]
  },
  {
   "cell_type": "markdown",
   "id": "95a0a277",
   "metadata": {},
   "source": [
    "- レース数は圧倒的に地方の方が多いですね。"
   ]
  },
  {
   "cell_type": "markdown",
   "id": "e680ce93",
   "metadata": {},
   "source": [
    "# 中央/地方のレース特徴を分析する"
   ]
  },
  {
   "cell_type": "markdown",
   "id": "040314fc",
   "metadata": {},
   "source": [
    "\n",
    "## 中央/地方にデータを分割する"
   ]
  },
  {
   "cell_type": "code",
   "execution_count": 703,
   "id": "96e867b4",
   "metadata": {},
   "outputs": [
    {
     "name": "stdout",
     "output_type": "stream",
     "text": [
      "地方    1296387\n",
      "中央    1142626\n",
      "Name: 中央/地方, dtype: int64\n"
     ]
    }
   ],
   "source": [
    "df_urban = df[df['中央/地方']=='中央']\n",
    "df_rural = df[df['中央/地方']=='地方']\n",
    "print(df['中央/地方'].value_counts())"
   ]
  },
  {
   "cell_type": "markdown",
   "id": "0d52abf9-de9a-4cb1-80f5-7533cbe0fa6b",
   "metadata": {},
   "source": [
    "- レース数は地方>中央、平均頭数は地方<中央\n",
    "- 馬戦績数は160000ほど差がある"
   ]
  },
  {
   "cell_type": "markdown",
   "id": "41a4564f",
   "metadata": {},
   "source": [
    "## 芝/ダート比率を確認する"
   ]
  },
  {
   "cell_type": "markdown",
   "id": "af095120",
   "metadata": {},
   "source": [
    "### ひとまず【距離】列で全体感を確認する"
   ]
  },
  {
   "cell_type": "code",
   "execution_count": 704,
   "id": "250c0757",
   "metadata": {},
   "outputs": [
    {
     "data": {
      "text/plain": [
       "<AxesSubplot:xlabel='距離', ylabel='Count'>"
      ]
     },
     "execution_count": 704,
     "metadata": {},
     "output_type": "execute_result"
    },
    {
     "data": {
      "image/png": "[encoded data removed]",
      "text/plain": [
       "<Figure size 2160x720 with 2 Axes>"
      ]
     },
     "metadata": {
      "needs_background": "light"
     },
     "output_type": "display_data"
    }
   ],
   "source": [
    "fig, ax = plt.subplots(2, 1, figsize=(30,10))\n",
    "sns.histplot(df_urban['距離'].sort_values(), ax=ax[0])\n",
    "sns.histplot(df_rural['距離'].sort_values(), ax=ax[1])"
   ]
  },
  {
   "cell_type": "markdown",
   "id": "29af433b",
   "metadata": {},
   "source": [
    "- 中央レース：芝/ダート/障害の3種があるので、ひとまず障害レースは削除する\n",
    "- 地方レース:芝/ダートの2種のみ"
   ]
  },
  {
   "cell_type": "code",
   "execution_count": 705,
   "id": "016975bd-3f35-4f19-8726-90c5fa128352",
   "metadata": {},
   "outputs": [
    {
     "name": "stdout",
     "output_type": "stream",
     "text": [
      "中央データ数:  (1142626, 22)\n",
      "地方データ数:  (1296387, 22)\n"
     ]
    }
   ],
   "source": [
    "print('中央データ数: ', df_urban.shape)\n",
    "print('地方データ数: ', df_rural.shape)"
   ]
  },
  {
   "cell_type": "code",
   "execution_count": 706,
   "id": "1685d4c6",
   "metadata": {},
   "outputs": [],
   "source": [
    "df_urban = df_urban[~df_urban['距離'].str.contains('障')]\n",
    "df = df[~df['距離'].str.contains('障')]"
   ]
  },
  {
   "cell_type": "code",
   "execution_count": 707,
   "id": "6b15b756-1d9f-4d55-943d-90e92a45e31a",
   "metadata": {},
   "outputs": [
    {
     "name": "stdout",
     "output_type": "stream",
     "text": [
      "中央データ数:  (1108855, 22)\n",
      "地方データ数:  (1296387, 22)\n"
     ]
    }
   ],
   "source": [
    "print('中央データ数: ', df_urban.shape)\n",
    "print('地方データ数: ', df_rural.shape)"
   ]
  },
  {
   "cell_type": "markdown",
   "id": "e95671fb-b246-4bdb-abf3-5cb8bd007e09",
   "metadata": {},
   "source": [
    "### 障害レースを除外した後のレース数を確認する"
   ]
  },
  {
   "cell_type": "code",
   "execution_count": 708,
   "id": "49f4dfac-571c-48a6-8360-cc03e92fb58a",
   "metadata": {},
   "outputs": [
    {
     "name": "stdout",
     "output_type": "stream",
     "text": [
      "中央レース数:  81372\n",
      "地方レース数:  130640\n"
     ]
    }
   ],
   "source": [
    "print('中央レース数: ', int(num_race_urban['num_race'].sum())) \n",
    "print('地方レース数: ', int(num_race_rural['num_race'].sum()))"
   ]
  },
  {
   "cell_type": "code",
   "execution_count": 709,
   "id": "29a5811b-8408-4cd3-b918-6be7fc764b32",
   "metadata": {},
   "outputs": [],
   "source": [
    "temp_urban = df_urban\n",
    "temp_urban = temp_urban[temp_urban['中央/地方'] == '中央']\n",
    "count_urban = temp_urban.groupby('頭数').count()\n",
    "count_urban.reset_index(inplace=True)\n",
    "\n",
    "num_race_urban = pd.DataFrame(columns=['頭数', 'num_race', '中央/地方'])\n",
    "num_race_urban['頭数'] = count_urban['頭数']\n",
    "num_race_urban['num_race'] = count_urban['horse_id'] / count_urban['頭数']\n",
    "num_race_urban['中央/地方'] = '中央'"
   ]
  },
  {
   "cell_type": "code",
   "execution_count": 710,
   "id": "79375df7-7052-439b-882a-cc3b8c949d77",
   "metadata": {},
   "outputs": [
    {
     "name": "stdout",
     "output_type": "stream",
     "text": [
      "中央レース数:  78688\n",
      "地方レース数:  130640\n"
     ]
    }
   ],
   "source": [
    "print('中央レース数: ', int(num_race_urban['num_race'].sum())) \n",
    "print('地方レース数: ', int(num_race_rural['num_race'].sum()))"
   ]
  },
  {
   "cell_type": "markdown",
   "id": "295f74ab-cc8f-4b8c-9077-86edf260bd1b",
   "metadata": {},
   "source": [
    "- 障害レース: 2700レースほど。"
   ]
  },
  {
   "cell_type": "markdown",
   "id": "58f89c2c-42da-43ee-bf3a-5823bf3133c1",
   "metadata": {},
   "source": [
    "### 障害レースを除外し、距離を改めてプロット"
   ]
  },
  {
   "cell_type": "code",
   "execution_count": 711,
   "id": "cefc78bf",
   "metadata": {},
   "outputs": [
    {
     "data": {
      "text/plain": [
       "<AxesSubplot:xlabel='距離', ylabel='Count'>"
      ]
     },
     "execution_count": 711,
     "metadata": {},
     "output_type": "execute_result"
    },
    {
     "data": {
      "image/png": "[encoded data removed]",
      "text/plain": [
       "<Figure size 2160x720 with 2 Axes>"
      ]
     },
     "metadata": {
      "needs_background": "light"
     },
     "output_type": "display_data"
    }
   ],
   "source": [
    "fig, ax = plt.subplots(2, 1, figsize=(30,10))\n",
    "sns.histplot(df_urban['距離'].sort_values(), ax=ax[0])\n",
    "sns.histplot(df_rural['距離'].sort_values(), ax=ax[1])"
   ]
  },
  {
   "cell_type": "markdown",
   "id": "6adb0349-93eb-4bca-aa19-448d325e3bf5",
   "metadata": {},
   "source": [
    "- 距離としては、地方と比較して中央の方が長いレースが多い。"
   ]
  },
  {
   "cell_type": "markdown",
   "id": "6823fd1e",
   "metadata": {},
   "source": [
    "### 芝/ダート列の追加、及び距離列の変更をする"
   ]
  },
  {
   "cell_type": "code",
   "execution_count": 712,
   "id": "0f35fd97",
   "metadata": {},
   "outputs": [
    {
     "name": "stdout",
     "output_type": "stream",
     "text": [
      "['芝1200' '芝1500' '芝1000' '芝1400' '芝1800' '芝1600' 'ダ1000' '芝2000' 'ダ1200'\n",
      " 'ダ1800' 'ダ1700' 'ダ1400' 'ダ1600' '芝2400' 'ダ1900' 'ダ2100' 'ダ1300' '芝2600'\n",
      " '芝2200' 'ダ1150' 'ダ2400' 'ダ2000' '芝2500' '芝2300' '芝3600' '芝3400' '芝3000'\n",
      " 'ダ2500' '芝3200' '芝1700' 'ダ2300' 'ダ2485' 'ダ1550' 'ダ1500' 'ダ1100' 'ダ2280']\n",
      "['ダ1200' 'ダ1500' 'ダ1400' 'ダ1800' 'ダ1000' 'ダ1600' 'ダ2000' '芝1700' 'ダ1300'\n",
      " 'ダ1700' 'ダ1230' 'ダ820' 'ダ800' 'ダ2200' 'ダ1870' 'ダ1900' 'ダ2100' 'ダ1100'\n",
      " '芝1000' 'ダ920' '芝1600' 'ダ900' 'ダ1750' 'ダ2400' 'ダ2500' 'ダ2600' '芝2400'\n",
      " 'ダ850' 'ダ1650' 'ダ2300' 'ダ3000' 'ダ1590' 'ダ1490' 'ダ1390' 'ダ1790' 'ダ1690'\n",
      " 'ダ1190' 'ダ2800']\n"
     ]
    }
   ],
   "source": [
    "print(df_urban['距離'].unique())\n",
    "print(df_rural['距離'].unique())"
   ]
  },
  {
   "cell_type": "code",
   "execution_count": 713,
   "id": "d458d02e-4701-4a8c-9dc1-c144140b06aa",
   "metadata": {},
   "outputs": [],
   "source": [
    "df['temp'] = df['距離'].str.contains('芝')\n",
    "df['芝/ダート'] = df['temp'].replace({False: 'ダート', True: '芝'})\n",
    "del df['temp']"
   ]
  },
  {
   "cell_type": "code",
   "execution_count": 714,
   "id": "e8205f45",
   "metadata": {},
   "outputs": [
    {
     "name": "stdout",
     "output_type": "stream",
     "text": [
      "ダート    561618\n",
      "芝      547237\n",
      "Name: 芝/ダート, dtype: int64\n",
      "ダート    1287959\n",
      "芝         8428\n",
      "Name: 芝/ダート, dtype: int64\n"
     ]
    },
    {
     "data": {
      "image/png": "[encoded data removed]",
      "text/plain": [
       "<Figure size 2160x1080 with 2 Axes>"
      ]
     },
     "metadata": {
      "needs_background": "light"
     },
     "output_type": "display_data"
    }
   ],
   "source": [
    "df_urban['temp'] = df_urban['距離'].str.contains('芝')\n",
    "df_urban['芝/ダート'] = df_urban['temp'].replace({False: 'ダート', True: '芝'})\n",
    "del df_urban['temp']\n",
    "\n",
    "df_rural['temp'] = df_rural['距離'].str.contains('芝')\n",
    "df_rural['芝/ダート'] = df_rural['temp'].replace({False: 'ダート', True: '芝'})\n",
    "del df_rural['temp']\n",
    "\n",
    "fig, ax = plt.subplots(1, 2, figsize=(30, 15))\n",
    "sns.histplot(df_urban['芝/ダート'], ax=ax[0])\n",
    "ax[0].set(ylim=(0, 2e6))\n",
    "sns.histplot(df_rural['芝/ダート'], ax=ax[1])\n",
    "ax[1].set(ylim=(0, 2e6))\n",
    "\n",
    "print(df_urban['芝/ダート'].value_counts())\n",
    "print(df_rural['芝/ダート'].value_counts())"
   ]
  },
  {
   "cell_type": "markdown",
   "id": "779537fe-fdb0-491d-accc-433c8cd1d2c5",
   "metadata": {},
   "source": [
    "## 中央/地方それぞれの距離のヒストグラムを確認してみる"
   ]
  },
  {
   "cell_type": "code",
   "execution_count": 715,
   "id": "6923db2a",
   "metadata": {},
   "outputs": [
    {
     "name": "stdout",
     "output_type": "stream",
     "text": [
      "(1108855, 23)\n",
      "(1296387, 23)\n",
      "(2405242, 23)\n"
     ]
    },
    {
     "data": {
      "image/png": "[encoded data removed]",
      "text/plain": [
       "<Figure size 1440x2160 with 4 Axes>"
      ]
     },
     "metadata": {
      "needs_background": "light"
     },
     "output_type": "display_data"
    }
   ],
   "source": [
    "df_urban['距離'] = df_urban['距離'].str.strip('芝')\n",
    "df_urban['距離'] = df_urban['距離'].str.strip('ダ')\n",
    "\n",
    "df_rural['距離'] = df_rural['距離'].str.strip('芝')\n",
    "df_rural['距離'] = df_rural['距離'].str.strip('ダ')\n",
    "\n",
    "fig, ax = plt.subplots(4, 1, figsize=(20, 30))\n",
    "sns.histplot(df_urban['距離'].astype(int).sort_values(), binwidth=30, ax=ax[0])\n",
    "sns.histplot(df_rural['距離'].astype(int).sort_values(), binwidth=30, ax=ax[1])\n",
    "sns.histplot(df_urban['距離'].astype(int).sort_values(), binwidth=30, ax=ax[2])\n",
    "sns.histplot(df_rural['距離'].astype(int).sort_values(), binwidth=30, ax=ax[3])\n",
    "ax[0].set(title='中央', xlim=(500, 4000))\n",
    "ax[1].set(title='地方', xlim=(500, 4000))\n",
    "ax[2].set(title='中央', xlim=(500, 4000), ylim=(0, 10000))\n",
    "ax[3].set(title='地方', xlim=(500, 4000), ylim=(0, 10000))\n",
    "\n",
    "print(df_urban.shape)\n",
    "print(df_rural.shape)\n",
    "print(df.shape)"
   ]
  },
  {
   "cell_type": "markdown",
   "id": "ea1a2c6c-3472-44a4-86c0-533f653a44cf",
   "metadata": {},
   "source": [
    "## 芝/ダートのレース名の確認"
   ]
  },
  {
   "cell_type": "code",
   "execution_count": 716,
   "id": "e690fdcb-d003-467f-8072-db43fc997fb9",
   "metadata": {},
   "outputs": [
    {
     "name": "stdout",
     "output_type": "stream",
     "text": [
      "皐月賞(G1)\n",
      "阪神ジュベナイルF(G1)\n",
      "朝日フューチュリティ(G1)\n",
      "秋華賞(G1)\n",
      "NHKマイルC(G1)\n",
      "菊花賞(G1)\n",
      "東京優駿(G1)\n",
      "ホープフルS(G1)\n",
      "宝塚記念(G1)\n",
      "安田記念(G1)\n",
      "天皇賞(春)(G1)\n",
      "有馬記念(G1)\n",
      "ジャパンC(G1)\n",
      "天皇賞(秋)(G1)\n",
      "大阪杯(G1)\n",
      "エリザベス女王杯(G1)\n",
      "優駿牝馬(G1)\n",
      "桜花賞(G1)\n",
      "スプリンターズS(G1)\n",
      "高松宮記念(G1)\n",
      "ヴィクトリアマイル(G1)\n",
      "マイルチャンピオンS(G1)\n",
      "朝日杯FS(G1)\n",
      "朝日杯3歳S(G1)\n",
      "阪神3歳牝馬S(G1)\n",
      "高松宮杯(G1)\n"
     ]
    }
   ],
   "source": [
    "for i in df_urban[df_urban['芝/ダート']=='芝']['レース名'].unique():\n",
    "    if 'G1' in i:\n",
    "        print(i)"
   ]
  },
  {
   "cell_type": "code",
   "execution_count": 717,
   "id": "e26f30ef-e342-4928-b2eb-32ade07a69a3",
   "metadata": {},
   "outputs": [
    {
     "name": "stdout",
     "output_type": "stream",
     "text": [
      "フェブラリーS(G1)\n",
      "チャンピオンズC(G1)\n",
      "JBCクラシック(G1)\n",
      "JBCスプリント(G1)\n",
      "JBCレディスクラシ(G1)\n",
      "ジャパンカップダート(G1)\n",
      "マイルCS南部杯(G1)\n"
     ]
    }
   ],
   "source": [
    "for i in df_urban[df_urban['芝/ダート']=='ダート']['レース名'].unique():\n",
    "    if 'G1' in i:\n",
    "        print(i)"
   ]
  },
  {
   "cell_type": "markdown",
   "id": "f776d181-838e-466e-82ae-230fa4dd594b",
   "metadata": {},
   "source": [
    "- 中央のG1は圧倒的に芝が多い"
   ]
  },
  {
   "cell_type": "markdown",
   "id": "95c9349c",
   "metadata": {},
   "source": [
    "### 3000m以上のレースってなんじゃ？"
   ]
  },
  {
   "cell_type": "code",
   "execution_count": 718,
   "id": "7eae3747",
   "metadata": {},
   "outputs": [
    {
     "data": {
      "text/plain": [
       "array(['ステイヤーズS(G2)', 'ダイヤモンドS(G3)', '阪神大賞典(G2)', '菊花賞(G1)', '万葉S(OP)',\n",
       "       '天皇賞(春)(G1)', '松籟S(3勝クラス)', '古都S(3勝クラス)', 'ドンカスターS(OP)',\n",
       "       'ドンカスターS(1600万下)', '嵐山S(OP)', 'ステイヤーズS(G3)'], dtype=object)"
      ]
     },
     "execution_count": 718,
     "metadata": {},
     "output_type": "execute_result"
    }
   ],
   "source": [
    "df_urban['レース名'][df_urban['距離'].astype(int) >=3000].unique()"
   ]
  },
  {
   "cell_type": "code",
   "execution_count": 719,
   "id": "18b89df6-e45f-455f-abff-6a87076bfb67",
   "metadata": {},
   "outputs": [
    {
     "data": {
      "text/plain": [
       "horse_id         0\n",
       "日付               0\n",
       "開催               0\n",
       "天気              11\n",
       "R                0\n",
       "レース名             0\n",
       "頭数               0\n",
       "枠番               0\n",
       "馬番               0\n",
       "オッズ         179304\n",
       "人気               9\n",
       "着順               0\n",
       "騎手               0\n",
       "斤量               0\n",
       "距離               0\n",
       "馬場              11\n",
       "タイム              0\n",
       "着差              11\n",
       "馬体重              0\n",
       "勝ち馬(2着馬)         5\n",
       "レース場             0\n",
       "中央/地方            0\n",
       "芝/ダート            0\n",
       "dtype: int64"
      ]
     },
     "execution_count": 719,
     "metadata": {},
     "output_type": "execute_result"
    }
   ],
   "source": [
    "df.isnull().sum()"
   ]
  },
  {
   "cell_type": "markdown",
   "id": "d6e7231b",
   "metadata": {},
   "source": [
    "## まずはTarget作成"
   ]
  },
  {
   "cell_type": "markdown",
   "id": "3237d651",
   "metadata": {},
   "source": [
    "### 着順はレースあたりの頭数で重み付け"
   ]
  },
  {
   "cell_type": "code",
   "execution_count": 720,
   "id": "81d69c68-0adb-404a-8545-7fa6a8c38a58",
   "metadata": {},
   "outputs": [
    {
     "name": "stdout",
     "output_type": "stream",
     "text": [
      "[ 3  1  2  5  4  7  8  6 10 11  9 14 12 13 15 16 17 18]\n"
     ]
    }
   ],
   "source": [
    "df['着順'] = df['着順'].str.strip('(降)')\n",
    "df['着順'] = df['着順'].str.strip('(再')\n",
    "df['着順'] = df['着順'].astype(float).astype(int)\n",
    "print(df['着順'].unique())"
   ]
  },
  {
   "cell_type": "code",
   "execution_count": 721,
   "id": "23fcb732",
   "metadata": {},
   "outputs": [
    {
     "name": "stdout",
     "output_type": "stream",
     "text": [
      "[ 3  1  2  5  4  7  8  6 10 11  9 14 12 13 15 16 17 18]\n",
      "[ 3  2  5  1  9  8  4 10  6  7 13 14 11 12 16 15]\n"
     ]
    }
   ],
   "source": [
    "df_urban['着順'] = df_urban['着順'].str.strip('(降)')\n",
    "df_urban['着順'] = df_urban['着順'].str.strip('(再')\n",
    "df_urban['着順'] = df_urban['着順'].astype(float).astype(int)\n",
    "print(df_urban['着順'].unique())\n",
    "\n",
    "df_rural['着順'] = df_rural['着順'].str.strip('(降)')\n",
    "df_rural['着順'] = df_rural['着順'].str.strip('(再')\n",
    "df_rural['着順'] = df_rural['着順'].astype(float).astype(int)\n",
    "print(df_rural['着順'].unique())"
   ]
  },
  {
   "cell_type": "code",
   "execution_count": 722,
   "id": "efbdaf57-ba0a-403a-8204-0bf038c60b2e",
   "metadata": {},
   "outputs": [
    {
     "name": "stdout",
     "output_type": "stream",
     "text": [
      "[10 14  8 16 12  9 15  5 13 11 17  7  6 18  4  3]\n"
     ]
    }
   ],
   "source": [
    "df['頭数'] = df['頭数'].astype(int)\n",
    "print(df['頭数'].unique())"
   ]
  },
  {
   "cell_type": "code",
   "execution_count": 723,
   "id": "e433454b",
   "metadata": {},
   "outputs": [
    {
     "name": "stdout",
     "output_type": "stream",
     "text": [
      "[10 14  8 16 12  9 15  5 13 11 17  7  6 18  4]\n",
      "[ 9  7 12 10 11 13  6 14  8  5 16  4 15  3]\n"
     ]
    }
   ],
   "source": [
    "df_urban['頭数'] = df_urban['頭数'].astype(int)\n",
    "print(df_urban['頭数'].unique())\n",
    "\n",
    "df_rural['頭数'] = df_rural['頭数'].astype(int)\n",
    "print(df_rural['頭数'].unique())"
   ]
  },
  {
   "cell_type": "code",
   "execution_count": 724,
   "id": "381347ee-32d2-4981-aeef-249d55c01e13",
   "metadata": {},
   "outputs": [
    {
     "data": {
      "text/html": [
       "<div>\n",
       "<style scoped>\n",
       "    .dataframe tbody tr th:only-of-type {\n",
       "        vertical-align: middle;\n",
       "    }\n",
       "\n",
       "    .dataframe tbody tr th {\n",
       "        vertical-align: top;\n",
       "    }\n",
       "\n",
       "    .dataframe thead th {\n",
       "        text-align: right;\n",
       "    }\n",
       "</style>\n",
       "<table border=\"1\" class=\"dataframe\">\n",
       "  <thead>\n",
       "    <tr style=\"text-align: right;\">\n",
       "      <th></th>\n",
       "      <th>horse_id</th>\n",
       "      <th>日付</th>\n",
       "      <th>開催</th>\n",
       "      <th>天気</th>\n",
       "      <th>R</th>\n",
       "      <th>レース名</th>\n",
       "      <th>頭数</th>\n",
       "      <th>枠番</th>\n",
       "      <th>馬番</th>\n",
       "      <th>オッズ</th>\n",
       "      <th>...</th>\n",
       "      <th>距離</th>\n",
       "      <th>馬場</th>\n",
       "      <th>タイム</th>\n",
       "      <th>着差</th>\n",
       "      <th>馬体重</th>\n",
       "      <th>勝ち馬(2着馬)</th>\n",
       "      <th>レース場</th>\n",
       "      <th>中央/地方</th>\n",
       "      <th>芝/ダート</th>\n",
       "      <th>着順/頭数</th>\n",
       "    </tr>\n",
       "  </thead>\n",
       "  <tbody>\n",
       "    <tr>\n",
       "      <th>0</th>\n",
       "      <td>2020105571</td>\n",
       "      <td>2022/09/24</td>\n",
       "      <td>4中山6</td>\n",
       "      <td>曇</td>\n",
       "      <td>9.0</td>\n",
       "      <td>カンナS(OP)</td>\n",
       "      <td>10</td>\n",
       "      <td>3.0</td>\n",
       "      <td>3.0</td>\n",
       "      <td>12.9</td>\n",
       "      <td>...</td>\n",
       "      <td>芝1200</td>\n",
       "      <td>重</td>\n",
       "      <td>1:09.7</td>\n",
       "      <td>0.3</td>\n",
       "      <td>466(+2)</td>\n",
       "      <td>ウメムスビ</td>\n",
       "      <td>中山</td>\n",
       "      <td>中央</td>\n",
       "      <td>芝</td>\n",
       "      <td>0.300000</td>\n",
       "    </tr>\n",
       "    <tr>\n",
       "      <th>1</th>\n",
       "      <td>2020105571</td>\n",
       "      <td>2022/09/03</td>\n",
       "      <td>2札幌7</td>\n",
       "      <td>晴</td>\n",
       "      <td>1.0</td>\n",
       "      <td>2歳未勝利</td>\n",
       "      <td>14</td>\n",
       "      <td>7.0</td>\n",
       "      <td>12.0</td>\n",
       "      <td>1.9</td>\n",
       "      <td>...</td>\n",
       "      <td>芝1200</td>\n",
       "      <td>良</td>\n",
       "      <td>1:10.7</td>\n",
       "      <td>-0.5</td>\n",
       "      <td>464(-2)</td>\n",
       "      <td>(コパカバーナビーチ)</td>\n",
       "      <td>札幌</td>\n",
       "      <td>中央</td>\n",
       "      <td>芝</td>\n",
       "      <td>0.071429</td>\n",
       "    </tr>\n",
       "    <tr>\n",
       "      <th>2</th>\n",
       "      <td>2020105571</td>\n",
       "      <td>2022/08/27</td>\n",
       "      <td>2札幌5</td>\n",
       "      <td>曇</td>\n",
       "      <td>2.0</td>\n",
       "      <td>2歳未勝利</td>\n",
       "      <td>8</td>\n",
       "      <td>4.0</td>\n",
       "      <td>4.0</td>\n",
       "      <td>2.2</td>\n",
       "      <td>...</td>\n",
       "      <td>芝1200</td>\n",
       "      <td>良</td>\n",
       "      <td>1:10.5</td>\n",
       "      <td>0.1</td>\n",
       "      <td>466(+2)</td>\n",
       "      <td>バロットボックス</td>\n",
       "      <td>札幌</td>\n",
       "      <td>中央</td>\n",
       "      <td>芝</td>\n",
       "      <td>0.250000</td>\n",
       "    </tr>\n",
       "    <tr>\n",
       "      <th>3</th>\n",
       "      <td>2020105571</td>\n",
       "      <td>2022/08/06</td>\n",
       "      <td>1札幌5</td>\n",
       "      <td>晴</td>\n",
       "      <td>5.0</td>\n",
       "      <td>2歳新馬</td>\n",
       "      <td>8</td>\n",
       "      <td>3.0</td>\n",
       "      <td>3.0</td>\n",
       "      <td>21.9</td>\n",
       "      <td>...</td>\n",
       "      <td>芝1200</td>\n",
       "      <td>良</td>\n",
       "      <td>1:10.9</td>\n",
       "      <td>0.8</td>\n",
       "      <td>464(0)</td>\n",
       "      <td>メイクアスナッチ</td>\n",
       "      <td>札幌</td>\n",
       "      <td>中央</td>\n",
       "      <td>芝</td>\n",
       "      <td>0.625000</td>\n",
       "    </tr>\n",
       "    <tr>\n",
       "      <th>4</th>\n",
       "      <td>2020101863</td>\n",
       "      <td>2022/09/25</td>\n",
       "      <td>4中山7</td>\n",
       "      <td>晴</td>\n",
       "      <td>2.0</td>\n",
       "      <td>2歳未勝利</td>\n",
       "      <td>16</td>\n",
       "      <td>8.0</td>\n",
       "      <td>15.0</td>\n",
       "      <td>6.6</td>\n",
       "      <td>...</td>\n",
       "      <td>芝1200</td>\n",
       "      <td>稍</td>\n",
       "      <td>1:10.0</td>\n",
       "      <td>0.6</td>\n",
       "      <td>420(-2)</td>\n",
       "      <td>クリノゴッホ</td>\n",
       "      <td>中山</td>\n",
       "      <td>中央</td>\n",
       "      <td>芝</td>\n",
       "      <td>0.312500</td>\n",
       "    </tr>\n",
       "  </tbody>\n",
       "</table>\n",
       "<p>5 rows × 24 columns</p>\n",
       "</div>"
      ],
      "text/plain": [
       "     horse_id          日付    開催 天気    R      レース名  頭数   枠番    馬番   オッズ  ...  \\\n",
       "0  2020105571  2022/09/24  4中山6  曇  9.0  カンナS(OP)  10  3.0   3.0  12.9  ...   \n",
       "1  2020105571  2022/09/03  2札幌7  晴  1.0     2歳未勝利  14  7.0  12.0   1.9  ...   \n",
       "2  2020105571  2022/08/27  2札幌5  曇  2.0     2歳未勝利   8  4.0   4.0   2.2  ...   \n",
       "3  2020105571  2022/08/06  1札幌5  晴  5.0      2歳新馬   8  3.0   3.0  21.9  ...   \n",
       "4  2020101863  2022/09/25  4中山7  晴  2.0     2歳未勝利  16  8.0  15.0   6.6  ...   \n",
       "\n",
       "      距離  馬場     タイム   着差      馬体重     勝ち馬(2着馬) レース場  中央/地方 芝/ダート     着順/頭数  \n",
       "0  芝1200   重  1:09.7  0.3  466(+2)        ウメムスビ   中山     中央     芝  0.300000  \n",
       "1  芝1200   良  1:10.7 -0.5  464(-2)  (コパカバーナビーチ)   札幌     中央     芝  0.071429  \n",
       "2  芝1200   良  1:10.5  0.1  466(+2)     バロットボックス   札幌     中央     芝  0.250000  \n",
       "3  芝1200   良  1:10.9  0.8   464(0)     メイクアスナッチ   札幌     中央     芝  0.625000  \n",
       "4  芝1200   稍  1:10.0  0.6  420(-2)       クリノゴッホ   中山     中央     芝  0.312500  \n",
       "\n",
       "[5 rows x 24 columns]"
      ]
     },
     "execution_count": 724,
     "metadata": {},
     "output_type": "execute_result"
    }
   ],
   "source": [
    "df['着順/頭数'] = df['着順'] / df['頭数']\n",
    "df.head()"
   ]
  },
  {
   "cell_type": "code",
   "execution_count": 725,
   "id": "ef427c39",
   "metadata": {},
   "outputs": [
    {
     "name": "stdout",
     "output_type": "stream",
     "text": [
      "     horse_id          日付    開催 天気    R      レース名  頭数   枠番    馬番   オッズ  ...  \\\n",
      "0  2020105571  2022/09/24  4中山6  曇  9.0  カンナS(OP)  10  3.0   3.0  12.9  ...   \n",
      "1  2020105571  2022/09/03  2札幌7  晴  1.0     2歳未勝利  14  7.0  12.0   1.9  ...   \n",
      "2  2020105571  2022/08/27  2札幌5  曇  2.0     2歳未勝利   8  4.0   4.0   2.2  ...   \n",
      "3  2020105571  2022/08/06  1札幌5  晴  5.0      2歳新馬   8  3.0   3.0  21.9  ...   \n",
      "4  2020101863  2022/09/25  4中山7  晴  2.0     2歳未勝利  16  8.0  15.0   6.6  ...   \n",
      "\n",
      "     距離  馬場     タイム   着差      馬体重     勝ち馬(2着馬) レース場  中央/地方 芝/ダート     着順/頭数  \n",
      "0  1200   重  1:09.7  0.3  466(+2)        ウメムスビ   中山     中央     芝  0.300000  \n",
      "1  1200   良  1:10.7 -0.5  464(-2)  (コパカバーナビーチ)   札幌     中央     芝  0.071429  \n",
      "2  1200   良  1:10.5  0.1  466(+2)     バロットボックス   札幌     中央     芝  0.250000  \n",
      "3  1200   良  1:10.9  0.8   464(0)     メイクアスナッチ   札幌     中央     芝  0.625000  \n",
      "4  1200   稍  1:10.0  0.6  420(-2)       クリノゴッホ   中山     中央     芝  0.312500  \n",
      "\n",
      "[5 rows x 24 columns]\n",
      "       horse_id          日付   開催 天気     R         レース名  頭数   枠番   馬番   オッズ  \\\n",
      "213  2019102323  2022/08/03   門別  曇   8.0        リゲル特別   9  8.0  8.0  12.3   \n",
      "216  2019102323  2022/06/07   金沢  曇   8.0  能登舳倉島賞(未勝利)   7  3.0  3.0  16.8   \n",
      "313  2019103289  2022/02/02   姫路  曇  10.0   JRA交流鉢伏山特別  12  6.0  7.0  11.3   \n",
      "349  2019103028  2022/09/21   門別  晴   8.0    地域応援商品券特別  10  3.0  3.0   9.6   \n",
      "433  2017104666  2021/01/03  名古屋  晴   6.0          C3組  11  3.0  3.0   1.5   \n",
      "\n",
      "     ...    距離  馬場     タイム   着差       馬体重   勝ち馬(2着馬) レース場  中央/地方 芝/ダート  \\\n",
      "213  ...  1200   重  1:13.4  0.4   468(-8)     ルパルテール   門別     地方   ダート   \n",
      "216  ...  1500   重  1:34.0  0.1   484(-4)  グラフィティウォー   金沢     地方   ダート   \n",
      "313  ...  1500   良  1:38.8  2.2    464(0)        ラヤス   姫路     地方   ダート   \n",
      "349  ...  1200   重  1:14.1  0.6  460(+18)    コスモサミット   門別     地方   ダート   \n",
      "433  ...  1400   良  1:32.1  0.1   503(+4)   サンマルマオリオ  名古屋     地方   ダート   \n",
      "\n",
      "        着順/頭数  \n",
      "213  0.333333  \n",
      "216  0.285714  \n",
      "313  0.416667  \n",
      "349  0.300000  \n",
      "433  0.181818  \n",
      "\n",
      "[5 rows x 24 columns]\n"
     ]
    }
   ],
   "source": [
    "df_urban['着順/頭数'] = df_urban['着順'] / df_urban['頭数']\n",
    "df_rural['着順/頭数'] = df_rural['着順'] / df_rural['頭数']\n",
    "print(df_urban.head())\n",
    "print(df_rural.head())"
   ]
  },
  {
   "cell_type": "markdown",
   "id": "4bb8e41a",
   "metadata": {},
   "source": [
    "### 頭数>=6 のレースに絞る"
   ]
  },
  {
   "cell_type": "code",
   "execution_count": 726,
   "id": "a0986fcf-ccde-4053-aa4f-b779525d598f",
   "metadata": {},
   "outputs": [
    {
     "name": "stdout",
     "output_type": "stream",
     "text": [
      "中央データ数:  (1108855, 24)\n",
      "地方データ数:  (1296387, 24)\n"
     ]
    }
   ],
   "source": [
    "print('中央データ数: ', df_urban.shape)\n",
    "print('地方データ数: ', df_rural.shape)"
   ]
  },
  {
   "cell_type": "code",
   "execution_count": 727,
   "id": "223429f3",
   "metadata": {},
   "outputs": [
    {
     "name": "stdout",
     "output_type": "stream",
     "text": [
      "[10 14  8 16 12  9 15 13 11 17  7  6 18]\n",
      "中央データ数:  (1108540, 24)\n",
      "[ 9  7 12 10 11 13  6 14  8 16 15]\n",
      "地方データ数:  (1292899, 24)\n"
     ]
    }
   ],
   "source": [
    "df_urban = df_urban[df_urban['頭数'].astype(int) >= 6]\n",
    "print(df_urban['頭数'].unique())\n",
    "print('中央データ数: ', df_urban.shape)\n",
    "\n",
    "df_rural = df_rural[df_rural['頭数'].astype(int) >= 6]\n",
    "print(df_rural['頭数'].unique())\n",
    "print('地方データ数: ', df_rural.shape)"
   ]
  },
  {
   "cell_type": "markdown",
   "id": "ac50633a-d6c0-4854-9e6d-ead2ebba4348",
   "metadata": {},
   "source": [
    "## targetを作成する"
   ]
  },
  {
   "cell_type": "code",
   "execution_count": 728,
   "id": "4ba52277-4d12-4c55-bd7d-b9fb42d19924",
   "metadata": {},
   "outputs": [
    {
     "data": {
      "text/html": [
       "<div>\n",
       "<style scoped>\n",
       "    .dataframe tbody tr th:only-of-type {\n",
       "        vertical-align: middle;\n",
       "    }\n",
       "\n",
       "    .dataframe tbody tr th {\n",
       "        vertical-align: top;\n",
       "    }\n",
       "\n",
       "    .dataframe thead th {\n",
       "        text-align: right;\n",
       "    }\n",
       "</style>\n",
       "<table border=\"1\" class=\"dataframe\">\n",
       "  <thead>\n",
       "    <tr style=\"text-align: right;\">\n",
       "      <th></th>\n",
       "      <th>horse_id</th>\n",
       "      <th>target</th>\n",
       "      <th>1g_ago</th>\n",
       "      <th>2g_ago</th>\n",
       "      <th>3g_ago</th>\n",
       "      <th>4g_ago</th>\n",
       "    </tr>\n",
       "  </thead>\n",
       "  <tbody>\n",
       "    <tr>\n",
       "      <th>0</th>\n",
       "      <td>1988105984</td>\n",
       "      <td>0.0</td>\n",
       "      <td>0.600000</td>\n",
       "      <td>0.333333</td>\n",
       "      <td>0.066667</td>\n",
       "      <td>0.538462</td>\n",
       "    </tr>\n",
       "    <tr>\n",
       "      <th>1</th>\n",
       "      <td>1991103531</td>\n",
       "      <td>0.0</td>\n",
       "      <td>0.461538</td>\n",
       "      <td>0.666667</td>\n",
       "      <td>0.375000</td>\n",
       "      <td>NaN</td>\n",
       "    </tr>\n",
       "    <tr>\n",
       "      <th>2</th>\n",
       "      <td>1991190011</td>\n",
       "      <td>0.0</td>\n",
       "      <td>NaN</td>\n",
       "      <td>NaN</td>\n",
       "      <td>NaN</td>\n",
       "      <td>NaN</td>\n",
       "    </tr>\n",
       "    <tr>\n",
       "      <th>3</th>\n",
       "      <td>1992100038</td>\n",
       "      <td>0.0</td>\n",
       "      <td>0.555556</td>\n",
       "      <td>0.636364</td>\n",
       "      <td>0.375000</td>\n",
       "      <td>0.333333</td>\n",
       "    </tr>\n",
       "    <tr>\n",
       "      <th>4</th>\n",
       "      <td>1992101546</td>\n",
       "      <td>0.0</td>\n",
       "      <td>0.285714</td>\n",
       "      <td>0.250000</td>\n",
       "      <td>0.250000</td>\n",
       "      <td>0.750000</td>\n",
       "    </tr>\n",
       "  </tbody>\n",
       "</table>\n",
       "</div>"
      ],
      "text/plain": [
       "     horse_id  target    1g_ago    2g_ago    3g_ago    4g_ago\n",
       "0  1988105984     0.0  0.600000  0.333333  0.066667  0.538462\n",
       "1  1991103531     0.0  0.461538  0.666667  0.375000       NaN\n",
       "2  1991190011     0.0       NaN       NaN       NaN       NaN\n",
       "3  1992100038     0.0  0.555556  0.636364  0.375000  0.333333\n",
       "4  1992101546     0.0  0.285714  0.250000  0.250000  0.750000"
      ]
     },
     "execution_count": 728,
     "metadata": {},
     "output_type": "execute_result"
    }
   ],
   "source": [
    "a.head()"
   ]
  },
  {
   "cell_type": "code",
   "execution_count": 729,
   "id": "78c41b88-e19d-4aab-9073-30647f2e0db1",
   "metadata": {},
   "outputs": [],
   "source": [
    "df.reset_index(inplace=True)\n",
    "\n",
    "count = 0\n",
    "count_per_hid = []\n",
    "for ids, hid in enumerate(df['horse_id']):\n",
    "    if ids == 0 or df['horse_id'][ids] != df['horse_id'][ids-1]:\n",
    "        count = 0\n",
    "    else:\n",
    "        count += 1\n",
    "    count_per_hid += [count]\n",
    "df['count_per_hid'] = count_per_hid\n",
    "\n",
    "pdf = df.pivot_table(values=['着順/頭数'], index=['horse_id'], columns=['count_per_hid'], aggfunc='max')\n",
    "pdf = pdf.iloc[:,:6]\n",
    "pdf.head()\n",
    "pdf.reset_index(inplace=True)\n",
    "pdf.columns = ['horse_id', 'target', '1g_ago', '2g_ago', '3g_ago', '4g_ago', '5g_ago']\n",
    "pdf['target'] = pdf['target'].where(pdf['target'] <= 0.17, 0)\n",
    "pdf['target'] = pdf['target'].where(pdf['target'] == 0, 1)"
   ]
  },
  {
   "cell_type": "code",
   "execution_count": 730,
   "id": "c8e80ec2",
   "metadata": {},
   "outputs": [],
   "source": [
    "df_urban.reset_index(inplace=True)\n",
    "\n",
    "count = 0\n",
    "count_per_hid = []\n",
    "for ids, hid in enumerate(df_urban['horse_id']):\n",
    "    if ids == 0 or df_urban['horse_id'][ids] != df_urban['horse_id'][ids-1]:\n",
    "        count = 0\n",
    "    else:\n",
    "        count += 1\n",
    "    count_per_hid += [count]\n",
    "df_urban['count_per_hid'] = count_per_hid\n",
    "\n",
    "pivot_df_urban = df_urban.pivot_table(values=['着順/頭数'], index=['horse_id'], columns=['count_per_hid'], aggfunc='max')\n",
    "pivot_df_urban = pivot_df_urban.iloc[:,:6]\n",
    "pivot_df_urban.head()\n",
    "pivot_df_urban.reset_index(inplace=True)\n",
    "pivot_df_urban.columns = ['horse_id', 'target', '1g_ago', '2g_ago', '3g_ago', '4g_ago', '5g_ago']\n",
    "pivot_df_urban['target'] = pivot_df_urban['target'].where(pivot_df_urban['target'] <= 0.17, 0)\n",
    "pivot_df_urban['target'] = pivot_df_urban['target'].where(pivot_df_urban['target'] == 0, 1)"
   ]
  },
  {
   "cell_type": "code",
   "execution_count": 731,
   "id": "15a09a8b-20c9-4533-8afc-575e26a02fd9",
   "metadata": {},
   "outputs": [],
   "source": [
    "df_rural.reset_index(inplace=True)\n",
    "\n",
    "count = 0\n",
    "count_per_hid = []\n",
    "for ids, hid in enumerate(df_rural['horse_id']):\n",
    "    if ids == 0 or df_rural['horse_id'][ids] != df_rural['horse_id'][ids-1]:\n",
    "        count = 0\n",
    "    else:\n",
    "        count += 1\n",
    "    count_per_hid += [count]\n",
    "df_rural['count_per_hid'] = count_per_hid\n",
    "\n",
    "pivot_df_rural = df_rural.pivot_table(values=['着順/頭数'], index=['horse_id'], columns=['count_per_hid'], aggfunc='max')\n",
    "pivot_df_rural = pivot_df_rural.iloc[:,:6]\n",
    "pivot_df_rural.head()\n",
    "pivot_df_rural.reset_index(inplace=True)\n",
    "pivot_df_rural.columns = ['horse_id', 'target', '1g_ago', '2g_ago', '3g_ago', '4g_ago', '5g_ago']\n",
    "pivot_df_rural['target'] = pivot_df_rural['target'].where(pivot_df_rural['target'] <= 0.17, 0)\n",
    "pivot_df_rural['target'] = pivot_df_rural['target'].where(pivot_df_rural['target'] == 0, 1)"
   ]
  },
  {
   "cell_type": "code",
   "execution_count": 732,
   "id": "e6755bf9-9f88-4024-ac72-1f67407e9163",
   "metadata": {},
   "outputs": [
    {
     "name": "stdout",
     "output_type": "stream",
     "text": [
      "中央馬データ数:  (106766, 7)\n",
      "地方データ数:  (59258, 7)\n"
     ]
    },
    {
     "data": {
      "text/html": [
       "<div>\n",
       "<style scoped>\n",
       "    .dataframe tbody tr th:only-of-type {\n",
       "        vertical-align: middle;\n",
       "    }\n",
       "\n",
       "    .dataframe tbody tr th {\n",
       "        vertical-align: top;\n",
       "    }\n",
       "\n",
       "    .dataframe thead th {\n",
       "        text-align: right;\n",
       "    }\n",
       "</style>\n",
       "<table border=\"1\" class=\"dataframe\">\n",
       "  <thead>\n",
       "    <tr style=\"text-align: right;\">\n",
       "      <th></th>\n",
       "      <th>horse_id</th>\n",
       "      <th>target_x</th>\n",
       "      <th>1g_ago_x</th>\n",
       "      <th>2g_ago_x</th>\n",
       "      <th>3g_ago_x</th>\n",
       "      <th>4g_ago_x</th>\n",
       "      <th>5g_ago_x</th>\n",
       "      <th>target_y</th>\n",
       "      <th>1g_ago_y</th>\n",
       "      <th>2g_ago_y</th>\n",
       "      <th>3g_ago_y</th>\n",
       "      <th>4g_ago_y</th>\n",
       "      <th>5g_ago_y</th>\n",
       "    </tr>\n",
       "  </thead>\n",
       "  <tbody>\n",
       "    <tr>\n",
       "      <th>0</th>\n",
       "      <td>1988105984</td>\n",
       "      <td>0.0</td>\n",
       "      <td>0.333333</td>\n",
       "      <td>0.538462</td>\n",
       "      <td>0.083333</td>\n",
       "      <td>0.071429</td>\n",
       "      <td>0.363636</td>\n",
       "      <td>0.0</td>\n",
       "      <td>0.066667</td>\n",
       "      <td>0.812500</td>\n",
       "      <td>0.083333</td>\n",
       "      <td>1.000000</td>\n",
       "      <td>1.000000</td>\n",
       "    </tr>\n",
       "    <tr>\n",
       "      <th>1</th>\n",
       "      <td>1991103531</td>\n",
       "      <td>0.0</td>\n",
       "      <td>NaN</td>\n",
       "      <td>NaN</td>\n",
       "      <td>NaN</td>\n",
       "      <td>NaN</td>\n",
       "      <td>NaN</td>\n",
       "      <td>0.0</td>\n",
       "      <td>0.666667</td>\n",
       "      <td>0.375000</td>\n",
       "      <td>NaN</td>\n",
       "      <td>NaN</td>\n",
       "      <td>NaN</td>\n",
       "    </tr>\n",
       "    <tr>\n",
       "      <th>2</th>\n",
       "      <td>1991190011</td>\n",
       "      <td>0.0</td>\n",
       "      <td>NaN</td>\n",
       "      <td>NaN</td>\n",
       "      <td>NaN</td>\n",
       "      <td>NaN</td>\n",
       "      <td>NaN</td>\n",
       "      <td>NaN</td>\n",
       "      <td>NaN</td>\n",
       "      <td>NaN</td>\n",
       "      <td>NaN</td>\n",
       "      <td>NaN</td>\n",
       "      <td>NaN</td>\n",
       "    </tr>\n",
       "    <tr>\n",
       "      <th>3</th>\n",
       "      <td>1992100038</td>\n",
       "      <td>0.0</td>\n",
       "      <td>0.555556</td>\n",
       "      <td>0.636364</td>\n",
       "      <td>0.375000</td>\n",
       "      <td>0.333333</td>\n",
       "      <td>0.833333</td>\n",
       "      <td>NaN</td>\n",
       "      <td>NaN</td>\n",
       "      <td>NaN</td>\n",
       "      <td>NaN</td>\n",
       "      <td>NaN</td>\n",
       "      <td>NaN</td>\n",
       "    </tr>\n",
       "    <tr>\n",
       "      <th>4</th>\n",
       "      <td>1992101546</td>\n",
       "      <td>0.0</td>\n",
       "      <td>0.928571</td>\n",
       "      <td>0.769231</td>\n",
       "      <td>0.941176</td>\n",
       "      <td>0.600000</td>\n",
       "      <td>0.750000</td>\n",
       "      <td>0.0</td>\n",
       "      <td>0.285714</td>\n",
       "      <td>0.250000</td>\n",
       "      <td>0.250000</td>\n",
       "      <td>0.750000</td>\n",
       "      <td>0.333333</td>\n",
       "    </tr>\n",
       "    <tr>\n",
       "      <th>...</th>\n",
       "      <td>...</td>\n",
       "      <td>...</td>\n",
       "      <td>...</td>\n",
       "      <td>...</td>\n",
       "      <td>...</td>\n",
       "      <td>...</td>\n",
       "      <td>...</td>\n",
       "      <td>...</td>\n",
       "      <td>...</td>\n",
       "      <td>...</td>\n",
       "      <td>...</td>\n",
       "      <td>...</td>\n",
       "      <td>...</td>\n",
       "    </tr>\n",
       "    <tr>\n",
       "      <th>106838</th>\n",
       "      <td>2018104081</td>\n",
       "      <td>NaN</td>\n",
       "      <td>NaN</td>\n",
       "      <td>NaN</td>\n",
       "      <td>NaN</td>\n",
       "      <td>NaN</td>\n",
       "      <td>NaN</td>\n",
       "      <td>0.0</td>\n",
       "      <td>1.000000</td>\n",
       "      <td>0.777778</td>\n",
       "      <td>1.000000</td>\n",
       "      <td>0.666667</td>\n",
       "      <td>NaN</td>\n",
       "    </tr>\n",
       "    <tr>\n",
       "      <th>106839</th>\n",
       "      <td>2018106008</td>\n",
       "      <td>NaN</td>\n",
       "      <td>NaN</td>\n",
       "      <td>NaN</td>\n",
       "      <td>NaN</td>\n",
       "      <td>NaN</td>\n",
       "      <td>NaN</td>\n",
       "      <td>0.0</td>\n",
       "      <td>0.888889</td>\n",
       "      <td>0.900000</td>\n",
       "      <td>NaN</td>\n",
       "      <td>NaN</td>\n",
       "      <td>NaN</td>\n",
       "    </tr>\n",
       "    <tr>\n",
       "      <th>106840</th>\n",
       "      <td>2019102154</td>\n",
       "      <td>NaN</td>\n",
       "      <td>NaN</td>\n",
       "      <td>NaN</td>\n",
       "      <td>NaN</td>\n",
       "      <td>NaN</td>\n",
       "      <td>NaN</td>\n",
       "      <td>0.0</td>\n",
       "      <td>0.714286</td>\n",
       "      <td>0.700000</td>\n",
       "      <td>0.100000</td>\n",
       "      <td>0.454545</td>\n",
       "      <td>0.200000</td>\n",
       "    </tr>\n",
       "    <tr>\n",
       "      <th>106841</th>\n",
       "      <td>2019103368</td>\n",
       "      <td>NaN</td>\n",
       "      <td>NaN</td>\n",
       "      <td>NaN</td>\n",
       "      <td>NaN</td>\n",
       "      <td>NaN</td>\n",
       "      <td>NaN</td>\n",
       "      <td>0.0</td>\n",
       "      <td>0.909091</td>\n",
       "      <td>NaN</td>\n",
       "      <td>NaN</td>\n",
       "      <td>NaN</td>\n",
       "      <td>NaN</td>\n",
       "    </tr>\n",
       "    <tr>\n",
       "      <th>106842</th>\n",
       "      <td>2020106964</td>\n",
       "      <td>NaN</td>\n",
       "      <td>NaN</td>\n",
       "      <td>NaN</td>\n",
       "      <td>NaN</td>\n",
       "      <td>NaN</td>\n",
       "      <td>NaN</td>\n",
       "      <td>0.0</td>\n",
       "      <td>NaN</td>\n",
       "      <td>NaN</td>\n",
       "      <td>NaN</td>\n",
       "      <td>NaN</td>\n",
       "      <td>NaN</td>\n",
       "    </tr>\n",
       "  </tbody>\n",
       "</table>\n",
       "<p>106843 rows × 13 columns</p>\n",
       "</div>"
      ],
      "text/plain": [
       "          horse_id  target_x  1g_ago_x  2g_ago_x  3g_ago_x  4g_ago_x  \\\n",
       "0       1988105984       0.0  0.333333  0.538462  0.083333  0.071429   \n",
       "1       1991103531       0.0       NaN       NaN       NaN       NaN   \n",
       "2       1991190011       0.0       NaN       NaN       NaN       NaN   \n",
       "3       1992100038       0.0  0.555556  0.636364  0.375000  0.333333   \n",
       "4       1992101546       0.0  0.928571  0.769231  0.941176  0.600000   \n",
       "...            ...       ...       ...       ...       ...       ...   \n",
       "106838  2018104081       NaN       NaN       NaN       NaN       NaN   \n",
       "106839  2018106008       NaN       NaN       NaN       NaN       NaN   \n",
       "106840  2019102154       NaN       NaN       NaN       NaN       NaN   \n",
       "106841  2019103368       NaN       NaN       NaN       NaN       NaN   \n",
       "106842  2020106964       NaN       NaN       NaN       NaN       NaN   \n",
       "\n",
       "        5g_ago_x  target_y  1g_ago_y  2g_ago_y  3g_ago_y  4g_ago_y  5g_ago_y  \n",
       "0       0.363636       0.0  0.066667  0.812500  0.083333  1.000000  1.000000  \n",
       "1            NaN       0.0  0.666667  0.375000       NaN       NaN       NaN  \n",
       "2            NaN       NaN       NaN       NaN       NaN       NaN       NaN  \n",
       "3       0.833333       NaN       NaN       NaN       NaN       NaN       NaN  \n",
       "4       0.750000       0.0  0.285714  0.250000  0.250000  0.750000  0.333333  \n",
       "...          ...       ...       ...       ...       ...       ...       ...  \n",
       "106838       NaN       0.0  1.000000  0.777778  1.000000  0.666667       NaN  \n",
       "106839       NaN       0.0  0.888889  0.900000       NaN       NaN       NaN  \n",
       "106840       NaN       0.0  0.714286  0.700000  0.100000  0.454545  0.200000  \n",
       "106841       NaN       0.0  0.909091       NaN       NaN       NaN       NaN  \n",
       "106842       NaN       0.0       NaN       NaN       NaN       NaN       NaN  \n",
       "\n",
       "[106843 rows x 13 columns]"
      ]
     },
     "execution_count": 732,
     "metadata": {},
     "output_type": "execute_result"
    }
   ],
   "source": [
    "print('中央馬データ数: ', pivot_df_urban.shape)\n",
    "print('地方データ数: ', pivot_df_rural.shape)\n",
    "pivot_df_urban.merge(pivot_df_rural, how='outer', on='horse_id')"
   ]
  },
  {
   "cell_type": "markdown",
   "id": "12991f3b-dc55-405b-bfd6-e20e4dde8a55",
   "metadata": {},
   "source": [
    "## 5試合以上の成績がない馬は除外"
   ]
  },
  {
   "cell_type": "code",
   "execution_count": 733,
   "id": "82856782-ea60-4cd2-8335-f3e862447474",
   "metadata": {},
   "outputs": [
    {
     "name": "stdout",
     "output_type": "stream",
     "text": [
      "horse_id        0\n",
      "target          0\n",
      "1g_ago       7231\n",
      "2g_ago      17011\n",
      "3g_ago      27490\n",
      "4g_ago      36932\n",
      "5g_ago      45286\n",
      "dtype: int64\n",
      "horse_id        0\n",
      "target          0\n",
      "1g_ago       5970\n",
      "2g_ago       9570\n",
      "3g_ago      12370\n",
      "4g_ago      14854\n",
      "5g_ago      17194\n",
      "dtype: int64\n"
     ]
    }
   ],
   "source": [
    "print(pivot_df_urban.isnull().sum())\n",
    "print(pivot_df_rural.isnull().sum())"
   ]
  },
  {
   "cell_type": "code",
   "execution_count": 734,
   "id": "5e354aab-d335-45dd-be0c-667924fd14b3",
   "metadata": {},
   "outputs": [
    {
     "name": "stdout",
     "output_type": "stream",
     "text": [
      "(106766, 7)\n",
      "(61480, 7)\n",
      "(59258, 7)\n",
      "(42064, 7)\n"
     ]
    }
   ],
   "source": [
    "print(pivot_df_urban.shape)\n",
    "pivot_df_urban = pivot_df_urban[pivot_df_urban['5g_ago'].notnull()]\n",
    "print(pivot_df_urban.shape)\n",
    "\n",
    "print(pivot_df_rural.shape)\n",
    "pivot_df_rural = pivot_df_rural[pivot_df_rural['5g_ago'].notnull()]\n",
    "print(pivot_df_rural.shape)"
   ]
  },
  {
   "cell_type": "code",
   "execution_count": 735,
   "id": "d7c28bfd-4dd6-4279-af63-dfef28fc5ca9",
   "metadata": {},
   "outputs": [
    {
     "name": "stdout",
     "output_type": "stream",
     "text": [
      "horse_id    0\n",
      "target      0\n",
      "1g_ago      0\n",
      "2g_ago      0\n",
      "3g_ago      0\n",
      "4g_ago      0\n",
      "5g_ago      0\n",
      "dtype: int64\n",
      "horse_id    0\n",
      "target      0\n",
      "1g_ago      0\n",
      "2g_ago      0\n",
      "3g_ago      0\n",
      "4g_ago      0\n",
      "5g_ago      0\n",
      "dtype: int64\n"
     ]
    }
   ],
   "source": [
    "print(pivot_df_urban.isnull().sum())\n",
    "print(pivot_df_rural.isnull().sum())"
   ]
  },
  {
   "cell_type": "markdown",
   "id": "8a79a207-6d31-4b27-b8b3-91cea832cb3e",
   "metadata": {},
   "source": [
    "### 中央/地方の重複する馬のデータ数を確認する"
   ]
  },
  {
   "cell_type": "code",
   "execution_count": 736,
   "id": "a8814e55-e112-4c78-bee7-b4cbdada429e",
   "metadata": {},
   "outputs": [
    {
     "name": "stdout",
     "output_type": "stream",
     "text": [
      "重複馬データ数:  23179\n"
     ]
    }
   ],
   "source": [
    "print('重複馬データ数: ', pivot_df_urban.merge(pivot_df_rural, how='inner', on='horse_id').shape[0])"
   ]
  },
  {
   "cell_type": "markdown",
   "id": "51fe2bcb-eb57-4944-be26-2b2da733e0ba",
   "metadata": {},
   "source": [
    "## 直近レースの着率の分布を確認する"
   ]
  },
  {
   "cell_type": "code",
   "execution_count": 737,
   "id": "0af8209a-b1b1-44c5-9bba-074a3dd304d5",
   "metadata": {},
   "outputs": [
    {
     "data": {
      "text/plain": [
       "<AxesSubplot:xlabel='5g_ago', ylabel='Count'>"
      ]
     },
     "execution_count": 737,
     "metadata": {},
     "output_type": "execute_result"
    },
    {
     "data": {
      "image/png": "[encoded data removed]",
      "text/plain": [
       "<Figure size 2160x5760 with 5 Axes>"
      ]
     },
     "metadata": {
      "needs_background": "light"
     },
     "output_type": "display_data"
    }
   ],
   "source": [
    "fig, ax = plt.subplots(5, 1, figsize=(30,80))\n",
    "sns.histplot(pivot_df_urban['1g_ago'], ax=ax[0])\n",
    "sns.histplot(pivot_df_urban['2g_ago'], ax=ax[1])\n",
    "sns.histplot(pivot_df_urban['3g_ago'], ax=ax[2])\n",
    "sns.histplot(pivot_df_urban['4g_ago'], ax=ax[3])\n",
    "sns.histplot(pivot_df_urban['5g_ago'], ax=ax[4])"
   ]
  },
  {
   "cell_type": "markdown",
   "id": "f4ccd2b1-8cc0-4d98-b18b-771c588985cf",
   "metadata": {},
   "source": [
    "## 馬ごとの芝/ダートでの平均着順(頭数で重み付け済み)を算出する"
   ]
  },
  {
   "cell_type": "markdown",
   "id": "b05de6de-9ba6-4dea-a2f4-fbaa70317459",
   "metadata": {},
   "source": [
    "### nullに関しては平均値で補完する。"
   ]
  },
  {
   "cell_type": "code",
   "execution_count": 738,
   "id": "b612b56a-acb2-40ed-947a-9a84096f11b9",
   "metadata": {},
   "outputs": [
    {
     "data": {
      "text/html": [
       "<div>\n",
       "<style scoped>\n",
       "    .dataframe tbody tr th:only-of-type {\n",
       "        vertical-align: middle;\n",
       "    }\n",
       "\n",
       "    .dataframe tbody tr th {\n",
       "        vertical-align: top;\n",
       "    }\n",
       "\n",
       "    .dataframe thead th {\n",
       "        text-align: right;\n",
       "    }\n",
       "</style>\n",
       "<table border=\"1\" class=\"dataframe\">\n",
       "  <thead>\n",
       "    <tr style=\"text-align: right;\">\n",
       "      <th></th>\n",
       "      <th>index</th>\n",
       "      <th>horse_id</th>\n",
       "      <th>日付</th>\n",
       "      <th>開催</th>\n",
       "      <th>天気</th>\n",
       "      <th>R</th>\n",
       "      <th>レース名</th>\n",
       "      <th>頭数</th>\n",
       "      <th>枠番</th>\n",
       "      <th>馬番</th>\n",
       "      <th>...</th>\n",
       "      <th>馬場</th>\n",
       "      <th>タイム</th>\n",
       "      <th>着差</th>\n",
       "      <th>馬体重</th>\n",
       "      <th>勝ち馬(2着馬)</th>\n",
       "      <th>レース場</th>\n",
       "      <th>中央/地方</th>\n",
       "      <th>芝/ダート</th>\n",
       "      <th>着順/頭数</th>\n",
       "      <th>count_per_hid</th>\n",
       "    </tr>\n",
       "  </thead>\n",
       "  <tbody>\n",
       "    <tr>\n",
       "      <th>0</th>\n",
       "      <td>0</td>\n",
       "      <td>2020105571</td>\n",
       "      <td>2022/09/24</td>\n",
       "      <td>4中山6</td>\n",
       "      <td>曇</td>\n",
       "      <td>9.0</td>\n",
       "      <td>カンナS(OP)</td>\n",
       "      <td>10</td>\n",
       "      <td>3.0</td>\n",
       "      <td>3.0</td>\n",
       "      <td>...</td>\n",
       "      <td>重</td>\n",
       "      <td>1:09.7</td>\n",
       "      <td>0.3</td>\n",
       "      <td>466(+2)</td>\n",
       "      <td>ウメムスビ</td>\n",
       "      <td>中山</td>\n",
       "      <td>中央</td>\n",
       "      <td>芝</td>\n",
       "      <td>0.300000</td>\n",
       "      <td>0</td>\n",
       "    </tr>\n",
       "    <tr>\n",
       "      <th>1</th>\n",
       "      <td>1</td>\n",
       "      <td>2020105571</td>\n",
       "      <td>2022/09/03</td>\n",
       "      <td>2札幌7</td>\n",
       "      <td>晴</td>\n",
       "      <td>1.0</td>\n",
       "      <td>2歳未勝利</td>\n",
       "      <td>14</td>\n",
       "      <td>7.0</td>\n",
       "      <td>12.0</td>\n",
       "      <td>...</td>\n",
       "      <td>良</td>\n",
       "      <td>1:10.7</td>\n",
       "      <td>-0.5</td>\n",
       "      <td>464(-2)</td>\n",
       "      <td>(コパカバーナビーチ)</td>\n",
       "      <td>札幌</td>\n",
       "      <td>中央</td>\n",
       "      <td>芝</td>\n",
       "      <td>0.071429</td>\n",
       "      <td>1</td>\n",
       "    </tr>\n",
       "    <tr>\n",
       "      <th>2</th>\n",
       "      <td>2</td>\n",
       "      <td>2020105571</td>\n",
       "      <td>2022/08/27</td>\n",
       "      <td>2札幌5</td>\n",
       "      <td>曇</td>\n",
       "      <td>2.0</td>\n",
       "      <td>2歳未勝利</td>\n",
       "      <td>8</td>\n",
       "      <td>4.0</td>\n",
       "      <td>4.0</td>\n",
       "      <td>...</td>\n",
       "      <td>良</td>\n",
       "      <td>1:10.5</td>\n",
       "      <td>0.1</td>\n",
       "      <td>466(+2)</td>\n",
       "      <td>バロットボックス</td>\n",
       "      <td>札幌</td>\n",
       "      <td>中央</td>\n",
       "      <td>芝</td>\n",
       "      <td>0.250000</td>\n",
       "      <td>2</td>\n",
       "    </tr>\n",
       "    <tr>\n",
       "      <th>3</th>\n",
       "      <td>3</td>\n",
       "      <td>2020105571</td>\n",
       "      <td>2022/08/06</td>\n",
       "      <td>1札幌5</td>\n",
       "      <td>晴</td>\n",
       "      <td>5.0</td>\n",
       "      <td>2歳新馬</td>\n",
       "      <td>8</td>\n",
       "      <td>3.0</td>\n",
       "      <td>3.0</td>\n",
       "      <td>...</td>\n",
       "      <td>良</td>\n",
       "      <td>1:10.9</td>\n",
       "      <td>0.8</td>\n",
       "      <td>464(0)</td>\n",
       "      <td>メイクアスナッチ</td>\n",
       "      <td>札幌</td>\n",
       "      <td>中央</td>\n",
       "      <td>芝</td>\n",
       "      <td>0.625000</td>\n",
       "      <td>3</td>\n",
       "    </tr>\n",
       "    <tr>\n",
       "      <th>4</th>\n",
       "      <td>4</td>\n",
       "      <td>2020101863</td>\n",
       "      <td>2022/09/25</td>\n",
       "      <td>4中山7</td>\n",
       "      <td>晴</td>\n",
       "      <td>2.0</td>\n",
       "      <td>2歳未勝利</td>\n",
       "      <td>16</td>\n",
       "      <td>8.0</td>\n",
       "      <td>15.0</td>\n",
       "      <td>...</td>\n",
       "      <td>稍</td>\n",
       "      <td>1:10.0</td>\n",
       "      <td>0.6</td>\n",
       "      <td>420(-2)</td>\n",
       "      <td>クリノゴッホ</td>\n",
       "      <td>中山</td>\n",
       "      <td>中央</td>\n",
       "      <td>芝</td>\n",
       "      <td>0.312500</td>\n",
       "      <td>0</td>\n",
       "    </tr>\n",
       "    <tr>\n",
       "      <th>...</th>\n",
       "      <td>...</td>\n",
       "      <td>...</td>\n",
       "      <td>...</td>\n",
       "      <td>...</td>\n",
       "      <td>...</td>\n",
       "      <td>...</td>\n",
       "      <td>...</td>\n",
       "      <td>...</td>\n",
       "      <td>...</td>\n",
       "      <td>...</td>\n",
       "      <td>...</td>\n",
       "      <td>...</td>\n",
       "      <td>...</td>\n",
       "      <td>...</td>\n",
       "      <td>...</td>\n",
       "      <td>...</td>\n",
       "      <td>...</td>\n",
       "      <td>...</td>\n",
       "      <td>...</td>\n",
       "      <td>...</td>\n",
       "      <td>...</td>\n",
       "    </tr>\n",
       "    <tr>\n",
       "      <th>2405220</th>\n",
       "      <td>2570718</td>\n",
       "      <td>1994100530</td>\n",
       "      <td>2000/06/25</td>\n",
       "      <td>3阪神4</td>\n",
       "      <td>雨</td>\n",
       "      <td>11.0</td>\n",
       "      <td>宝塚記念(G1)</td>\n",
       "      <td>11</td>\n",
       "      <td>5.0</td>\n",
       "      <td>5.0</td>\n",
       "      <td>...</td>\n",
       "      <td>良</td>\n",
       "      <td>2:15.6</td>\n",
       "      <td>1.8</td>\n",
       "      <td>510(-12)</td>\n",
       "      <td>テイエムオペラオー</td>\n",
       "      <td>阪神</td>\n",
       "      <td>中央</td>\n",
       "      <td>芝</td>\n",
       "      <td>0.727273</td>\n",
       "      <td>0</td>\n",
       "    </tr>\n",
       "    <tr>\n",
       "      <th>2405221</th>\n",
       "      <td>2570719</td>\n",
       "      <td>1994100530</td>\n",
       "      <td>2000/05/27</td>\n",
       "      <td>2中京3</td>\n",
       "      <td>雨</td>\n",
       "      <td>11.0</td>\n",
       "      <td>金鯱賞(G2)</td>\n",
       "      <td>11</td>\n",
       "      <td>7.0</td>\n",
       "      <td>9.0</td>\n",
       "      <td>...</td>\n",
       "      <td>稍</td>\n",
       "      <td>2:00.5</td>\n",
       "      <td>2.0</td>\n",
       "      <td>522(+18)</td>\n",
       "      <td>メイショウドトウ</td>\n",
       "      <td>中京</td>\n",
       "      <td>中央</td>\n",
       "      <td>芝</td>\n",
       "      <td>0.909091</td>\n",
       "      <td>1</td>\n",
       "    </tr>\n",
       "    <tr>\n",
       "      <th>2405222</th>\n",
       "      <td>2570720</td>\n",
       "      <td>1994100530</td>\n",
       "      <td>1999/08/22</td>\n",
       "      <td>1札幌6</td>\n",
       "      <td>曇</td>\n",
       "      <td>11.0</td>\n",
       "      <td>札幌記念(G2)</td>\n",
       "      <td>10</td>\n",
       "      <td>1.0</td>\n",
       "      <td>1.0</td>\n",
       "      <td>...</td>\n",
       "      <td>良</td>\n",
       "      <td>2:01.4</td>\n",
       "      <td>1.3</td>\n",
       "      <td>504(-2)</td>\n",
       "      <td>セイウンスカイ</td>\n",
       "      <td>札幌</td>\n",
       "      <td>中央</td>\n",
       "      <td>芝</td>\n",
       "      <td>0.700000</td>\n",
       "      <td>2</td>\n",
       "    </tr>\n",
       "    <tr>\n",
       "      <th>2405223</th>\n",
       "      <td>2570721</td>\n",
       "      <td>1994100530</td>\n",
       "      <td>1999/07/11</td>\n",
       "      <td>3阪神8</td>\n",
       "      <td>晴</td>\n",
       "      <td>11.0</td>\n",
       "      <td>宝塚記念(G1)</td>\n",
       "      <td>12</td>\n",
       "      <td>6.0</td>\n",
       "      <td>7.0</td>\n",
       "      <td>...</td>\n",
       "      <td>良</td>\n",
       "      <td>2:14.0</td>\n",
       "      <td>1.9</td>\n",
       "      <td>506(-6)</td>\n",
       "      <td>グラスワンダー</td>\n",
       "      <td>阪神</td>\n",
       "      <td>中央</td>\n",
       "      <td>芝</td>\n",
       "      <td>0.416667</td>\n",
       "      <td>3</td>\n",
       "    </tr>\n",
       "    <tr>\n",
       "      <th>2405224</th>\n",
       "      <td>2570722</td>\n",
       "      <td>1994100530</td>\n",
       "      <td>1999/05/02</td>\n",
       "      <td>3京都4</td>\n",
       "      <td>晴</td>\n",
       "      <td>11.0</td>\n",
       "      <td>天皇賞(春)(G1)</td>\n",
       "      <td>12</td>\n",
       "      <td>1.0</td>\n",
       "      <td>1.0</td>\n",
       "      <td>...</td>\n",
       "      <td>良</td>\n",
       "      <td>3:16.8</td>\n",
       "      <td>1.5</td>\n",
       "      <td>512(-4)</td>\n",
       "      <td>スペシャルウィーク</td>\n",
       "      <td>京都</td>\n",
       "      <td>中央</td>\n",
       "      <td>芝</td>\n",
       "      <td>0.583333</td>\n",
       "      <td>4</td>\n",
       "    </tr>\n",
       "  </tbody>\n",
       "</table>\n",
       "<p>487762 rows × 26 columns</p>\n",
       "</div>"
      ],
      "text/plain": [
       "           index    horse_id          日付    開催 天気     R        レース名  頭数   枠番  \\\n",
       "0              0  2020105571  2022/09/24  4中山6  曇   9.0    カンナS(OP)  10  3.0   \n",
       "1              1  2020105571  2022/09/03  2札幌7  晴   1.0       2歳未勝利  14  7.0   \n",
       "2              2  2020105571  2022/08/27  2札幌5  曇   2.0       2歳未勝利   8  4.0   \n",
       "3              3  2020105571  2022/08/06  1札幌5  晴   5.0        2歳新馬   8  3.0   \n",
       "4              4  2020101863  2022/09/25  4中山7  晴   2.0       2歳未勝利  16  8.0   \n",
       "...          ...         ...         ...   ... ..   ...         ...  ..  ...   \n",
       "2405220  2570718  1994100530  2000/06/25  3阪神4  雨  11.0    宝塚記念(G1)  11  5.0   \n",
       "2405221  2570719  1994100530  2000/05/27  2中京3  雨  11.0     金鯱賞(G2)  11  7.0   \n",
       "2405222  2570720  1994100530  1999/08/22  1札幌6  曇  11.0    札幌記念(G2)  10  1.0   \n",
       "2405223  2570721  1994100530  1999/07/11  3阪神8  晴  11.0    宝塚記念(G1)  12  6.0   \n",
       "2405224  2570722  1994100530  1999/05/02  3京都4  晴  11.0  天皇賞(春)(G1)  12  1.0   \n",
       "\n",
       "           馬番  ...  馬場     タイム   着差       馬体重     勝ち馬(2着馬) レース場 中央/地方 芝/ダート  \\\n",
       "0         3.0  ...   重  1:09.7  0.3   466(+2)        ウメムスビ   中山    中央     芝   \n",
       "1        12.0  ...   良  1:10.7 -0.5   464(-2)  (コパカバーナビーチ)   札幌    中央     芝   \n",
       "2         4.0  ...   良  1:10.5  0.1   466(+2)     バロットボックス   札幌    中央     芝   \n",
       "3         3.0  ...   良  1:10.9  0.8    464(0)     メイクアスナッチ   札幌    中央     芝   \n",
       "4        15.0  ...   稍  1:10.0  0.6   420(-2)       クリノゴッホ   中山    中央     芝   \n",
       "...       ...  ...  ..     ...  ...       ...          ...  ...   ...   ...   \n",
       "2405220   5.0  ...   良  2:15.6  1.8  510(-12)    テイエムオペラオー   阪神    中央     芝   \n",
       "2405221   9.0  ...   稍  2:00.5  2.0  522(+18)     メイショウドトウ   中京    中央     芝   \n",
       "2405222   1.0  ...   良  2:01.4  1.3   504(-2)      セイウンスカイ   札幌    中央     芝   \n",
       "2405223   7.0  ...   良  2:14.0  1.9   506(-6)      グラスワンダー   阪神    中央     芝   \n",
       "2405224   1.0  ...   良  3:16.8  1.5   512(-4)    スペシャルウィーク   京都    中央     芝   \n",
       "\n",
       "            着順/頭数 count_per_hid  \n",
       "0        0.300000             0  \n",
       "1        0.071429             1  \n",
       "2        0.250000             2  \n",
       "3        0.625000             3  \n",
       "4        0.312500             0  \n",
       "...           ...           ...  \n",
       "2405220  0.727273             0  \n",
       "2405221  0.909091             1  \n",
       "2405222  0.700000             2  \n",
       "2405223  0.416667             3  \n",
       "2405224  0.583333             4  \n",
       "\n",
       "[487762 rows x 26 columns]"
      ]
     },
     "execution_count": 738,
     "metadata": {},
     "output_type": "execute_result"
    }
   ],
   "source": [
    "df.groupby('horse_id').head()"
   ]
  },
  {
   "cell_type": "markdown",
   "id": "de6e4e54-c263-4f1a-8e3c-7a41a607ece7",
   "metadata": {},
   "source": [
    "#### 中央/地方 両方"
   ]
  },
  {
   "cell_type": "code",
   "execution_count": 739,
   "id": "2568e3cd-0b29-496a-ab74-4704357c40a1",
   "metadata": {},
   "outputs": [],
   "source": [
    "temp_df = df[df['芝/ダート']=='芝']\n",
    "df_rank_glass = pd.DataFrame(temp_df.groupby('horse_id')['着順/頭数'].mean())\n",
    "temp_df = df[df['芝/ダート']=='ダート']\n",
    "df_rank_dirt = pd.DataFrame(temp_df.groupby('horse_id')['着順/頭数'].mean())\n",
    "\n",
    "df_rank_all = pd.DataFrame(df.groupby('horse_id')['着順/頭数'].mean())\n",
    "\n",
    "df_rank = df_rank_glass.merge(df_rank_dirt, how='outer', on='horse_id')\n",
    "df_rank = df_rank.merge(df_rank_all, how='outer', on='horse_id')\n",
    "df_rank.columns = ['rank_glass', 'rank_dirt', 'rank']\n",
    "df_rank.reset_index(inplace=True)\n",
    "\n",
    "#temp_df[temp_df['芝/ダート']=='芝']"
   ]
  },
  {
   "cell_type": "code",
   "execution_count": 740,
   "id": "99f9bd91-80f3-48db-800c-b1bf9e978aa6",
   "metadata": {},
   "outputs": [
    {
     "data": {
      "text/plain": [
       "horse_id          0\n",
       "rank_glass    21141\n",
       "rank_dirt     11251\n",
       "rank              0\n",
       "dtype: int64"
      ]
     },
     "execution_count": 740,
     "metadata": {},
     "output_type": "execute_result"
    }
   ],
   "source": [
    "df_rank.head()\n",
    "df_rank.isnull().sum()"
   ]
  },
  {
   "cell_type": "markdown",
   "id": "437b344b-9be0-4654-a4ba-eee384991a02",
   "metadata": {},
   "source": [
    "#### 中央"
   ]
  },
  {
   "cell_type": "code",
   "execution_count": 741,
   "id": "70ec5929-5739-4618-a735-0c8ea39f7694",
   "metadata": {},
   "outputs": [],
   "source": [
    "temp_df = df_urban[df_urban['芝/ダート']=='芝']\n",
    "df_rank_glass = pd.DataFrame(temp_df.groupby('horse_id')['着順/頭数'].mean())\n",
    "temp_df = df_urban[df_urban['芝/ダート']=='ダート']\n",
    "df_rank_dirt = pd.DataFrame(temp_df.groupby('horse_id')['着順/頭数'].mean())\n",
    "\n",
    "df_rank_all = pd.DataFrame(df_urban.groupby('horse_id')['着順/頭数'].mean())\n",
    "\n",
    "df_rank_urban = df_rank_glass.merge(df_rank_dirt, how='outer', on='horse_id')\n",
    "df_rank_urban = df_rank_urban.merge(df_rank_all, how='outer', on='horse_id')\n",
    "df_rank_urban.columns = ['rank_glass', 'rank_dirt', 'rank']\n",
    "df_rank_urban.reset_index(inplace=True)\n",
    "#temp_df[temp_df['芝/ダート']=='芝']"
   ]
  },
  {
   "cell_type": "code",
   "execution_count": 742,
   "id": "8aa3e06f-309a-4d9e-80dc-606315bf14f8",
   "metadata": {},
   "outputs": [
    {
     "data": {
      "text/plain": [
       "horse_id          0\n",
       "rank_glass    21372\n",
       "rank_dirt     18320\n",
       "rank              0\n",
       "dtype: int64"
      ]
     },
     "execution_count": 742,
     "metadata": {},
     "output_type": "execute_result"
    }
   ],
   "source": [
    "df_rank_urban.isnull().sum()"
   ]
  },
  {
   "cell_type": "markdown",
   "id": "6add424d-3897-4957-99fb-763b1c9d698e",
   "metadata": {},
   "source": [
    "- 芝/ダート合計の勝率はレース数で重み付けした方が良いかも"
   ]
  },
  {
   "cell_type": "code",
   "execution_count": 743,
   "id": "c53a2dad-d0a9-45b2-9008-d2c104f63560",
   "metadata": {},
   "outputs": [
    {
     "data": {
      "text/html": [
       "<div>\n",
       "<style scoped>\n",
       "    .dataframe tbody tr th:only-of-type {\n",
       "        vertical-align: middle;\n",
       "    }\n",
       "\n",
       "    .dataframe tbody tr th {\n",
       "        vertical-align: top;\n",
       "    }\n",
       "\n",
       "    .dataframe thead th {\n",
       "        text-align: right;\n",
       "    }\n",
       "</style>\n",
       "<table border=\"1\" class=\"dataframe\">\n",
       "  <thead>\n",
       "    <tr style=\"text-align: right;\">\n",
       "      <th></th>\n",
       "      <th>horse_id</th>\n",
       "      <th>rank_glass</th>\n",
       "      <th>rank_dirt</th>\n",
       "      <th>rank</th>\n",
       "    </tr>\n",
       "  </thead>\n",
       "  <tbody>\n",
       "    <tr>\n",
       "      <th>0</th>\n",
       "      <td>1991103531</td>\n",
       "      <td>0.777778</td>\n",
       "      <td>NaN</td>\n",
       "      <td>0.777778</td>\n",
       "    </tr>\n",
       "    <tr>\n",
       "      <th>1</th>\n",
       "      <td>1991190011</td>\n",
       "      <td>0.562500</td>\n",
       "      <td>NaN</td>\n",
       "      <td>0.562500</td>\n",
       "    </tr>\n",
       "    <tr>\n",
       "      <th>2</th>\n",
       "      <td>1992100038</td>\n",
       "      <td>0.485277</td>\n",
       "      <td>0.480977</td>\n",
       "      <td>0.484891</td>\n",
       "    </tr>\n",
       "    <tr>\n",
       "      <th>3</th>\n",
       "      <td>1992101546</td>\n",
       "      <td>0.405078</td>\n",
       "      <td>0.398181</td>\n",
       "      <td>0.403326</td>\n",
       "    </tr>\n",
       "    <tr>\n",
       "      <th>4</th>\n",
       "      <td>1992102844</td>\n",
       "      <td>0.421091</td>\n",
       "      <td>0.928571</td>\n",
       "      <td>0.435187</td>\n",
       "    </tr>\n",
       "  </tbody>\n",
       "</table>\n",
       "</div>"
      ],
      "text/plain": [
       "     horse_id  rank_glass  rank_dirt      rank\n",
       "0  1991103531    0.777778        NaN  0.777778\n",
       "1  1991190011    0.562500        NaN  0.562500\n",
       "2  1992100038    0.485277   0.480977  0.484891\n",
       "3  1992101546    0.405078   0.398181  0.403326\n",
       "4  1992102844    0.421091   0.928571  0.435187"
      ]
     },
     "execution_count": 743,
     "metadata": {},
     "output_type": "execute_result"
    }
   ],
   "source": [
    "df_rank_urban.head()"
   ]
  },
  {
   "cell_type": "code",
   "execution_count": 744,
   "id": "4428ae00-e132-42bd-bb0d-597df7556126",
   "metadata": {},
   "outputs": [
    {
     "data": {
      "text/plain": [
       "(106766, 4)"
      ]
     },
     "execution_count": 744,
     "metadata": {},
     "output_type": "execute_result"
    }
   ],
   "source": [
    "df_rank_urban.shape"
   ]
  },
  {
   "cell_type": "code",
   "execution_count": 745,
   "id": "942ea96b-26d7-4f2e-aede-7d3247825618",
   "metadata": {},
   "outputs": [
    {
     "data": {
      "text/plain": [
       "horse_id          0\n",
       "rank_glass    21372\n",
       "rank_dirt     18320\n",
       "rank              0\n",
       "dtype: int64"
      ]
     },
     "execution_count": 745,
     "metadata": {},
     "output_type": "execute_result"
    }
   ],
   "source": [
    "df_rank_urban.isnull().sum()"
   ]
  },
  {
   "cell_type": "code",
   "execution_count": 746,
   "id": "ec920557-f5bd-4450-b212-6f34b0b645d3",
   "metadata": {},
   "outputs": [
    {
     "data": {
      "text/plain": [
       "horse_id      2.008319e+09\n",
       "rank_glass    6.465105e-01\n",
       "rank_dirt     6.409385e-01\n",
       "rank          6.139202e-01\n",
       "dtype: float64"
      ]
     },
     "execution_count": 746,
     "metadata": {},
     "output_type": "execute_result"
    }
   ],
   "source": [
    "df_rank_urban.mean()"
   ]
  },
  {
   "cell_type": "code",
   "execution_count": 747,
   "id": "0a1052f8-9775-43c9-a003-0cee9d383a8b",
   "metadata": {},
   "outputs": [],
   "source": [
    "#df_rank_urban = df_rank_urban.fillna(df_rank_urban.mean())"
   ]
  },
  {
   "cell_type": "code",
   "execution_count": 748,
   "id": "45e6811a-2703-42bd-a664-61ef48cec795",
   "metadata": {},
   "outputs": [
    {
     "data": {
      "text/plain": [
       "horse_id          0\n",
       "rank_glass    21372\n",
       "rank_dirt     18320\n",
       "rank              0\n",
       "dtype: int64"
      ]
     },
     "execution_count": 748,
     "metadata": {},
     "output_type": "execute_result"
    }
   ],
   "source": [
    "df_rank_urban.isnull().sum()"
   ]
  },
  {
   "cell_type": "markdown",
   "id": "36864c06-52ba-4114-8b2b-18e5f481ec17",
   "metadata": {},
   "source": [
    "#### 地方"
   ]
  },
  {
   "cell_type": "code",
   "execution_count": 749,
   "id": "bb1e2273-d227-443b-ab38-681b0ad8fd15",
   "metadata": {},
   "outputs": [],
   "source": [
    "temp_df = df_rural[df_rural['芝/ダート']=='芝']\n",
    "df_rank_glass = pd.DataFrame(temp_df.groupby('horse_id')['着順/頭数'].mean())\n",
    "temp_df = df_rural[df_rural['芝/ダート']=='ダート']\n",
    "df_rank_dirt = pd.DataFrame(temp_df.groupby('horse_id')['着順/頭数'].mean())\n",
    "\n",
    "df_rank_all = pd.DataFrame(df_rural.groupby('horse_id')['着順/頭数'].mean())\n",
    "\n",
    "df_rank_rural = df_rank_glass.merge(df_rank_dirt, how='outer', on='horse_id')\n",
    "df_rank_rural = df_rank_rural.merge(df_rank_all, how='outer', on='horse_id')\n",
    "df_rank_rural.columns = ['rank_glass', 'rank_dirt', 'rank']\n",
    "df_rank_rural.reset_index(inplace=True)"
   ]
  },
  {
   "cell_type": "code",
   "execution_count": 750,
   "id": "a73c6ac7-f79d-488e-9be4-58c4604fcf32",
   "metadata": {},
   "outputs": [
    {
     "data": {
      "text/html": [
       "<div>\n",
       "<style scoped>\n",
       "    .dataframe tbody tr th:only-of-type {\n",
       "        vertical-align: middle;\n",
       "    }\n",
       "\n",
       "    .dataframe tbody tr th {\n",
       "        vertical-align: top;\n",
       "    }\n",
       "\n",
       "    .dataframe thead th {\n",
       "        text-align: right;\n",
       "    }\n",
       "</style>\n",
       "<table border=\"1\" class=\"dataframe\">\n",
       "  <thead>\n",
       "    <tr style=\"text-align: right;\">\n",
       "      <th></th>\n",
       "      <th>horse_id</th>\n",
       "      <th>rank_glass</th>\n",
       "      <th>rank_dirt</th>\n",
       "      <th>rank</th>\n",
       "    </tr>\n",
       "  </thead>\n",
       "  <tbody>\n",
       "    <tr>\n",
       "      <th>0</th>\n",
       "      <td>1993109205</td>\n",
       "      <td>0.400000</td>\n",
       "      <td>0.265129</td>\n",
       "      <td>0.284396</td>\n",
       "    </tr>\n",
       "    <tr>\n",
       "      <th>1</th>\n",
       "      <td>1993110046</td>\n",
       "      <td>0.166667</td>\n",
       "      <td>0.353698</td>\n",
       "      <td>0.347248</td>\n",
       "    </tr>\n",
       "    <tr>\n",
       "      <th>2</th>\n",
       "      <td>1994100345</td>\n",
       "      <td>0.422222</td>\n",
       "      <td>0.693293</td>\n",
       "      <td>0.659410</td>\n",
       "    </tr>\n",
       "    <tr>\n",
       "      <th>3</th>\n",
       "      <td>1994101209</td>\n",
       "      <td>0.416667</td>\n",
       "      <td>0.434065</td>\n",
       "      <td>0.433485</td>\n",
       "    </tr>\n",
       "    <tr>\n",
       "      <th>4</th>\n",
       "      <td>1994102433</td>\n",
       "      <td>0.624621</td>\n",
       "      <td>0.487307</td>\n",
       "      <td>0.509277</td>\n",
       "    </tr>\n",
       "  </tbody>\n",
       "</table>\n",
       "</div>"
      ],
      "text/plain": [
       "     horse_id  rank_glass  rank_dirt      rank\n",
       "0  1993109205    0.400000   0.265129  0.284396\n",
       "1  1993110046    0.166667   0.353698  0.347248\n",
       "2  1994100345    0.422222   0.693293  0.659410\n",
       "3  1994101209    0.416667   0.434065  0.433485\n",
       "4  1994102433    0.624621   0.487307  0.509277"
      ]
     },
     "execution_count": 750,
     "metadata": {},
     "output_type": "execute_result"
    }
   ],
   "source": [
    "df_rank_rural.head()"
   ]
  },
  {
   "cell_type": "code",
   "execution_count": 751,
   "id": "d63249b9-c01d-4be2-9abe-27fb6362b776",
   "metadata": {},
   "outputs": [
    {
     "name": "stdout",
     "output_type": "stream",
     "text": [
      "(59258, 4)\n",
      "horse_id          0\n",
      "rank_glass    55870\n",
      "rank_dirt       204\n",
      "rank              0\n",
      "dtype: int64\n"
     ]
    }
   ],
   "source": [
    "print(df_rank_rural.shape)\n",
    "print(df_rank_rural.isnull().sum())"
   ]
  },
  {
   "cell_type": "code",
   "execution_count": 752,
   "id": "466bff97-e495-4531-88a3-44c274399cea",
   "metadata": {},
   "outputs": [
    {
     "name": "stdout",
     "output_type": "stream",
     "text": [
      "horse_id      2.008597e+09\n",
      "rank_glass    5.683171e-01\n",
      "rank_dirt     5.182552e-01\n",
      "rank          5.173866e-01\n",
      "dtype: float64\n",
      "horse_id          0\n",
      "rank_glass    55870\n",
      "rank_dirt       204\n",
      "rank              0\n",
      "dtype: int64\n"
     ]
    }
   ],
   "source": [
    "print(df_rank_rural.mean())\n",
    "#df_rank_rural = df_rank_rural.fillna(df_rank_rural.mean())\n",
    "print(df_rank_rural.isnull().sum())"
   ]
  },
  {
   "cell_type": "code",
   "execution_count": 753,
   "id": "745f39ac-f598-4134-952f-3e7355b8cf9e",
   "metadata": {},
   "outputs": [
    {
     "name": "stdout",
     "output_type": "stream",
     "text": [
      "(3388, 1)\n",
      "(59054, 1)\n"
     ]
    }
   ],
   "source": [
    "print(df_rank_glass.shape)\n",
    "print(df_rank_dirt.shape)"
   ]
  },
  {
   "cell_type": "code",
   "execution_count": 754,
   "id": "3d3fdf53-7358-4833-aaa4-636341d2d9b6",
   "metadata": {},
   "outputs": [
    {
     "name": "stdout",
     "output_type": "stream",
     "text": [
      "horse_id          0\n",
      "rank_glass    21372\n",
      "rank_dirt     18320\n",
      "rank              0\n",
      "dtype: int64\n",
      "(106766, 4)\n",
      "horse_id          0\n",
      "rank_glass    55870\n",
      "rank_dirt       204\n",
      "rank              0\n",
      "dtype: int64\n",
      "(59258, 4)\n"
     ]
    }
   ],
   "source": [
    "print(df_rank_urban.isnull().sum())\n",
    "print(df_rank_urban.shape)\n",
    "print(df_rank_rural.isnull().sum())\n",
    "print(df_rank_rural.shape)"
   ]
  },
  {
   "cell_type": "markdown",
   "id": "8a81abea-2d60-43f0-8a58-fa5d79bbebc3",
   "metadata": {},
   "source": [
    "## 平均着順とtargetの相関を確認する"
   ]
  },
  {
   "cell_type": "code",
   "execution_count": 755,
   "id": "2bcdf9da-f0b0-4fba-a0da-983e88f27f4f",
   "metadata": {},
   "outputs": [
    {
     "name": "stdout",
     "output_type": "stream",
     "text": [
      "(106845, 7)\n",
      "(106845, 4)\n",
      "(106845, 10)\n"
     ]
    },
    {
     "data": {
      "text/html": [
       "<div>\n",
       "<style scoped>\n",
       "    .dataframe tbody tr th:only-of-type {\n",
       "        vertical-align: middle;\n",
       "    }\n",
       "\n",
       "    .dataframe tbody tr th {\n",
       "        vertical-align: top;\n",
       "    }\n",
       "\n",
       "    .dataframe thead th {\n",
       "        text-align: right;\n",
       "    }\n",
       "</style>\n",
       "<table border=\"1\" class=\"dataframe\">\n",
       "  <thead>\n",
       "    <tr style=\"text-align: right;\">\n",
       "      <th></th>\n",
       "      <th>horse_id</th>\n",
       "      <th>target</th>\n",
       "      <th>1g_ago</th>\n",
       "      <th>2g_ago</th>\n",
       "      <th>3g_ago</th>\n",
       "      <th>4g_ago</th>\n",
       "      <th>5g_ago</th>\n",
       "      <th>rank_glass</th>\n",
       "      <th>rank_dirt</th>\n",
       "      <th>rank</th>\n",
       "    </tr>\n",
       "  </thead>\n",
       "  <tbody>\n",
       "    <tr>\n",
       "      <th>0</th>\n",
       "      <td>1988105984</td>\n",
       "      <td>0.0</td>\n",
       "      <td>0.600000</td>\n",
       "      <td>0.333333</td>\n",
       "      <td>0.066667</td>\n",
       "      <td>0.538462</td>\n",
       "      <td>0.083333</td>\n",
       "      <td>NaN</td>\n",
       "      <td>0.403643</td>\n",
       "      <td>0.403643</td>\n",
       "    </tr>\n",
       "    <tr>\n",
       "      <th>1</th>\n",
       "      <td>1991103531</td>\n",
       "      <td>0.0</td>\n",
       "      <td>0.461538</td>\n",
       "      <td>0.666667</td>\n",
       "      <td>0.375000</td>\n",
       "      <td>NaN</td>\n",
       "      <td>NaN</td>\n",
       "      <td>0.777778</td>\n",
       "      <td>0.501068</td>\n",
       "      <td>0.570246</td>\n",
       "    </tr>\n",
       "    <tr>\n",
       "      <th>2</th>\n",
       "      <td>1991190011</td>\n",
       "      <td>0.0</td>\n",
       "      <td>NaN</td>\n",
       "      <td>NaN</td>\n",
       "      <td>NaN</td>\n",
       "      <td>NaN</td>\n",
       "      <td>NaN</td>\n",
       "      <td>0.562500</td>\n",
       "      <td>NaN</td>\n",
       "      <td>0.562500</td>\n",
       "    </tr>\n",
       "    <tr>\n",
       "      <th>3</th>\n",
       "      <td>1992100038</td>\n",
       "      <td>0.0</td>\n",
       "      <td>0.555556</td>\n",
       "      <td>0.636364</td>\n",
       "      <td>0.375000</td>\n",
       "      <td>0.333333</td>\n",
       "      <td>0.833333</td>\n",
       "      <td>0.485277</td>\n",
       "      <td>0.480977</td>\n",
       "      <td>0.484891</td>\n",
       "    </tr>\n",
       "    <tr>\n",
       "      <th>4</th>\n",
       "      <td>1992101546</td>\n",
       "      <td>0.0</td>\n",
       "      <td>0.285714</td>\n",
       "      <td>0.250000</td>\n",
       "      <td>0.250000</td>\n",
       "      <td>0.750000</td>\n",
       "      <td>0.333333</td>\n",
       "      <td>0.405078</td>\n",
       "      <td>0.458542</td>\n",
       "      <td>0.424120</td>\n",
       "    </tr>\n",
       "  </tbody>\n",
       "</table>\n",
       "</div>"
      ],
      "text/plain": [
       "     horse_id  target    1g_ago    2g_ago    3g_ago    4g_ago    5g_ago  \\\n",
       "0  1988105984     0.0  0.600000  0.333333  0.066667  0.538462  0.083333   \n",
       "1  1991103531     0.0  0.461538  0.666667  0.375000       NaN       NaN   \n",
       "2  1991190011     0.0       NaN       NaN       NaN       NaN       NaN   \n",
       "3  1992100038     0.0  0.555556  0.636364  0.375000  0.333333  0.833333   \n",
       "4  1992101546     0.0  0.285714  0.250000  0.250000  0.750000  0.333333   \n",
       "\n",
       "   rank_glass  rank_dirt      rank  \n",
       "0         NaN   0.403643  0.403643  \n",
       "1    0.777778   0.501068  0.570246  \n",
       "2    0.562500        NaN  0.562500  \n",
       "3    0.485277   0.480977  0.484891  \n",
       "4    0.405078   0.458542  0.424120  "
      ]
     },
     "execution_count": 755,
     "metadata": {},
     "output_type": "execute_result"
    }
   ],
   "source": [
    "print(pdf.shape)\n",
    "print(df_rank.shape)\n",
    "pivot_df = pdf.merge(df_rank, how='inner', on='horse_id')\n",
    "print(pivot_df.shape)\n",
    "pivot_df.head()"
   ]
  },
  {
   "cell_type": "code",
   "execution_count": 756,
   "id": "48bc3d0e-8f54-483f-8275-8c6575d170c4",
   "metadata": {},
   "outputs": [
    {
     "name": "stdout",
     "output_type": "stream",
     "text": [
      "(61480, 7)\n",
      "(106766, 4)\n",
      "(61480, 10)\n"
     ]
    },
    {
     "data": {
      "text/html": [
       "<div>\n",
       "<style scoped>\n",
       "    .dataframe tbody tr th:only-of-type {\n",
       "        vertical-align: middle;\n",
       "    }\n",
       "\n",
       "    .dataframe tbody tr th {\n",
       "        vertical-align: top;\n",
       "    }\n",
       "\n",
       "    .dataframe thead th {\n",
       "        text-align: right;\n",
       "    }\n",
       "</style>\n",
       "<table border=\"1\" class=\"dataframe\">\n",
       "  <thead>\n",
       "    <tr style=\"text-align: right;\">\n",
       "      <th></th>\n",
       "      <th>horse_id</th>\n",
       "      <th>target</th>\n",
       "      <th>1g_ago</th>\n",
       "      <th>2g_ago</th>\n",
       "      <th>3g_ago</th>\n",
       "      <th>4g_ago</th>\n",
       "      <th>5g_ago</th>\n",
       "      <th>rank_glass</th>\n",
       "      <th>rank_dirt</th>\n",
       "      <th>rank</th>\n",
       "    </tr>\n",
       "  </thead>\n",
       "  <tbody>\n",
       "    <tr>\n",
       "      <th>0</th>\n",
       "      <td>1988105984</td>\n",
       "      <td>0.0</td>\n",
       "      <td>0.333333</td>\n",
       "      <td>0.538462</td>\n",
       "      <td>0.083333</td>\n",
       "      <td>0.071429</td>\n",
       "      <td>0.363636</td>\n",
       "      <td>NaN</td>\n",
       "      <td>0.403643</td>\n",
       "      <td>0.403643</td>\n",
       "    </tr>\n",
       "    <tr>\n",
       "      <th>1</th>\n",
       "      <td>1992100038</td>\n",
       "      <td>0.0</td>\n",
       "      <td>0.555556</td>\n",
       "      <td>0.636364</td>\n",
       "      <td>0.375000</td>\n",
       "      <td>0.333333</td>\n",
       "      <td>0.833333</td>\n",
       "      <td>0.485277</td>\n",
       "      <td>0.480977</td>\n",
       "      <td>0.484891</td>\n",
       "    </tr>\n",
       "    <tr>\n",
       "      <th>2</th>\n",
       "      <td>1992101546</td>\n",
       "      <td>0.0</td>\n",
       "      <td>0.928571</td>\n",
       "      <td>0.769231</td>\n",
       "      <td>0.941176</td>\n",
       "      <td>0.600000</td>\n",
       "      <td>0.750000</td>\n",
       "      <td>0.405078</td>\n",
       "      <td>0.458542</td>\n",
       "      <td>0.424120</td>\n",
       "    </tr>\n",
       "    <tr>\n",
       "      <th>3</th>\n",
       "      <td>1992102844</td>\n",
       "      <td>0.0</td>\n",
       "      <td>0.666667</td>\n",
       "      <td>0.588235</td>\n",
       "      <td>0.266667</td>\n",
       "      <td>0.625000</td>\n",
       "      <td>0.416667</td>\n",
       "      <td>0.421091</td>\n",
       "      <td>0.928571</td>\n",
       "      <td>0.435187</td>\n",
       "    </tr>\n",
       "    <tr>\n",
       "      <th>4</th>\n",
       "      <td>1992104930</td>\n",
       "      <td>0.0</td>\n",
       "      <td>0.750000</td>\n",
       "      <td>0.636364</td>\n",
       "      <td>1.000000</td>\n",
       "      <td>0.900000</td>\n",
       "      <td>1.000000</td>\n",
       "      <td>0.802564</td>\n",
       "      <td>0.504846</td>\n",
       "      <td>0.524476</td>\n",
       "    </tr>\n",
       "  </tbody>\n",
       "</table>\n",
       "</div>"
      ],
      "text/plain": [
       "     horse_id  target    1g_ago    2g_ago    3g_ago    4g_ago    5g_ago  \\\n",
       "0  1988105984     0.0  0.333333  0.538462  0.083333  0.071429  0.363636   \n",
       "1  1992100038     0.0  0.555556  0.636364  0.375000  0.333333  0.833333   \n",
       "2  1992101546     0.0  0.928571  0.769231  0.941176  0.600000  0.750000   \n",
       "3  1992102844     0.0  0.666667  0.588235  0.266667  0.625000  0.416667   \n",
       "4  1992104930     0.0  0.750000  0.636364  1.000000  0.900000  1.000000   \n",
       "\n",
       "   rank_glass  rank_dirt      rank  \n",
       "0         NaN   0.403643  0.403643  \n",
       "1    0.485277   0.480977  0.484891  \n",
       "2    0.405078   0.458542  0.424120  \n",
       "3    0.421091   0.928571  0.435187  \n",
       "4    0.802564   0.504846  0.524476  "
      ]
     },
     "execution_count": 756,
     "metadata": {},
     "output_type": "execute_result"
    }
   ],
   "source": [
    "print(pivot_df_urban.shape)\n",
    "print(df_rank_urban.shape)\n",
    "pivot_df_urban = pivot_df_urban.merge(df_rank, how='inner', on='horse_id')\n",
    "print(pivot_df_urban.shape)\n",
    "pivot_df_urban.head()"
   ]
  },
  {
   "cell_type": "code",
   "execution_count": 757,
   "id": "116d6a32-2527-4144-b256-ff24cfb4f34a",
   "metadata": {},
   "outputs": [
    {
     "name": "stdout",
     "output_type": "stream",
     "text": [
      "(42064, 7)\n",
      "(59258, 4)\n"
     ]
    }
   ],
   "source": [
    "print(pivot_df_rural.shape)\n",
    "print(df_rank_rural.shape)"
   ]
  },
  {
   "cell_type": "code",
   "execution_count": 758,
   "id": "a57a2c81-4ec7-44cb-8c67-3260c488ba21",
   "metadata": {},
   "outputs": [
    {
     "name": "stdout",
     "output_type": "stream",
     "text": [
      "(42064, 7)\n",
      "(59258, 4)\n",
      "(42064, 10)\n"
     ]
    }
   ],
   "source": [
    "print(pivot_df_rural.shape)\n",
    "print(df_rank_rural.shape)\n",
    "pivot_df_rural = pivot_df_rural.merge(df_rank, how='inner', on='horse_id')\n",
    "print(pivot_df_rural.shape)"
   ]
  },
  {
   "cell_type": "code",
   "execution_count": 759,
   "id": "29b852b5-3839-4d6c-b9b5-ca2543430231",
   "metadata": {},
   "outputs": [
    {
     "data": {
      "text/html": [
       "<div>\n",
       "<style scoped>\n",
       "    .dataframe tbody tr th:only-of-type {\n",
       "        vertical-align: middle;\n",
       "    }\n",
       "\n",
       "    .dataframe tbody tr th {\n",
       "        vertical-align: top;\n",
       "    }\n",
       "\n",
       "    .dataframe thead th {\n",
       "        text-align: right;\n",
       "    }\n",
       "</style>\n",
       "<table border=\"1\" class=\"dataframe\">\n",
       "  <thead>\n",
       "    <tr style=\"text-align: right;\">\n",
       "      <th></th>\n",
       "      <th>horse_id</th>\n",
       "      <th>target</th>\n",
       "      <th>1g_ago</th>\n",
       "      <th>2g_ago</th>\n",
       "      <th>3g_ago</th>\n",
       "      <th>4g_ago</th>\n",
       "      <th>5g_ago</th>\n",
       "      <th>rank_glass</th>\n",
       "      <th>rank_dirt</th>\n",
       "      <th>rank</th>\n",
       "    </tr>\n",
       "  </thead>\n",
       "  <tbody>\n",
       "    <tr>\n",
       "      <th>0</th>\n",
       "      <td>1988105984</td>\n",
       "      <td>0.0</td>\n",
       "      <td>0.066667</td>\n",
       "      <td>0.812500</td>\n",
       "      <td>0.083333</td>\n",
       "      <td>1.000000</td>\n",
       "      <td>1.000000</td>\n",
       "      <td>NaN</td>\n",
       "      <td>0.403643</td>\n",
       "      <td>0.403643</td>\n",
       "    </tr>\n",
       "    <tr>\n",
       "      <th>1</th>\n",
       "      <td>1992101546</td>\n",
       "      <td>0.0</td>\n",
       "      <td>0.285714</td>\n",
       "      <td>0.250000</td>\n",
       "      <td>0.250000</td>\n",
       "      <td>0.750000</td>\n",
       "      <td>0.333333</td>\n",
       "      <td>0.405078</td>\n",
       "      <td>0.458542</td>\n",
       "      <td>0.424120</td>\n",
       "    </tr>\n",
       "    <tr>\n",
       "      <th>2</th>\n",
       "      <td>1992104930</td>\n",
       "      <td>0.0</td>\n",
       "      <td>0.833333</td>\n",
       "      <td>0.900000</td>\n",
       "      <td>0.900000</td>\n",
       "      <td>0.800000</td>\n",
       "      <td>0.333333</td>\n",
       "      <td>0.802564</td>\n",
       "      <td>0.504846</td>\n",
       "      <td>0.524476</td>\n",
       "    </tr>\n",
       "    <tr>\n",
       "      <th>3</th>\n",
       "      <td>1993100815</td>\n",
       "      <td>0.0</td>\n",
       "      <td>0.555556</td>\n",
       "      <td>0.083333</td>\n",
       "      <td>0.307692</td>\n",
       "      <td>0.571429</td>\n",
       "      <td>0.357143</td>\n",
       "      <td>0.955556</td>\n",
       "      <td>0.318073</td>\n",
       "      <td>0.361538</td>\n",
       "    </tr>\n",
       "    <tr>\n",
       "      <th>4</th>\n",
       "      <td>1993101459</td>\n",
       "      <td>0.0</td>\n",
       "      <td>0.500000</td>\n",
       "      <td>0.812500</td>\n",
       "      <td>0.363636</td>\n",
       "      <td>0.571429</td>\n",
       "      <td>0.733333</td>\n",
       "      <td>0.672542</td>\n",
       "      <td>0.433191</td>\n",
       "      <td>0.493922</td>\n",
       "    </tr>\n",
       "  </tbody>\n",
       "</table>\n",
       "</div>"
      ],
      "text/plain": [
       "     horse_id  target    1g_ago    2g_ago    3g_ago    4g_ago    5g_ago  \\\n",
       "0  1988105984     0.0  0.066667  0.812500  0.083333  1.000000  1.000000   \n",
       "1  1992101546     0.0  0.285714  0.250000  0.250000  0.750000  0.333333   \n",
       "2  1992104930     0.0  0.833333  0.900000  0.900000  0.800000  0.333333   \n",
       "3  1993100815     0.0  0.555556  0.083333  0.307692  0.571429  0.357143   \n",
       "4  1993101459     0.0  0.500000  0.812500  0.363636  0.571429  0.733333   \n",
       "\n",
       "   rank_glass  rank_dirt      rank  \n",
       "0         NaN   0.403643  0.403643  \n",
       "1    0.405078   0.458542  0.424120  \n",
       "2    0.802564   0.504846  0.524476  \n",
       "3    0.955556   0.318073  0.361538  \n",
       "4    0.672542   0.433191  0.493922  "
      ]
     },
     "execution_count": 759,
     "metadata": {},
     "output_type": "execute_result"
    }
   ],
   "source": [
    "pivot_df_rural.head()"
   ]
  },
  {
   "cell_type": "code",
   "execution_count": 760,
   "id": "af31d58c-93de-4234-a801-a43d1ff344b1",
   "metadata": {},
   "outputs": [
    {
     "data": {
      "text/html": [
       "<div>\n",
       "<style scoped>\n",
       "    .dataframe tbody tr th:only-of-type {\n",
       "        vertical-align: middle;\n",
       "    }\n",
       "\n",
       "    .dataframe tbody tr th {\n",
       "        vertical-align: top;\n",
       "    }\n",
       "\n",
       "    .dataframe thead th {\n",
       "        text-align: right;\n",
       "    }\n",
       "</style>\n",
       "<table border=\"1\" class=\"dataframe\">\n",
       "  <thead>\n",
       "    <tr style=\"text-align: right;\">\n",
       "      <th></th>\n",
       "      <th>horse_id</th>\n",
       "      <th>target</th>\n",
       "      <th>1g_ago</th>\n",
       "      <th>2g_ago</th>\n",
       "      <th>3g_ago</th>\n",
       "      <th>4g_ago</th>\n",
       "      <th>5g_ago</th>\n",
       "      <th>rank_glass</th>\n",
       "      <th>rank_dirt</th>\n",
       "      <th>rank</th>\n",
       "    </tr>\n",
       "  </thead>\n",
       "  <tbody>\n",
       "    <tr>\n",
       "      <th>horse_id</th>\n",
       "      <td>1.000000</td>\n",
       "      <td>0.084232</td>\n",
       "      <td>-0.095938</td>\n",
       "      <td>-0.080638</td>\n",
       "      <td>-0.062858</td>\n",
       "      <td>-0.056951</td>\n",
       "      <td>-0.045241</td>\n",
       "      <td>-0.000446</td>\n",
       "      <td>-0.046908</td>\n",
       "      <td>-0.052310</td>\n",
       "    </tr>\n",
       "    <tr>\n",
       "      <th>target</th>\n",
       "      <td>0.084232</td>\n",
       "      <td>1.000000</td>\n",
       "      <td>-0.232464</td>\n",
       "      <td>-0.176685</td>\n",
       "      <td>-0.138974</td>\n",
       "      <td>-0.116651</td>\n",
       "      <td>-0.095152</td>\n",
       "      <td>-0.138845</td>\n",
       "      <td>-0.238892</td>\n",
       "      <td>-0.267636</td>\n",
       "    </tr>\n",
       "    <tr>\n",
       "      <th>1g_ago</th>\n",
       "      <td>-0.095938</td>\n",
       "      <td>-0.232464</td>\n",
       "      <td>1.000000</td>\n",
       "      <td>0.416444</td>\n",
       "      <td>0.320184</td>\n",
       "      <td>0.255095</td>\n",
       "      <td>0.212825</td>\n",
       "      <td>0.247213</td>\n",
       "      <td>0.449558</td>\n",
       "      <td>0.506559</td>\n",
       "    </tr>\n",
       "    <tr>\n",
       "      <th>2g_ago</th>\n",
       "      <td>-0.080638</td>\n",
       "      <td>-0.176685</td>\n",
       "      <td>0.416444</td>\n",
       "      <td>1.000000</td>\n",
       "      <td>0.385718</td>\n",
       "      <td>0.303891</td>\n",
       "      <td>0.242502</td>\n",
       "      <td>0.228118</td>\n",
       "      <td>0.437769</td>\n",
       "      <td>0.502931</td>\n",
       "    </tr>\n",
       "    <tr>\n",
       "      <th>3g_ago</th>\n",
       "      <td>-0.062858</td>\n",
       "      <td>-0.138974</td>\n",
       "      <td>0.320184</td>\n",
       "      <td>0.385718</td>\n",
       "      <td>1.000000</td>\n",
       "      <td>0.375556</td>\n",
       "      <td>0.290186</td>\n",
       "      <td>0.209137</td>\n",
       "      <td>0.414134</td>\n",
       "      <td>0.489441</td>\n",
       "    </tr>\n",
       "    <tr>\n",
       "      <th>4g_ago</th>\n",
       "      <td>-0.056951</td>\n",
       "      <td>-0.116651</td>\n",
       "      <td>0.255095</td>\n",
       "      <td>0.303891</td>\n",
       "      <td>0.375556</td>\n",
       "      <td>1.000000</td>\n",
       "      <td>0.357946</td>\n",
       "      <td>0.193609</td>\n",
       "      <td>0.394452</td>\n",
       "      <td>0.479530</td>\n",
       "    </tr>\n",
       "    <tr>\n",
       "      <th>5g_ago</th>\n",
       "      <td>-0.045241</td>\n",
       "      <td>-0.095152</td>\n",
       "      <td>0.212825</td>\n",
       "      <td>0.242502</td>\n",
       "      <td>0.290186</td>\n",
       "      <td>0.357946</td>\n",
       "      <td>1.000000</td>\n",
       "      <td>0.187535</td>\n",
       "      <td>0.373135</td>\n",
       "      <td>0.464688</td>\n",
       "    </tr>\n",
       "    <tr>\n",
       "      <th>rank_glass</th>\n",
       "      <td>-0.000446</td>\n",
       "      <td>-0.138845</td>\n",
       "      <td>0.247213</td>\n",
       "      <td>0.228118</td>\n",
       "      <td>0.209137</td>\n",
       "      <td>0.193609</td>\n",
       "      <td>0.187535</td>\n",
       "      <td>1.000000</td>\n",
       "      <td>0.144768</td>\n",
       "      <td>0.601348</td>\n",
       "    </tr>\n",
       "    <tr>\n",
       "      <th>rank_dirt</th>\n",
       "      <td>-0.046908</td>\n",
       "      <td>-0.238892</td>\n",
       "      <td>0.449558</td>\n",
       "      <td>0.437769</td>\n",
       "      <td>0.414134</td>\n",
       "      <td>0.394452</td>\n",
       "      <td>0.373135</td>\n",
       "      <td>0.144768</td>\n",
       "      <td>1.000000</td>\n",
       "      <td>0.849320</td>\n",
       "    </tr>\n",
       "    <tr>\n",
       "      <th>rank</th>\n",
       "      <td>-0.052310</td>\n",
       "      <td>-0.267636</td>\n",
       "      <td>0.506559</td>\n",
       "      <td>0.502931</td>\n",
       "      <td>0.489441</td>\n",
       "      <td>0.479530</td>\n",
       "      <td>0.464688</td>\n",
       "      <td>0.601348</td>\n",
       "      <td>0.849320</td>\n",
       "      <td>1.000000</td>\n",
       "    </tr>\n",
       "  </tbody>\n",
       "</table>\n",
       "</div>"
      ],
      "text/plain": [
       "            horse_id    target    1g_ago    2g_ago    3g_ago    4g_ago  \\\n",
       "horse_id    1.000000  0.084232 -0.095938 -0.080638 -0.062858 -0.056951   \n",
       "target      0.084232  1.000000 -0.232464 -0.176685 -0.138974 -0.116651   \n",
       "1g_ago     -0.095938 -0.232464  1.000000  0.416444  0.320184  0.255095   \n",
       "2g_ago     -0.080638 -0.176685  0.416444  1.000000  0.385718  0.303891   \n",
       "3g_ago     -0.062858 -0.138974  0.320184  0.385718  1.000000  0.375556   \n",
       "4g_ago     -0.056951 -0.116651  0.255095  0.303891  0.375556  1.000000   \n",
       "5g_ago     -0.045241 -0.095152  0.212825  0.242502  0.290186  0.357946   \n",
       "rank_glass -0.000446 -0.138845  0.247213  0.228118  0.209137  0.193609   \n",
       "rank_dirt  -0.046908 -0.238892  0.449558  0.437769  0.414134  0.394452   \n",
       "rank       -0.052310 -0.267636  0.506559  0.502931  0.489441  0.479530   \n",
       "\n",
       "              5g_ago  rank_glass  rank_dirt      rank  \n",
       "horse_id   -0.045241   -0.000446  -0.046908 -0.052310  \n",
       "target     -0.095152   -0.138845  -0.238892 -0.267636  \n",
       "1g_ago      0.212825    0.247213   0.449558  0.506559  \n",
       "2g_ago      0.242502    0.228118   0.437769  0.502931  \n",
       "3g_ago      0.290186    0.209137   0.414134  0.489441  \n",
       "4g_ago      0.357946    0.193609   0.394452  0.479530  \n",
       "5g_ago      1.000000    0.187535   0.373135  0.464688  \n",
       "rank_glass  0.187535    1.000000   0.144768  0.601348  \n",
       "rank_dirt   0.373135    0.144768   1.000000  0.849320  \n",
       "rank        0.464688    0.601348   0.849320  1.000000  "
      ]
     },
     "execution_count": 760,
     "metadata": {},
     "output_type": "execute_result"
    }
   ],
   "source": [
    "corr = pivot_df.corr()\n",
    "corr"
   ]
  },
  {
   "cell_type": "code",
   "execution_count": 761,
   "id": "545f25a4-51c5-45aa-a0fc-de11e518d01b",
   "metadata": {},
   "outputs": [
    {
     "data": {
      "text/plain": [
       "<AxesSubplot:>"
      ]
     },
     "execution_count": 761,
     "metadata": {},
     "output_type": "execute_result"
    },
    {
     "data": {
      "image/png": "[encoded data removed]",
      "text/plain": [
       "<Figure size 2160x1080 with 2 Axes>"
      ]
     },
     "metadata": {
      "needs_background": "light"
     },
     "output_type": "display_data"
    }
   ],
   "source": [
    "plt.figure(figsize=(30, 15))\n",
    "sns.heatmap(corr, annot=True, fmt='.2f')"
   ]
  },
  {
   "cell_type": "code",
   "execution_count": 762,
   "id": "a7d3f943-7722-4552-b702-d68dd616d8c6",
   "metadata": {},
   "outputs": [
    {
     "data": {
      "text/html": [
       "<div>\n",
       "<style scoped>\n",
       "    .dataframe tbody tr th:only-of-type {\n",
       "        vertical-align: middle;\n",
       "    }\n",
       "\n",
       "    .dataframe tbody tr th {\n",
       "        vertical-align: top;\n",
       "    }\n",
       "\n",
       "    .dataframe thead th {\n",
       "        text-align: right;\n",
       "    }\n",
       "</style>\n",
       "<table border=\"1\" class=\"dataframe\">\n",
       "  <thead>\n",
       "    <tr style=\"text-align: right;\">\n",
       "      <th></th>\n",
       "      <th>horse_id</th>\n",
       "      <th>target</th>\n",
       "      <th>1g_ago</th>\n",
       "      <th>2g_ago</th>\n",
       "      <th>3g_ago</th>\n",
       "      <th>4g_ago</th>\n",
       "      <th>5g_ago</th>\n",
       "      <th>rank_glass</th>\n",
       "      <th>rank_dirt</th>\n",
       "      <th>rank</th>\n",
       "    </tr>\n",
       "  </thead>\n",
       "  <tbody>\n",
       "    <tr>\n",
       "      <th>horse_id</th>\n",
       "      <td>1.000000</td>\n",
       "      <td>0.042829</td>\n",
       "      <td>-0.077255</td>\n",
       "      <td>-0.067884</td>\n",
       "      <td>-0.057893</td>\n",
       "      <td>-0.056466</td>\n",
       "      <td>-0.054179</td>\n",
       "      <td>-0.035151</td>\n",
       "      <td>-0.066010</td>\n",
       "      <td>-0.098544</td>\n",
       "    </tr>\n",
       "    <tr>\n",
       "      <th>target</th>\n",
       "      <td>0.042829</td>\n",
       "      <td>1.000000</td>\n",
       "      <td>-0.204750</td>\n",
       "      <td>-0.155018</td>\n",
       "      <td>-0.122502</td>\n",
       "      <td>-0.109294</td>\n",
       "      <td>-0.100101</td>\n",
       "      <td>-0.151207</td>\n",
       "      <td>-0.146229</td>\n",
       "      <td>-0.233094</td>\n",
       "    </tr>\n",
       "    <tr>\n",
       "      <th>1g_ago</th>\n",
       "      <td>-0.077255</td>\n",
       "      <td>-0.204750</td>\n",
       "      <td>1.000000</td>\n",
       "      <td>0.394672</td>\n",
       "      <td>0.289633</td>\n",
       "      <td>0.229730</td>\n",
       "      <td>0.179500</td>\n",
       "      <td>0.308142</td>\n",
       "      <td>0.253919</td>\n",
       "      <td>0.400770</td>\n",
       "    </tr>\n",
       "    <tr>\n",
       "      <th>2g_ago</th>\n",
       "      <td>-0.067884</td>\n",
       "      <td>-0.155018</td>\n",
       "      <td>0.394672</td>\n",
       "      <td>1.000000</td>\n",
       "      <td>0.343908</td>\n",
       "      <td>0.254639</td>\n",
       "      <td>0.199447</td>\n",
       "      <td>0.312063</td>\n",
       "      <td>0.253506</td>\n",
       "      <td>0.404862</td>\n",
       "    </tr>\n",
       "    <tr>\n",
       "      <th>3g_ago</th>\n",
       "      <td>-0.057893</td>\n",
       "      <td>-0.122502</td>\n",
       "      <td>0.289633</td>\n",
       "      <td>0.343908</td>\n",
       "      <td>1.000000</td>\n",
       "      <td>0.324422</td>\n",
       "      <td>0.232943</td>\n",
       "      <td>0.302027</td>\n",
       "      <td>0.250246</td>\n",
       "      <td>0.402296</td>\n",
       "    </tr>\n",
       "    <tr>\n",
       "      <th>4g_ago</th>\n",
       "      <td>-0.056466</td>\n",
       "      <td>-0.109294</td>\n",
       "      <td>0.229730</td>\n",
       "      <td>0.254639</td>\n",
       "      <td>0.324422</td>\n",
       "      <td>1.000000</td>\n",
       "      <td>0.316436</td>\n",
       "      <td>0.306083</td>\n",
       "      <td>0.244222</td>\n",
       "      <td>0.399673</td>\n",
       "    </tr>\n",
       "    <tr>\n",
       "      <th>5g_ago</th>\n",
       "      <td>-0.054179</td>\n",
       "      <td>-0.100101</td>\n",
       "      <td>0.179500</td>\n",
       "      <td>0.199447</td>\n",
       "      <td>0.232943</td>\n",
       "      <td>0.316436</td>\n",
       "      <td>1.000000</td>\n",
       "      <td>0.316195</td>\n",
       "      <td>0.221389</td>\n",
       "      <td>0.381541</td>\n",
       "    </tr>\n",
       "    <tr>\n",
       "      <th>rank_glass</th>\n",
       "      <td>-0.035151</td>\n",
       "      <td>-0.151207</td>\n",
       "      <td>0.308142</td>\n",
       "      <td>0.312063</td>\n",
       "      <td>0.302027</td>\n",
       "      <td>0.306083</td>\n",
       "      <td>0.316195</td>\n",
       "      <td>1.000000</td>\n",
       "      <td>0.022323</td>\n",
       "      <td>0.514896</td>\n",
       "    </tr>\n",
       "    <tr>\n",
       "      <th>rank_dirt</th>\n",
       "      <td>-0.066010</td>\n",
       "      <td>-0.146229</td>\n",
       "      <td>0.253919</td>\n",
       "      <td>0.253506</td>\n",
       "      <td>0.250246</td>\n",
       "      <td>0.244222</td>\n",
       "      <td>0.221389</td>\n",
       "      <td>0.022323</td>\n",
       "      <td>1.000000</td>\n",
       "      <td>0.729324</td>\n",
       "    </tr>\n",
       "    <tr>\n",
       "      <th>rank</th>\n",
       "      <td>-0.098544</td>\n",
       "      <td>-0.233094</td>\n",
       "      <td>0.400770</td>\n",
       "      <td>0.404862</td>\n",
       "      <td>0.402296</td>\n",
       "      <td>0.399673</td>\n",
       "      <td>0.381541</td>\n",
       "      <td>0.514896</td>\n",
       "      <td>0.729324</td>\n",
       "      <td>1.000000</td>\n",
       "    </tr>\n",
       "  </tbody>\n",
       "</table>\n",
       "</div>"
      ],
      "text/plain": [
       "            horse_id    target    1g_ago    2g_ago    3g_ago    4g_ago  \\\n",
       "horse_id    1.000000  0.042829 -0.077255 -0.067884 -0.057893 -0.056466   \n",
       "target      0.042829  1.000000 -0.204750 -0.155018 -0.122502 -0.109294   \n",
       "1g_ago     -0.077255 -0.204750  1.000000  0.394672  0.289633  0.229730   \n",
       "2g_ago     -0.067884 -0.155018  0.394672  1.000000  0.343908  0.254639   \n",
       "3g_ago     -0.057893 -0.122502  0.289633  0.343908  1.000000  0.324422   \n",
       "4g_ago     -0.056466 -0.109294  0.229730  0.254639  0.324422  1.000000   \n",
       "5g_ago     -0.054179 -0.100101  0.179500  0.199447  0.232943  0.316436   \n",
       "rank_glass -0.035151 -0.151207  0.308142  0.312063  0.302027  0.306083   \n",
       "rank_dirt  -0.066010 -0.146229  0.253919  0.253506  0.250246  0.244222   \n",
       "rank       -0.098544 -0.233094  0.400770  0.404862  0.402296  0.399673   \n",
       "\n",
       "              5g_ago  rank_glass  rank_dirt      rank  \n",
       "horse_id   -0.054179   -0.035151  -0.066010 -0.098544  \n",
       "target     -0.100101   -0.151207  -0.146229 -0.233094  \n",
       "1g_ago      0.179500    0.308142   0.253919  0.400770  \n",
       "2g_ago      0.199447    0.312063   0.253506  0.404862  \n",
       "3g_ago      0.232943    0.302027   0.250246  0.402296  \n",
       "4g_ago      0.316436    0.306083   0.244222  0.399673  \n",
       "5g_ago      1.000000    0.316195   0.221389  0.381541  \n",
       "rank_glass  0.316195    1.000000   0.022323  0.514896  \n",
       "rank_dirt   0.221389    0.022323   1.000000  0.729324  \n",
       "rank        0.381541    0.514896   0.729324  1.000000  "
      ]
     },
     "execution_count": 762,
     "metadata": {},
     "output_type": "execute_result"
    }
   ],
   "source": [
    "corr_urban = pivot_df_urban.corr()\n",
    "#plt.figure(figsize=(15, 8))\n",
    "#sns.pairplot(df_temp[['target, ]])\n",
    "#plt.show()\n",
    "corr_urban"
   ]
  },
  {
   "cell_type": "code",
   "execution_count": 763,
   "id": "537449c2-7430-4040-b842-0d179bd535f5",
   "metadata": {},
   "outputs": [
    {
     "data": {
      "text/plain": [
       "<AxesSubplot:>"
      ]
     },
     "execution_count": 763,
     "metadata": {},
     "output_type": "execute_result"
    },
    {
     "data": {
      "image/png": "[encoded data removed]",
      "text/plain": [
       "<Figure size 2160x1080 with 2 Axes>"
      ]
     },
     "metadata": {
      "needs_background": "light"
     },
     "output_type": "display_data"
    }
   ],
   "source": [
    "plt.figure(figsize=(30, 15))\n",
    "sns.heatmap(corr_urban, annot=True, fmt='.2f')"
   ]
  },
  {
   "cell_type": "code",
   "execution_count": 764,
   "id": "c328af1c-fec5-454e-b83b-fe101e3e774e",
   "metadata": {},
   "outputs": [
    {
     "data": {
      "text/html": [
       "<div>\n",
       "<style scoped>\n",
       "    .dataframe tbody tr th:only-of-type {\n",
       "        vertical-align: middle;\n",
       "    }\n",
       "\n",
       "    .dataframe tbody tr th {\n",
       "        vertical-align: top;\n",
       "    }\n",
       "\n",
       "    .dataframe thead th {\n",
       "        text-align: right;\n",
       "    }\n",
       "</style>\n",
       "<table border=\"1\" class=\"dataframe\">\n",
       "  <thead>\n",
       "    <tr style=\"text-align: right;\">\n",
       "      <th></th>\n",
       "      <th>horse_id</th>\n",
       "      <th>target</th>\n",
       "      <th>1g_ago</th>\n",
       "      <th>2g_ago</th>\n",
       "      <th>3g_ago</th>\n",
       "      <th>4g_ago</th>\n",
       "      <th>5g_ago</th>\n",
       "      <th>rank_glass</th>\n",
       "      <th>rank_dirt</th>\n",
       "      <th>rank</th>\n",
       "    </tr>\n",
       "  </thead>\n",
       "  <tbody>\n",
       "    <tr>\n",
       "      <th>horse_id</th>\n",
       "      <td>1.000000</td>\n",
       "      <td>0.057581</td>\n",
       "      <td>-0.064278</td>\n",
       "      <td>-0.054470</td>\n",
       "      <td>-0.044842</td>\n",
       "      <td>-0.043180</td>\n",
       "      <td>-0.037411</td>\n",
       "      <td>0.044338</td>\n",
       "      <td>0.004152</td>\n",
       "      <td>0.018040</td>\n",
       "    </tr>\n",
       "    <tr>\n",
       "      <th>target</th>\n",
       "      <td>0.057581</td>\n",
       "      <td>1.000000</td>\n",
       "      <td>-0.262901</td>\n",
       "      <td>-0.226370</td>\n",
       "      <td>-0.197591</td>\n",
       "      <td>-0.177210</td>\n",
       "      <td>-0.157131</td>\n",
       "      <td>-0.027537</td>\n",
       "      <td>-0.260397</td>\n",
       "      <td>-0.238395</td>\n",
       "    </tr>\n",
       "    <tr>\n",
       "      <th>1g_ago</th>\n",
       "      <td>-0.064278</td>\n",
       "      <td>-0.262901</td>\n",
       "      <td>1.000000</td>\n",
       "      <td>0.453356</td>\n",
       "      <td>0.401389</td>\n",
       "      <td>0.342637</td>\n",
       "      <td>0.314834</td>\n",
       "      <td>0.022413</td>\n",
       "      <td>0.472733</td>\n",
       "      <td>0.444170</td>\n",
       "    </tr>\n",
       "    <tr>\n",
       "      <th>2g_ago</th>\n",
       "      <td>-0.054470</td>\n",
       "      <td>-0.226370</td>\n",
       "      <td>0.453356</td>\n",
       "      <td>1.000000</td>\n",
       "      <td>0.440467</td>\n",
       "      <td>0.390646</td>\n",
       "      <td>0.338793</td>\n",
       "      <td>0.020870</td>\n",
       "      <td>0.486958</td>\n",
       "      <td>0.455887</td>\n",
       "    </tr>\n",
       "    <tr>\n",
       "      <th>3g_ago</th>\n",
       "      <td>-0.044842</td>\n",
       "      <td>-0.197591</td>\n",
       "      <td>0.401389</td>\n",
       "      <td>0.440467</td>\n",
       "      <td>1.000000</td>\n",
       "      <td>0.430340</td>\n",
       "      <td>0.378738</td>\n",
       "      <td>0.014000</td>\n",
       "      <td>0.494729</td>\n",
       "      <td>0.460856</td>\n",
       "    </tr>\n",
       "    <tr>\n",
       "      <th>4g_ago</th>\n",
       "      <td>-0.043180</td>\n",
       "      <td>-0.177210</td>\n",
       "      <td>0.342637</td>\n",
       "      <td>0.390646</td>\n",
       "      <td>0.430340</td>\n",
       "      <td>1.000000</td>\n",
       "      <td>0.413405</td>\n",
       "      <td>0.013603</td>\n",
       "      <td>0.494326</td>\n",
       "      <td>0.461722</td>\n",
       "    </tr>\n",
       "    <tr>\n",
       "      <th>5g_ago</th>\n",
       "      <td>-0.037411</td>\n",
       "      <td>-0.157131</td>\n",
       "      <td>0.314834</td>\n",
       "      <td>0.338793</td>\n",
       "      <td>0.378738</td>\n",
       "      <td>0.413405</td>\n",
       "      <td>1.000000</td>\n",
       "      <td>0.011976</td>\n",
       "      <td>0.487914</td>\n",
       "      <td>0.456760</td>\n",
       "    </tr>\n",
       "    <tr>\n",
       "      <th>rank_glass</th>\n",
       "      <td>0.044338</td>\n",
       "      <td>-0.027537</td>\n",
       "      <td>0.022413</td>\n",
       "      <td>0.020870</td>\n",
       "      <td>0.014000</td>\n",
       "      <td>0.013603</td>\n",
       "      <td>0.011976</td>\n",
       "      <td>1.000000</td>\n",
       "      <td>0.043457</td>\n",
       "      <td>0.228089</td>\n",
       "    </tr>\n",
       "    <tr>\n",
       "      <th>rank_dirt</th>\n",
       "      <td>0.004152</td>\n",
       "      <td>-0.260397</td>\n",
       "      <td>0.472733</td>\n",
       "      <td>0.486958</td>\n",
       "      <td>0.494729</td>\n",
       "      <td>0.494326</td>\n",
       "      <td>0.487914</td>\n",
       "      <td>0.043457</td>\n",
       "      <td>1.000000</td>\n",
       "      <td>0.947290</td>\n",
       "    </tr>\n",
       "    <tr>\n",
       "      <th>rank</th>\n",
       "      <td>0.018040</td>\n",
       "      <td>-0.238395</td>\n",
       "      <td>0.444170</td>\n",
       "      <td>0.455887</td>\n",
       "      <td>0.460856</td>\n",
       "      <td>0.461722</td>\n",
       "      <td>0.456760</td>\n",
       "      <td>0.228089</td>\n",
       "      <td>0.947290</td>\n",
       "      <td>1.000000</td>\n",
       "    </tr>\n",
       "  </tbody>\n",
       "</table>\n",
       "</div>"
      ],
      "text/plain": [
       "            horse_id    target    1g_ago    2g_ago    3g_ago    4g_ago  \\\n",
       "horse_id    1.000000  0.057581 -0.064278 -0.054470 -0.044842 -0.043180   \n",
       "target      0.057581  1.000000 -0.262901 -0.226370 -0.197591 -0.177210   \n",
       "1g_ago     -0.064278 -0.262901  1.000000  0.453356  0.401389  0.342637   \n",
       "2g_ago     -0.054470 -0.226370  0.453356  1.000000  0.440467  0.390646   \n",
       "3g_ago     -0.044842 -0.197591  0.401389  0.440467  1.000000  0.430340   \n",
       "4g_ago     -0.043180 -0.177210  0.342637  0.390646  0.430340  1.000000   \n",
       "5g_ago     -0.037411 -0.157131  0.314834  0.338793  0.378738  0.413405   \n",
       "rank_glass  0.044338 -0.027537  0.022413  0.020870  0.014000  0.013603   \n",
       "rank_dirt   0.004152 -0.260397  0.472733  0.486958  0.494729  0.494326   \n",
       "rank        0.018040 -0.238395  0.444170  0.455887  0.460856  0.461722   \n",
       "\n",
       "              5g_ago  rank_glass  rank_dirt      rank  \n",
       "horse_id   -0.037411    0.044338   0.004152  0.018040  \n",
       "target     -0.157131   -0.027537  -0.260397 -0.238395  \n",
       "1g_ago      0.314834    0.022413   0.472733  0.444170  \n",
       "2g_ago      0.338793    0.020870   0.486958  0.455887  \n",
       "3g_ago      0.378738    0.014000   0.494729  0.460856  \n",
       "4g_ago      0.413405    0.013603   0.494326  0.461722  \n",
       "5g_ago      1.000000    0.011976   0.487914  0.456760  \n",
       "rank_glass  0.011976    1.000000   0.043457  0.228089  \n",
       "rank_dirt   0.487914    0.043457   1.000000  0.947290  \n",
       "rank        0.456760    0.228089   0.947290  1.000000  "
      ]
     },
     "execution_count": 764,
     "metadata": {},
     "output_type": "execute_result"
    }
   ],
   "source": [
    "corr_rural = pivot_df_rural.corr()\n",
    "corr_rural"
   ]
  },
  {
   "cell_type": "code",
   "execution_count": 765,
   "id": "a34683db-8eb9-40c6-9a8f-ffe05fad1104",
   "metadata": {},
   "outputs": [
    {
     "data": {
      "text/plain": [
       "<AxesSubplot:>"
      ]
     },
     "execution_count": 765,
     "metadata": {},
     "output_type": "execute_result"
    },
    {
     "data": {
      "image/png": "[encoded data removed]",
      "text/plain": [
       "<Figure size 2160x1080 with 2 Axes>"
      ]
     },
     "metadata": {
      "needs_background": "light"
     },
     "output_type": "display_data"
    }
   ],
   "source": [
    "plt.figure(figsize=(30, 15))\n",
    "sns.heatmap(corr_rural, annot=True, fmt='.2f')"
   ]
  },
  {
   "cell_type": "markdown",
   "id": "70937e3e-d69b-4612-8206-e79d3af09bf7",
   "metadata": {},
   "source": [
    "- targetとrankの相関係数は直近1,2試合の間程度の値となっている。\n",
    "- 地方の芝レースにおける勝率は平均で欠損値保管すると相関がかなり下がるため、データとしては挿入しないほうがいいかも"
   ]
  },
  {
   "cell_type": "code",
   "execution_count": 766,
   "id": "e1f848ce-e6e4-4c1d-9af3-2d904868f705",
   "metadata": {},
   "outputs": [
    {
     "name": "stdout",
     "output_type": "stream",
     "text": [
      "(61480, 10)\n",
      "(42064, 10)\n"
     ]
    }
   ],
   "source": [
    "print(pivot_df_urban.shape)\n",
    "print(pivot_df_rural.shape)"
   ]
  },
  {
   "cell_type": "markdown",
   "id": "449b039b-928f-4862-84e4-ae2c715ed847",
   "metadata": {},
   "source": [
    "## targetのレースが芝/ダートか追加する"
   ]
  },
  {
   "cell_type": "markdown",
   "id": "00e8440c-db3f-49a6-ab6a-b3d5e34a794b",
   "metadata": {},
   "source": [
    "df_temp = df.sort_values('horse_id').sort_values('日付')\n",
    "df_temp = df_temp.groupby('horse_id').head(1)\n",
    "df_temp['芝/ダート'].value_counts()\n",
    "\n",
    "pivot_df = pivot_df.merge(df_temp[['horse_id', '芝/ダート']], how='inner', on='horse_id')"
   ]
  },
  {
   "cell_type": "markdown",
   "id": "e9f548ec-efe9-4944-adb8-de975c54277a",
   "metadata": {},
   "source": [
    "from sklearn.preprocessing import LabelBinarizer\n",
    "\n",
    "lb = LabelBinarizer()\n",
    "pivot_df['芝/ダート'] = lb.fit_transform(pivot_df['芝/ダート'])\n",
    "pivot_df.head()"
   ]
  },
  {
   "cell_type": "markdown",
   "id": "82275f14-d120-4bea-8255-954018d1c03d",
   "metadata": {},
   "source": [
    "corr = pivot_df.corr()\n",
    "plt.figure(figsize=(30, 15))\n",
    "sns.heatmap(corr, annot=True, fmt='.2f')"
   ]
  },
  {
   "cell_type": "markdown",
   "id": "084323e3-0ab5-4744-b178-6cad934b2143",
   "metadata": {},
   "source": [
    "- 芝/ダートカテゴリ変数を追加する場合、target=1のデータに偏りがあると良くなさそう。偏りがあるか確認してみる。"
   ]
  },
  {
   "cell_type": "markdown",
   "id": "787fa11b-5013-4f7a-a43b-c378589e56cb",
   "metadata": {},
   "source": [
    "plt.figure(figsize=(30,15))\n",
    "sns.histplot(pivot_df[pivot_df['target']==1]['芝/ダート'])"
   ]
  },
  {
   "cell_type": "markdown",
   "id": "32c544dd-9c1e-48b9-bb4c-1650be76a175",
   "metadata": {},
   "source": [
    "- 極端に考える。target=1のデータ数が芝:1、ダート:1000を想定すると、モデルとしてはダートのほうがtarget=1と予測しやすくなってしまう気がする。これは後ほど試してみる。"
   ]
  },
  {
   "cell_type": "markdown",
   "id": "c57c29cc-c44f-46dd-9a1d-2157a64e66fb",
   "metadata": {},
   "source": [
    "## 親馬（パパ・ママ）のレース着順を入れてみる。"
   ]
  },
  {
   "cell_type": "markdown",
   "id": "f94a3723-1852-4d69-a044-bb7877c2c1c1",
   "metadata": {},
   "source": [
    "### まずは血統データをimportする"
   ]
  },
  {
   "cell_type": "code",
   "execution_count": 827,
   "id": "97f2f8fa-a394-4995-a353-2f73972cbb6f",
   "metadata": {},
   "outputs": [
    {
     "data": {
      "text/html": [
       "<div>\n",
       "<style scoped>\n",
       "    .dataframe tbody tr th:only-of-type {\n",
       "        vertical-align: middle;\n",
       "    }\n",
       "\n",
       "    .dataframe tbody tr th {\n",
       "        vertical-align: top;\n",
       "    }\n",
       "\n",
       "    .dataframe thead th {\n",
       "        text-align: right;\n",
       "    }\n",
       "</style>\n",
       "<table border=\"1\" class=\"dataframe\">\n",
       "  <thead>\n",
       "    <tr style=\"text-align: right;\">\n",
       "      <th></th>\n",
       "      <th>horse_id</th>\n",
       "      <th>horse_name</th>\n",
       "      <th>f_1_1</th>\n",
       "      <th>m_1_1</th>\n",
       "    </tr>\n",
       "  </thead>\n",
       "  <tbody>\n",
       "    <tr>\n",
       "      <th>0</th>\n",
       "      <td>2020105571</td>\n",
       "      <td>レイフォール</td>\n",
       "      <td>リオンディーズ(2013105915)</td>\n",
       "      <td>バリアーモ(2012104909)</td>\n",
       "    </tr>\n",
       "    <tr>\n",
       "      <th>1</th>\n",
       "      <td>2020101863</td>\n",
       "      <td>コパカバーナビーチ</td>\n",
       "      <td>モーリス(2011100655)</td>\n",
       "      <td>アンチャン(2013105370)</td>\n",
       "    </tr>\n",
       "    <tr>\n",
       "      <th>2</th>\n",
       "      <td>2020102360</td>\n",
       "      <td>クリノグローリー</td>\n",
       "      <td>ラブリーデイ(2010104298)</td>\n",
       "      <td>モエレエターナル(2006103788)</td>\n",
       "    </tr>\n",
       "    <tr>\n",
       "      <th>3</th>\n",
       "      <td>2020103614</td>\n",
       "      <td>ラクサパーナ</td>\n",
       "      <td>ダイワメジャー(2001103114)</td>\n",
       "      <td>ポロンナルワ(2008103176)</td>\n",
       "    </tr>\n",
       "    <tr>\n",
       "      <th>4</th>\n",
       "      <td>2020106585</td>\n",
       "      <td>ヴォンヌヴォー</td>\n",
       "      <td>ドレフォン(000a013b82)</td>\n",
       "      <td>ヴェイルオブクララ(2011104478)</td>\n",
       "    </tr>\n",
       "    <tr>\n",
       "      <th>...</th>\n",
       "      <td>...</td>\n",
       "      <td>...</td>\n",
       "      <td>...</td>\n",
       "      <td>...</td>\n",
       "    </tr>\n",
       "    <tr>\n",
       "      <th>107083</th>\n",
       "      <td>1997103283</td>\n",
       "      <td>チトセリダー</td>\n",
       "      <td>ヒシアリダー(1990109099)</td>\n",
       "      <td>ハヤノワイド(1992109414)</td>\n",
       "    </tr>\n",
       "    <tr>\n",
       "      <th>107084</th>\n",
       "      <td>1997104641</td>\n",
       "      <td>ラッキークィーン</td>\n",
       "      <td>アフリート(000a000013)</td>\n",
       "      <td>スノーフレーク(1991108201)</td>\n",
       "    </tr>\n",
       "    <tr>\n",
       "      <th>107085</th>\n",
       "      <td>1997102790</td>\n",
       "      <td>ケイオーデビル</td>\n",
       "      <td>キンググローリアス(000a000d48)</td>\n",
       "      <td>ブレハツトスキー(1987107037)</td>\n",
       "    </tr>\n",
       "    <tr>\n",
       "      <th>107086</th>\n",
       "      <td>1995108676</td>\n",
       "      <td>グラスワンダー</td>\n",
       "      <td>Silver Hawk(000a0019b4)</td>\n",
       "      <td>Ameriflora(000a00a4b9)</td>\n",
       "    </tr>\n",
       "    <tr>\n",
       "      <th>107087</th>\n",
       "      <td>1994100530</td>\n",
       "      <td>マチカネフクキタル</td>\n",
       "      <td>クリスタルグリッターズ(000a0000c0)</td>\n",
       "      <td>アテナトウショウ(1981106904)</td>\n",
       "    </tr>\n",
       "  </tbody>\n",
       "</table>\n",
       "<p>107088 rows × 4 columns</p>\n",
       "</div>"
      ],
      "text/plain": [
       "          horse_id horse_name                    f_1_1                   m_1_1\n",
       "0       2020105571     レイフォール      リオンディーズ(2013105915)       バリアーモ(2012104909)\n",
       "1       2020101863  コパカバーナビーチ         モーリス(2011100655)       アンチャン(2013105370)\n",
       "2       2020102360   クリノグローリー       ラブリーデイ(2010104298)    モエレエターナル(2006103788)\n",
       "3       2020103614     ラクサパーナ      ダイワメジャー(2001103114)      ポロンナルワ(2008103176)\n",
       "4       2020106585    ヴォンヌヴォー        ドレフォン(000a013b82)   ヴェイルオブクララ(2011104478)\n",
       "...            ...        ...                      ...                     ...\n",
       "107083  1997103283     チトセリダー       ヒシアリダー(1990109099)      ハヤノワイド(1992109414)\n",
       "107084  1997104641   ラッキークィーン        アフリート(000a000013)     スノーフレーク(1991108201)\n",
       "107085  1997102790    ケイオーデビル    キンググローリアス(000a000d48)    ブレハツトスキー(1987107037)\n",
       "107086  1995108676    グラスワンダー  Silver Hawk(000a0019b4)  Ameriflora(000a00a4b9)\n",
       "107087  1994100530  マチカネフクキタル  クリスタルグリッターズ(000a0000c0)    アテナトウショウ(1981106904)\n",
       "\n",
       "[107088 rows x 4 columns]"
      ]
     },
     "execution_count": 827,
     "metadata": {},
     "output_type": "execute_result"
    }
   ],
   "source": [
    "table_dir = '/Users/eee/python/jra_ml/data/table'\n",
    "target_file = 'horse_pedigree.csv'\n",
    "pedigree_path = os.path.join(table_dir, target_file)\n",
    "\n",
    "usecols = ['horse_id', 'horse_name', 'f_1_1', 'm_1_1']\n",
    "df_ped = pd.read_csv(pedigree_path, usecols=usecols)\n",
    "df_ped"
   ]
  },
  {
   "cell_type": "code",
   "execution_count": 828,
   "id": "18152f6a-cbf1-4123-b484-5d14cac1834e",
   "metadata": {},
   "outputs": [
    {
     "data": {
      "text/plain": [
       "(107088, 4)"
      ]
     },
     "execution_count": 828,
     "metadata": {},
     "output_type": "execute_result"
    }
   ],
   "source": [
    "df_ped['f_1_1'] = df_ped['f_1_1'].str.extract('(\\d+)', expand=True)\n",
    "df_ped['m_1_1'] = df_ped['m_1_1'].str.extract('(\\d+)', expand=True)\n",
    "df_ped.shape\n",
    "#df_ped['f_2_1'] = df_ped['f_2_1'].str.extract('(\\d+)', expand=True)\n",
    "#df_ped['m_2_1'] = df_ped['m_2_1'].str.extract('(\\d+)', expand=True)\n",
    "#df_ped['f_2_2'] = df_ped['f_2_2'].str.extract('(\\d+)', expand=True)\n",
    "#df_ped['m_2_2'] = df_ped['m_2_2'].str.extract('(\\d+)', expand=True)"
   ]
  },
  {
   "cell_type": "code",
   "execution_count": 829,
   "id": "57dd6545-da7c-4445-8370-92e55dbbe1ca",
   "metadata": {},
   "outputs": [
    {
     "data": {
      "text/html": [
       "<div>\n",
       "<style scoped>\n",
       "    .dataframe tbody tr th:only-of-type {\n",
       "        vertical-align: middle;\n",
       "    }\n",
       "\n",
       "    .dataframe tbody tr th {\n",
       "        vertical-align: top;\n",
       "    }\n",
       "\n",
       "    .dataframe thead th {\n",
       "        text-align: right;\n",
       "    }\n",
       "</style>\n",
       "<table border=\"1\" class=\"dataframe\">\n",
       "  <thead>\n",
       "    <tr style=\"text-align: right;\">\n",
       "      <th></th>\n",
       "      <th>horse_id</th>\n",
       "      <th>horse_name</th>\n",
       "      <th>f_1_1</th>\n",
       "      <th>m_1_1</th>\n",
       "    </tr>\n",
       "  </thead>\n",
       "  <tbody>\n",
       "    <tr>\n",
       "      <th>0</th>\n",
       "      <td>2020105571</td>\n",
       "      <td>レイフォール</td>\n",
       "      <td>2013105915</td>\n",
       "      <td>2012104909</td>\n",
       "    </tr>\n",
       "    <tr>\n",
       "      <th>1</th>\n",
       "      <td>2020101863</td>\n",
       "      <td>コパカバーナビーチ</td>\n",
       "      <td>2011100655</td>\n",
       "      <td>2013105370</td>\n",
       "    </tr>\n",
       "    <tr>\n",
       "      <th>2</th>\n",
       "      <td>2020102360</td>\n",
       "      <td>クリノグローリー</td>\n",
       "      <td>2010104298</td>\n",
       "      <td>2006103788</td>\n",
       "    </tr>\n",
       "    <tr>\n",
       "      <th>3</th>\n",
       "      <td>2020103614</td>\n",
       "      <td>ラクサパーナ</td>\n",
       "      <td>2001103114</td>\n",
       "      <td>2008103176</td>\n",
       "    </tr>\n",
       "    <tr>\n",
       "      <th>4</th>\n",
       "      <td>2020106585</td>\n",
       "      <td>ヴォンヌヴォー</td>\n",
       "      <td>000</td>\n",
       "      <td>2011104478</td>\n",
       "    </tr>\n",
       "  </tbody>\n",
       "</table>\n",
       "</div>"
      ],
      "text/plain": [
       "     horse_id horse_name       f_1_1       m_1_1\n",
       "0  2020105571     レイフォール  2013105915  2012104909\n",
       "1  2020101863  コパカバーナビーチ  2011100655  2013105370\n",
       "2  2020102360   クリノグローリー  2010104298  2006103788\n",
       "3  2020103614     ラクサパーナ  2001103114  2008103176\n",
       "4  2020106585    ヴォンヌヴォー         000  2011104478"
      ]
     },
     "execution_count": 829,
     "metadata": {},
     "output_type": "execute_result"
    }
   ],
   "source": [
    "df_ped.head()"
   ]
  },
  {
   "cell_type": "code",
   "execution_count": 830,
   "id": "3525a41e-4e7d-4c7e-8942-16f9b71a1d03",
   "metadata": {},
   "outputs": [
    {
     "name": "stdout",
     "output_type": "stream",
     "text": [
      "父親_国産/外国産:\n",
      " 国産     70857\n",
      "外国産    36231\n",
      "Name: 国産/外国産, dtype: int64\n"
     ]
    }
   ],
   "source": [
    "df_ped['temp'] = df_ped['f_1_1']=='000'\n",
    "df_ped['国産/外国産'] = df_ped['temp'].where(df_ped['temp']==False, '外国産')\n",
    "df_ped['国産/外国産'] = df_ped['国産/外国産'].where(df_ped['国産/外国産']=='外国産', '国産')\n",
    "df_ped = df_ped.drop(columns='temp')\n",
    "print('父親_国産/外国産:\\n', df_ped['国産/外国産'].value_counts())"
   ]
  },
  {
   "cell_type": "code",
   "execution_count": 831,
   "id": "50939084-fbe7-4ffd-a97e-1c70577bd9ab",
   "metadata": {},
   "outputs": [
    {
     "name": "stdout",
     "output_type": "stream",
     "text": [
      "父親_国産/外国産:\n",
      " 国産     86738\n",
      "外国産    20350\n",
      "Name: 国産/外国産, dtype: int64\n"
     ]
    }
   ],
   "source": [
    "df_ped['temp'] = df_ped['m_1_1']=='000'\n",
    "df_ped['国産/外国産'] = df_ped['temp'].where(df_ped['temp']==False, '外国産')\n",
    "df_ped['国産/外国産'] = df_ped['国産/外国産'].where(df_ped['国産/外国産']=='外国産', '国産')\n",
    "df_ped = df_ped.drop(columns='temp')\n",
    "print('父親_国産/外国産:\\n', df_ped['国産/外国産'].value_counts())"
   ]
  },
  {
   "cell_type": "markdown",
   "id": "8e00b088-cd21-4209-92f9-109d5f0eb66f",
   "metadata": {},
   "source": [
    "- かなりの数の馬が少なくとも両親のうちのどちらか一方が海外馬となっている。\n",
    "- 海外馬のデータは欠損値が非常に多いため、使いづらいのかも..."
   ]
  },
  {
   "cell_type": "markdown",
   "id": "0a19015b-2245-44e5-954f-1fc439846f7b",
   "metadata": {},
   "source": [
    "### 海外馬が親の場合は除外"
   ]
  },
  {
   "cell_type": "markdown",
   "id": "4a3fd1b4-6b82-467c-8487-96be280c654b",
   "metadata": {},
   "source": [
    "print(df_ped.shape)\n",
    "df_ped = df_ped[df_ped['f_1_1']!='000']\n",
    "print(df_ped.shape)\n",
    "df_ped = df_ped[df_ped['m_1_1']!='000']\n",
    "print(df_ped.shape)\n",
    "df_ped.head()"
   ]
  },
  {
   "cell_type": "markdown",
   "id": "bb6e3386-e7c2-46d7-b14b-ee9d574d5a66",
   "metadata": {},
   "source": [
    "- 両親ともに国産馬であるデータのみに絞ると、4万頭ほどのデータが除外された..."
   ]
  },
  {
   "cell_type": "markdown",
   "id": "f651d100-f629-4203-a856-d8a1f4a10a01",
   "metadata": {},
   "source": [
    "### ここから父馬/母馬それぞれのレース着順データを作成する"
   ]
  },
  {
   "cell_type": "code",
   "execution_count": 832,
   "id": "05afdf41-c65c-4cc4-be43-555613db2e9b",
   "metadata": {},
   "outputs": [
    {
     "data": {
      "text/plain": [
       "horse_id         0\n",
       "target           0\n",
       "1g_ago           0\n",
       "2g_ago           0\n",
       "3g_ago           0\n",
       "4g_ago           0\n",
       "5g_ago           0\n",
       "rank_glass    7124\n",
       "rank_dirt     4990\n",
       "rank             0\n",
       "dtype: int64"
      ]
     },
     "execution_count": 832,
     "metadata": {},
     "output_type": "execute_result"
    }
   ],
   "source": [
    "pivot_df_urban.isnull().sum()"
   ]
  },
  {
   "cell_type": "code",
   "execution_count": 833,
   "id": "af05e901-476a-4062-8d4e-f924c83087b4",
   "metadata": {},
   "outputs": [
    {
     "data": {
      "text/plain": [
       "(61480, 10)"
      ]
     },
     "execution_count": 833,
     "metadata": {},
     "output_type": "execute_result"
    }
   ],
   "source": [
    "pivot_df_urban.shape"
   ]
  },
  {
   "cell_type": "code",
   "execution_count": 834,
   "id": "e1e7a647-1e5b-4ff1-ae57-42273df8a621",
   "metadata": {},
   "outputs": [
    {
     "data": {
      "text/plain": [
       "horse_id         0\n",
       "target           0\n",
       "1g_ago           0\n",
       "2g_ago           0\n",
       "3g_ago           0\n",
       "4g_ago           0\n",
       "5g_ago           0\n",
       "rank_glass    8605\n",
       "rank_dirt        0\n",
       "rank             0\n",
       "dtype: int64"
      ]
     },
     "execution_count": 834,
     "metadata": {},
     "output_type": "execute_result"
    }
   ],
   "source": [
    "pivot_df_rural.isnull().sum()"
   ]
  },
  {
   "cell_type": "code",
   "execution_count": 835,
   "id": "74b4cff1-dc25-4548-94a0-c595a11dc92d",
   "metadata": {},
   "outputs": [
    {
     "data": {
      "text/plain": [
       "(42064, 10)"
      ]
     },
     "execution_count": 835,
     "metadata": {},
     "output_type": "execute_result"
    }
   ],
   "source": [
    "pivot_df_rural.shape"
   ]
  },
  {
   "cell_type": "code",
   "execution_count": 866,
   "id": "4b0657ac-a7f2-45ad-9680-f42a11e5b9ee",
   "metadata": {},
   "outputs": [
    {
     "name": "stdout",
     "output_type": "stream",
     "text": [
      "中央データ数:  (61480, 10)\n",
      "地方データ数:  (42064, 10)\n",
      "(106845, 10)\n",
      "horse_id          0\n",
      "target            0\n",
      "1g_ago         4171\n",
      "2g_ago         9214\n",
      "3g_ago        14241\n",
      "4g_ago        18837\n",
      "5g_ago        23010\n",
      "rank_glass    21141\n",
      "rank_dirt     11251\n",
      "rank              0\n",
      "dtype: int64\n"
     ]
    }
   ],
   "source": [
    "print('中央データ数: ', pivot_df_urban.shape)\n",
    "print('地方データ数: ', pivot_df_rural.shape)\n",
    "\n",
    "#pivot_df = pd.concat([pivot_df_urban, pivot_df_rural], axis=0)\n",
    "print(pivot_df.shape)\n",
    "print(pivot_df.isnull().sum())"
   ]
  },
  {
   "cell_type": "markdown",
   "id": "fcbf04af-20c1-482a-a857-bd03e130e4bb",
   "metadata": {},
   "source": [
    "- マージする際は一旦、onを訓練データ側に合わせるようにする。"
   ]
  },
  {
   "cell_type": "code",
   "execution_count": 867,
   "id": "3e9958d5-0578-46b3-9760-3a709dcb6242",
   "metadata": {},
   "outputs": [
    {
     "name": "stdout",
     "output_type": "stream",
     "text": [
      "horse_id       object\n",
      "rank_glass    float64\n",
      "rank_dirt     float64\n",
      "rank          float64\n",
      "dtype: object\n",
      "(106845, 4)\n",
      "horse_id          0\n",
      "rank_glass    21141\n",
      "rank_dirt     11251\n",
      "rank              0\n",
      "dtype: int64\n"
     ]
    },
    {
     "name": "stderr",
     "output_type": "stream",
     "text": [
      "/var/folders/8c/ctv36bkx7pv_b47nj404bc480000gn/T/ipykernel_14085/2915202553.py:2: SettingWithCopyWarning: \n",
      "A value is trying to be set on a copy of a slice from a DataFrame.\n",
      "Try using .loc[row_indexer,col_indexer] = value instead\n",
      "\n",
      "See the caveats in the documentation: https://pandas.pydata.org/pandas-docs/stable/user_guide/indexing.html#returning-a-view-versus-a-copy\n",
      "  right_pivot_df['horse_id'] = right_pivot_df['horse_id'].astype(str)\n"
     ]
    }
   ],
   "source": [
    "right_pivot_df = pivot_df[['horse_id', 'rank_glass', 'rank_dirt', 'rank']]\n",
    "right_pivot_df['horse_id'] = right_pivot_df['horse_id'].astype(str)\n",
    "right_pivot_df.reset_index(inplace=True, drop=True)\n",
    "print(right_pivot_df.dtypes)\n",
    "print(right_pivot_df.shape)\n",
    "print(right_pivot_df.isnull().sum())"
   ]
  },
  {
   "cell_type": "markdown",
   "id": "fa130853-72fd-4c1b-8049-fc79c94e186c",
   "metadata": {},
   "source": [
    "#### 父親のrankから"
   ]
  },
  {
   "cell_type": "code",
   "execution_count": 868,
   "id": "f782cde4-50f5-47e4-b9e1-7bbb36803c9b",
   "metadata": {},
   "outputs": [
    {
     "name": "stdout",
     "output_type": "stream",
     "text": [
      "horse_id    object\n",
      "f_1_1       object\n",
      "dtype: object\n",
      "(107088, 2)\n"
     ]
    }
   ],
   "source": [
    "left_df_ped = df_ped[['horse_id', 'f_1_1']].astype(str)\n",
    "print(left_df_ped.dtypes)\n",
    "print(left_df_ped.shape)"
   ]
  },
  {
   "cell_type": "code",
   "execution_count": 869,
   "id": "69979e8d-a734-41e0-ba62-43bcd68f445f",
   "metadata": {},
   "outputs": [
    {
     "data": {
      "text/plain": [
       "36231"
      ]
     },
     "execution_count": 869,
     "metadata": {},
     "output_type": "execute_result"
    }
   ],
   "source": [
    "left_df_ped[left_df_ped['f_1_1']=='000'].value_counts().sum()"
   ]
  },
  {
   "cell_type": "code",
   "execution_count": 870,
   "id": "28513e75-32a5-4cf6-ac82-cf38774708fc",
   "metadata": {},
   "outputs": [
    {
     "data": {
      "text/html": [
       "<div>\n",
       "<style scoped>\n",
       "    .dataframe tbody tr th:only-of-type {\n",
       "        vertical-align: middle;\n",
       "    }\n",
       "\n",
       "    .dataframe tbody tr th {\n",
       "        vertical-align: top;\n",
       "    }\n",
       "\n",
       "    .dataframe thead th {\n",
       "        text-align: right;\n",
       "    }\n",
       "</style>\n",
       "<table border=\"1\" class=\"dataframe\">\n",
       "  <thead>\n",
       "    <tr style=\"text-align: right;\">\n",
       "      <th></th>\n",
       "      <th>horse_id</th>\n",
       "      <th>rank_glass</th>\n",
       "      <th>rank_dirt</th>\n",
       "      <th>rank</th>\n",
       "    </tr>\n",
       "  </thead>\n",
       "  <tbody>\n",
       "    <tr>\n",
       "      <th>87684</th>\n",
       "      <td>2016101956</td>\n",
       "      <td>0.469231</td>\n",
       "      <td>0.380044</td>\n",
       "      <td>0.42216</td>\n",
       "    </tr>\n",
       "  </tbody>\n",
       "</table>\n",
       "</div>"
      ],
      "text/plain": [
       "         horse_id  rank_glass  rank_dirt     rank\n",
       "87684  2016101956    0.469231   0.380044  0.42216"
      ]
     },
     "execution_count": 870,
     "metadata": {},
     "output_type": "execute_result"
    }
   ],
   "source": [
    "right_pivot_df[right_pivot_df['horse_id']=='2016101956']"
   ]
  },
  {
   "cell_type": "code",
   "execution_count": 871,
   "id": "41f6a1ef-1241-4b9f-b08a-86234facaf4f",
   "metadata": {},
   "outputs": [
    {
     "name": "stdout",
     "output_type": "stream",
     "text": [
      "      father_horse_id  F_rank_glass  F_rank_dirt    F_rank\n",
      "0          2020105571      0.170278          NaN  0.170278\n",
      "1          2019100451      0.170278          NaN  0.170278\n",
      "2          2019103122      0.170278          NaN  0.170278\n",
      "3          2020101337      0.170278          NaN  0.170278\n",
      "4          2020106797      0.170278          NaN  0.170278\n",
      "...               ...           ...          ...       ...\n",
      "48801      2003107097      1.000000     0.234322  0.271672\n",
      "48802      2003109409      0.413889     0.133333  0.373810\n",
      "48803      2002109390      0.421091     0.928571  0.435187\n",
      "48804      2002103567      0.415667     0.277976  0.395997\n",
      "48805      2002102682      0.415667     0.277976  0.395997\n",
      "\n",
      "[48806 rows x 4 columns]\n",
      "(48806, 4)\n",
      "father_horse_id        0\n",
      "F_rank_glass         560\n",
      "F_rank_dirt        30781\n",
      "F_rank                 0\n",
      "dtype: int64\n"
     ]
    }
   ],
   "source": [
    "left_df_ped.columns = ['self_horse_id', 'horse_id']\n",
    "df_f_rank = left_df_ped.merge(right_pivot_df, how='inner', on='horse_id')\n",
    "df_f_rank = df_f_rank.drop('horse_id', axis=1)\n",
    "df_f_rank.columns = ['father_horse_id', 'F_rank_glass', 'F_rank_dirt', 'F_rank']\n",
    "print(df_f_rank)\n",
    "print(df_f_rank.shape)\n",
    "print(df_f_rank.isnull().sum())"
   ]
  },
  {
   "cell_type": "markdown",
   "id": "0da32b32-7c11-43c8-9006-7f15c3e00cc7",
   "metadata": {},
   "source": [
    "#### 母親のrank"
   ]
  },
  {
   "cell_type": "code",
   "execution_count": 872,
   "id": "223dafa3-023e-492c-80fc-eadbe1596359",
   "metadata": {},
   "outputs": [
    {
     "data": {
      "text/plain": [
       "horse_id    object\n",
       "m_1_1       object\n",
       "dtype: object"
      ]
     },
     "execution_count": 872,
     "metadata": {},
     "output_type": "execute_result"
    }
   ],
   "source": [
    "left_df_ped = df_ped[['horse_id', 'm_1_1']].astype(str)\n",
    "left_df_ped.dtypes"
   ]
  },
  {
   "cell_type": "code",
   "execution_count": 873,
   "id": "bd2c4b66-3c45-418a-ab68-9909ae1c4446",
   "metadata": {},
   "outputs": [
    {
     "name": "stdout",
     "output_type": "stream",
     "text": [
      "     horse_id  M_rank_glass  M_rank_dirt    M_rank\n",
      "0  2020105571      0.633307      0.65468  0.647246\n",
      "1  2018101994      0.633307      0.65468  0.647246\n",
      "2  2019100580      0.633307      0.65468  0.647246\n",
      "3  2020101863      1.000000          NaN  1.000000\n",
      "4  2019106855      1.000000          NaN  1.000000\n",
      "(45467, 4)\n",
      "horse_id           0\n",
      "M_rank_glass    4558\n",
      "M_rank_dirt     7130\n",
      "M_rank             0\n",
      "dtype: int64\n"
     ]
    }
   ],
   "source": [
    "left_df_ped.columns = ['self_horse_id', 'horse_id']\n",
    "df_m_rank = left_df_ped.merge(right_pivot_df, how='inner', on='horse_id')\n",
    "df_m_rank = df_m_rank.drop('horse_id', axis=1)\n",
    "df_m_rank.columns = ['horse_id', 'M_rank_glass', 'M_rank_dirt', 'M_rank']\n",
    "print(df_m_rank.head())\n",
    "print(df_m_rank.shape)\n",
    "print(df_m_rank.isnull().sum())"
   ]
  },
  {
   "cell_type": "code",
   "execution_count": 874,
   "id": "be850caf-daa3-4d81-8553-7c52e8928290",
   "metadata": {},
   "outputs": [
    {
     "name": "stdout",
     "output_type": "stream",
     "text": [
      "(106845, 10)\n",
      "(48806, 4)\n",
      "(45467, 4)\n"
     ]
    }
   ],
   "source": [
    "print(pivot_df.shape)\n",
    "print(df_f_rank.shape)\n",
    "print(df_m_rank.shape)"
   ]
  },
  {
   "cell_type": "code",
   "execution_count": 875,
   "id": "160d468c-d80e-4eb1-b482-eb62898171b4",
   "metadata": {},
   "outputs": [
    {
     "data": {
      "text/html": [
       "<div>\n",
       "<style scoped>\n",
       "    .dataframe tbody tr th:only-of-type {\n",
       "        vertical-align: middle;\n",
       "    }\n",
       "\n",
       "    .dataframe tbody tr th {\n",
       "        vertical-align: top;\n",
       "    }\n",
       "\n",
       "    .dataframe thead th {\n",
       "        text-align: right;\n",
       "    }\n",
       "</style>\n",
       "<table border=\"1\" class=\"dataframe\">\n",
       "  <thead>\n",
       "    <tr style=\"text-align: right;\">\n",
       "      <th></th>\n",
       "      <th>horse_id</th>\n",
       "      <th>M_rank_glass</th>\n",
       "      <th>M_rank_dirt</th>\n",
       "      <th>M_rank</th>\n",
       "    </tr>\n",
       "  </thead>\n",
       "  <tbody>\n",
       "    <tr>\n",
       "      <th>0</th>\n",
       "      <td>2020105571</td>\n",
       "      <td>0.633307</td>\n",
       "      <td>0.65468</td>\n",
       "      <td>0.647246</td>\n",
       "    </tr>\n",
       "    <tr>\n",
       "      <th>1</th>\n",
       "      <td>2018101994</td>\n",
       "      <td>0.633307</td>\n",
       "      <td>0.65468</td>\n",
       "      <td>0.647246</td>\n",
       "    </tr>\n",
       "    <tr>\n",
       "      <th>2</th>\n",
       "      <td>2019100580</td>\n",
       "      <td>0.633307</td>\n",
       "      <td>0.65468</td>\n",
       "      <td>0.647246</td>\n",
       "    </tr>\n",
       "    <tr>\n",
       "      <th>3</th>\n",
       "      <td>2020101863</td>\n",
       "      <td>1.000000</td>\n",
       "      <td>NaN</td>\n",
       "      <td>1.000000</td>\n",
       "    </tr>\n",
       "    <tr>\n",
       "      <th>4</th>\n",
       "      <td>2019106855</td>\n",
       "      <td>1.000000</td>\n",
       "      <td>NaN</td>\n",
       "      <td>1.000000</td>\n",
       "    </tr>\n",
       "  </tbody>\n",
       "</table>\n",
       "</div>"
      ],
      "text/plain": [
       "     horse_id  M_rank_glass  M_rank_dirt    M_rank\n",
       "0  2020105571      0.633307      0.65468  0.647246\n",
       "1  2018101994      0.633307      0.65468  0.647246\n",
       "2  2019100580      0.633307      0.65468  0.647246\n",
       "3  2020101863      1.000000          NaN  1.000000\n",
       "4  2019106855      1.000000          NaN  1.000000"
      ]
     },
     "execution_count": 875,
     "metadata": {},
     "output_type": "execute_result"
    }
   ],
   "source": [
    "df_m_rank.head()"
   ]
  },
  {
   "cell_type": "markdown",
   "id": "d32a885f-67d2-41cd-88eb-45a733f49902",
   "metadata": {},
   "source": [
    "#### 親のレース勝率をを追加する"
   ]
  },
  {
   "cell_type": "code",
   "execution_count": 876,
   "id": "1a570662-bdbe-430c-aee2-7f4f868bc8a6",
   "metadata": {},
   "outputs": [
    {
     "name": "stdout",
     "output_type": "stream",
     "text": [
      "# pivot_urban:  (61480, 10)\n",
      "# ped:  (107088, 5)\n",
      "# father_rank:  (48806, 4)\n",
      "# mother_rank:  (45467, 4)\n"
     ]
    }
   ],
   "source": [
    "print('# pivot_urban: ', pivot_df_urban.shape)\n",
    "print('# ped: ', df_ped.shape)\n",
    "print('# father_rank: ', df_f_rank.shape)\n",
    "print('# mother_rank: ', df_m_rank.shape)"
   ]
  },
  {
   "cell_type": "code",
   "execution_count": 891,
   "id": "bfff2e92-356e-47d1-91a3-1aacecee13bc",
   "metadata": {},
   "outputs": [],
   "source": [
    "temp = pivot_df_rural.merge(df_ped[['horse_id', 'f_1_1', 'm_1_1']], how='inner', on='horse_id')"
   ]
  },
  {
   "cell_type": "code",
   "execution_count": 892,
   "id": "b0552301-4640-40ff-944a-8a1e6a96aa60",
   "metadata": {},
   "outputs": [
    {
     "name": "stdout",
     "output_type": "stream",
     "text": [
      "(42064, 12)\n",
      "horse_id         0\n",
      "target           0\n",
      "1g_ago           0\n",
      "2g_ago           0\n",
      "3g_ago           0\n",
      "4g_ago           0\n",
      "5g_ago           0\n",
      "rank_glass    8605\n",
      "rank_dirt        0\n",
      "rank             0\n",
      "f_1_1            0\n",
      "m_1_1            2\n",
      "dtype: int64\n",
      "horse_id        int64\n",
      "target        float64\n",
      "1g_ago        float64\n",
      "2g_ago        float64\n",
      "3g_ago        float64\n",
      "4g_ago        float64\n",
      "5g_ago        float64\n",
      "rank_glass    float64\n",
      "rank_dirt     float64\n",
      "rank          float64\n",
      "f_1_1          object\n",
      "m_1_1          object\n",
      "dtype: object\n"
     ]
    }
   ],
   "source": [
    "print(temp.shape)\n",
    "print(temp.isnull().sum())\n",
    "print(temp.dtypes)"
   ]
  },
  {
   "cell_type": "code",
   "execution_count": 893,
   "id": "f1a0940c-d97f-4fc3-8c30-fce66a7ce328",
   "metadata": {},
   "outputs": [],
   "source": [
    "#temp['f_1_1'] = temp['f_1_1'].fillna('000').astype(int)\n",
    "#temp['m_1_1'] = temp['m_1_1'].fillna('000').astype(int)"
   ]
  },
  {
   "cell_type": "code",
   "execution_count": 894,
   "id": "0b687835-7a9e-4d84-9ee1-9673df7895bd",
   "metadata": {},
   "outputs": [
    {
     "data": {
      "text/html": [
       "<div>\n",
       "<style scoped>\n",
       "    .dataframe tbody tr th:only-of-type {\n",
       "        vertical-align: middle;\n",
       "    }\n",
       "\n",
       "    .dataframe tbody tr th {\n",
       "        vertical-align: top;\n",
       "    }\n",
       "\n",
       "    .dataframe thead th {\n",
       "        text-align: right;\n",
       "    }\n",
       "</style>\n",
       "<table border=\"1\" class=\"dataframe\">\n",
       "  <thead>\n",
       "    <tr style=\"text-align: right;\">\n",
       "      <th></th>\n",
       "      <th>father_horse_id</th>\n",
       "      <th>F_rank_glass</th>\n",
       "      <th>F_rank_dirt</th>\n",
       "      <th>F_rank</th>\n",
       "    </tr>\n",
       "  </thead>\n",
       "  <tbody>\n",
       "    <tr>\n",
       "      <th>0</th>\n",
       "      <td>2020105571</td>\n",
       "      <td>0.170278</td>\n",
       "      <td>NaN</td>\n",
       "      <td>0.170278</td>\n",
       "    </tr>\n",
       "    <tr>\n",
       "      <th>1</th>\n",
       "      <td>2019100451</td>\n",
       "      <td>0.170278</td>\n",
       "      <td>NaN</td>\n",
       "      <td>0.170278</td>\n",
       "    </tr>\n",
       "    <tr>\n",
       "      <th>2</th>\n",
       "      <td>2019103122</td>\n",
       "      <td>0.170278</td>\n",
       "      <td>NaN</td>\n",
       "      <td>0.170278</td>\n",
       "    </tr>\n",
       "    <tr>\n",
       "      <th>3</th>\n",
       "      <td>2020101337</td>\n",
       "      <td>0.170278</td>\n",
       "      <td>NaN</td>\n",
       "      <td>0.170278</td>\n",
       "    </tr>\n",
       "    <tr>\n",
       "      <th>4</th>\n",
       "      <td>2020106797</td>\n",
       "      <td>0.170278</td>\n",
       "      <td>NaN</td>\n",
       "      <td>0.170278</td>\n",
       "    </tr>\n",
       "    <tr>\n",
       "      <th>...</th>\n",
       "      <td>...</td>\n",
       "      <td>...</td>\n",
       "      <td>...</td>\n",
       "      <td>...</td>\n",
       "    </tr>\n",
       "    <tr>\n",
       "      <th>48801</th>\n",
       "      <td>2003107097</td>\n",
       "      <td>1.000000</td>\n",
       "      <td>0.234322</td>\n",
       "      <td>0.271672</td>\n",
       "    </tr>\n",
       "    <tr>\n",
       "      <th>48802</th>\n",
       "      <td>2003109409</td>\n",
       "      <td>0.413889</td>\n",
       "      <td>0.133333</td>\n",
       "      <td>0.373810</td>\n",
       "    </tr>\n",
       "    <tr>\n",
       "      <th>48803</th>\n",
       "      <td>2002109390</td>\n",
       "      <td>0.421091</td>\n",
       "      <td>0.928571</td>\n",
       "      <td>0.435187</td>\n",
       "    </tr>\n",
       "    <tr>\n",
       "      <th>48804</th>\n",
       "      <td>2002103567</td>\n",
       "      <td>0.415667</td>\n",
       "      <td>0.277976</td>\n",
       "      <td>0.395997</td>\n",
       "    </tr>\n",
       "    <tr>\n",
       "      <th>48805</th>\n",
       "      <td>2002102682</td>\n",
       "      <td>0.415667</td>\n",
       "      <td>0.277976</td>\n",
       "      <td>0.395997</td>\n",
       "    </tr>\n",
       "  </tbody>\n",
       "</table>\n",
       "<p>48806 rows × 4 columns</p>\n",
       "</div>"
      ],
      "text/plain": [
       "      father_horse_id  F_rank_glass  F_rank_dirt    F_rank\n",
       "0          2020105571      0.170278          NaN  0.170278\n",
       "1          2019100451      0.170278          NaN  0.170278\n",
       "2          2019103122      0.170278          NaN  0.170278\n",
       "3          2020101337      0.170278          NaN  0.170278\n",
       "4          2020106797      0.170278          NaN  0.170278\n",
       "...               ...           ...          ...       ...\n",
       "48801      2003107097      1.000000     0.234322  0.271672\n",
       "48802      2003109409      0.413889     0.133333  0.373810\n",
       "48803      2002109390      0.421091     0.928571  0.435187\n",
       "48804      2002103567      0.415667     0.277976  0.395997\n",
       "48805      2002102682      0.415667     0.277976  0.395997\n",
       "\n",
       "[48806 rows x 4 columns]"
      ]
     },
     "execution_count": 894,
     "metadata": {},
     "output_type": "execute_result"
    }
   ],
   "source": [
    "df_f_rank"
   ]
  },
  {
   "cell_type": "code",
   "execution_count": 895,
   "id": "bc06c3fe-5b19-4eee-8309-7ff2cc76346c",
   "metadata": {},
   "outputs": [
    {
     "data": {
      "text/html": [
       "<div>\n",
       "<style scoped>\n",
       "    .dataframe tbody tr th:only-of-type {\n",
       "        vertical-align: middle;\n",
       "    }\n",
       "\n",
       "    .dataframe tbody tr th {\n",
       "        vertical-align: top;\n",
       "    }\n",
       "\n",
       "    .dataframe thead th {\n",
       "        text-align: right;\n",
       "    }\n",
       "</style>\n",
       "<table border=\"1\" class=\"dataframe\">\n",
       "  <thead>\n",
       "    <tr style=\"text-align: right;\">\n",
       "      <th></th>\n",
       "      <th>horse_id</th>\n",
       "      <th>target</th>\n",
       "      <th>1g_ago</th>\n",
       "      <th>2g_ago</th>\n",
       "      <th>3g_ago</th>\n",
       "      <th>4g_ago</th>\n",
       "      <th>5g_ago</th>\n",
       "      <th>rank_glass</th>\n",
       "      <th>rank_dirt</th>\n",
       "      <th>rank</th>\n",
       "      <th>f_1_1</th>\n",
       "      <th>m_1_1</th>\n",
       "      <th>father_horse_id</th>\n",
       "      <th>F_rank_glass</th>\n",
       "      <th>F_rank_dirt</th>\n",
       "      <th>F_rank</th>\n",
       "    </tr>\n",
       "  </thead>\n",
       "  <tbody>\n",
       "    <tr>\n",
       "      <th>0</th>\n",
       "      <td>1988105984</td>\n",
       "      <td>0.0</td>\n",
       "      <td>0.066667</td>\n",
       "      <td>0.812500</td>\n",
       "      <td>0.083333</td>\n",
       "      <td>1.000000</td>\n",
       "      <td>1.000000</td>\n",
       "      <td>NaN</td>\n",
       "      <td>0.403643</td>\n",
       "      <td>0.403643</td>\n",
       "      <td>1980101941</td>\n",
       "      <td>1955105963</td>\n",
       "      <td>NaN</td>\n",
       "      <td>NaN</td>\n",
       "      <td>NaN</td>\n",
       "      <td>NaN</td>\n",
       "    </tr>\n",
       "    <tr>\n",
       "      <th>1</th>\n",
       "      <td>1992101546</td>\n",
       "      <td>0.0</td>\n",
       "      <td>0.285714</td>\n",
       "      <td>0.250000</td>\n",
       "      <td>0.250000</td>\n",
       "      <td>0.750000</td>\n",
       "      <td>0.333333</td>\n",
       "      <td>0.405078</td>\n",
       "      <td>0.458542</td>\n",
       "      <td>0.424120</td>\n",
       "      <td>1979106961</td>\n",
       "      <td>000</td>\n",
       "      <td>NaN</td>\n",
       "      <td>NaN</td>\n",
       "      <td>NaN</td>\n",
       "      <td>NaN</td>\n",
       "    </tr>\n",
       "    <tr>\n",
       "      <th>2</th>\n",
       "      <td>1992104930</td>\n",
       "      <td>0.0</td>\n",
       "      <td>0.833333</td>\n",
       "      <td>0.900000</td>\n",
       "      <td>0.900000</td>\n",
       "      <td>0.800000</td>\n",
       "      <td>0.333333</td>\n",
       "      <td>0.802564</td>\n",
       "      <td>0.504846</td>\n",
       "      <td>0.524476</td>\n",
       "      <td>000</td>\n",
       "      <td>1983106007</td>\n",
       "      <td>NaN</td>\n",
       "      <td>NaN</td>\n",
       "      <td>NaN</td>\n",
       "      <td>NaN</td>\n",
       "    </tr>\n",
       "    <tr>\n",
       "      <th>3</th>\n",
       "      <td>1993100815</td>\n",
       "      <td>0.0</td>\n",
       "      <td>0.555556</td>\n",
       "      <td>0.083333</td>\n",
       "      <td>0.307692</td>\n",
       "      <td>0.571429</td>\n",
       "      <td>0.357143</td>\n",
       "      <td>0.955556</td>\n",
       "      <td>0.318073</td>\n",
       "      <td>0.361538</td>\n",
       "      <td>1986109001</td>\n",
       "      <td>1981104890</td>\n",
       "      <td>NaN</td>\n",
       "      <td>NaN</td>\n",
       "      <td>NaN</td>\n",
       "      <td>NaN</td>\n",
       "    </tr>\n",
       "    <tr>\n",
       "      <th>4</th>\n",
       "      <td>1993101459</td>\n",
       "      <td>0.0</td>\n",
       "      <td>0.500000</td>\n",
       "      <td>0.812500</td>\n",
       "      <td>0.363636</td>\n",
       "      <td>0.571429</td>\n",
       "      <td>0.733333</td>\n",
       "      <td>0.672542</td>\n",
       "      <td>0.433191</td>\n",
       "      <td>0.493922</td>\n",
       "      <td>1979105216</td>\n",
       "      <td>1984104742</td>\n",
       "      <td>NaN</td>\n",
       "      <td>NaN</td>\n",
       "      <td>NaN</td>\n",
       "      <td>NaN</td>\n",
       "    </tr>\n",
       "    <tr>\n",
       "      <th>...</th>\n",
       "      <td>...</td>\n",
       "      <td>...</td>\n",
       "      <td>...</td>\n",
       "      <td>...</td>\n",
       "      <td>...</td>\n",
       "      <td>...</td>\n",
       "      <td>...</td>\n",
       "      <td>...</td>\n",
       "      <td>...</td>\n",
       "      <td>...</td>\n",
       "      <td>...</td>\n",
       "      <td>...</td>\n",
       "      <td>...</td>\n",
       "      <td>...</td>\n",
       "      <td>...</td>\n",
       "      <td>...</td>\n",
       "    </tr>\n",
       "    <tr>\n",
       "      <th>42059</th>\n",
       "      <td>2019110008</td>\n",
       "      <td>0.0</td>\n",
       "      <td>0.100000</td>\n",
       "      <td>0.400000</td>\n",
       "      <td>0.166667</td>\n",
       "      <td>0.181818</td>\n",
       "      <td>0.333333</td>\n",
       "      <td>0.861111</td>\n",
       "      <td>0.402918</td>\n",
       "      <td>0.486226</td>\n",
       "      <td>000</td>\n",
       "      <td>000</td>\n",
       "      <td>NaN</td>\n",
       "      <td>NaN</td>\n",
       "      <td>NaN</td>\n",
       "      <td>NaN</td>\n",
       "    </tr>\n",
       "    <tr>\n",
       "      <th>42060</th>\n",
       "      <td>2019110019</td>\n",
       "      <td>0.0</td>\n",
       "      <td>0.300000</td>\n",
       "      <td>0.428571</td>\n",
       "      <td>0.600000</td>\n",
       "      <td>0.142857</td>\n",
       "      <td>0.125000</td>\n",
       "      <td>NaN</td>\n",
       "      <td>0.377002</td>\n",
       "      <td>0.377002</td>\n",
       "      <td>000</td>\n",
       "      <td>000</td>\n",
       "      <td>NaN</td>\n",
       "      <td>NaN</td>\n",
       "      <td>NaN</td>\n",
       "      <td>NaN</td>\n",
       "    </tr>\n",
       "    <tr>\n",
       "      <th>42061</th>\n",
       "      <td>2019110023</td>\n",
       "      <td>0.0</td>\n",
       "      <td>0.636364</td>\n",
       "      <td>0.166667</td>\n",
       "      <td>0.090909</td>\n",
       "      <td>0.090909</td>\n",
       "      <td>0.454545</td>\n",
       "      <td>0.766667</td>\n",
       "      <td>0.453106</td>\n",
       "      <td>0.525466</td>\n",
       "      <td>000</td>\n",
       "      <td>000</td>\n",
       "      <td>NaN</td>\n",
       "      <td>NaN</td>\n",
       "      <td>NaN</td>\n",
       "      <td>NaN</td>\n",
       "    </tr>\n",
       "    <tr>\n",
       "      <th>42062</th>\n",
       "      <td>2019110101</td>\n",
       "      <td>1.0</td>\n",
       "      <td>0.100000</td>\n",
       "      <td>0.111111</td>\n",
       "      <td>0.400000</td>\n",
       "      <td>0.500000</td>\n",
       "      <td>0.125000</td>\n",
       "      <td>1.000000</td>\n",
       "      <td>0.347371</td>\n",
       "      <td>0.477897</td>\n",
       "      <td>000</td>\n",
       "      <td>000</td>\n",
       "      <td>NaN</td>\n",
       "      <td>NaN</td>\n",
       "      <td>NaN</td>\n",
       "      <td>NaN</td>\n",
       "    </tr>\n",
       "    <tr>\n",
       "      <th>42063</th>\n",
       "      <td>2020109133</td>\n",
       "      <td>0.0</td>\n",
       "      <td>0.666667</td>\n",
       "      <td>0.142857</td>\n",
       "      <td>0.666667</td>\n",
       "      <td>0.555556</td>\n",
       "      <td>0.300000</td>\n",
       "      <td>0.764706</td>\n",
       "      <td>0.508431</td>\n",
       "      <td>0.540466</td>\n",
       "      <td>2005104227</td>\n",
       "      <td>000</td>\n",
       "      <td>NaN</td>\n",
       "      <td>NaN</td>\n",
       "      <td>NaN</td>\n",
       "      <td>NaN</td>\n",
       "    </tr>\n",
       "  </tbody>\n",
       "</table>\n",
       "<p>42064 rows × 16 columns</p>\n",
       "</div>"
      ],
      "text/plain": [
       "         horse_id  target    1g_ago    2g_ago    3g_ago    4g_ago    5g_ago  \\\n",
       "0      1988105984     0.0  0.066667  0.812500  0.083333  1.000000  1.000000   \n",
       "1      1992101546     0.0  0.285714  0.250000  0.250000  0.750000  0.333333   \n",
       "2      1992104930     0.0  0.833333  0.900000  0.900000  0.800000  0.333333   \n",
       "3      1993100815     0.0  0.555556  0.083333  0.307692  0.571429  0.357143   \n",
       "4      1993101459     0.0  0.500000  0.812500  0.363636  0.571429  0.733333   \n",
       "...           ...     ...       ...       ...       ...       ...       ...   \n",
       "42059  2019110008     0.0  0.100000  0.400000  0.166667  0.181818  0.333333   \n",
       "42060  2019110019     0.0  0.300000  0.428571  0.600000  0.142857  0.125000   \n",
       "42061  2019110023     0.0  0.636364  0.166667  0.090909  0.090909  0.454545   \n",
       "42062  2019110101     1.0  0.100000  0.111111  0.400000  0.500000  0.125000   \n",
       "42063  2020109133     0.0  0.666667  0.142857  0.666667  0.555556  0.300000   \n",
       "\n",
       "       rank_glass  rank_dirt      rank       f_1_1       m_1_1  \\\n",
       "0             NaN   0.403643  0.403643  1980101941  1955105963   \n",
       "1        0.405078   0.458542  0.424120  1979106961         000   \n",
       "2        0.802564   0.504846  0.524476         000  1983106007   \n",
       "3        0.955556   0.318073  0.361538  1986109001  1981104890   \n",
       "4        0.672542   0.433191  0.493922  1979105216  1984104742   \n",
       "...           ...        ...       ...         ...         ...   \n",
       "42059    0.861111   0.402918  0.486226         000         000   \n",
       "42060         NaN   0.377002  0.377002         000         000   \n",
       "42061    0.766667   0.453106  0.525466         000         000   \n",
       "42062    1.000000   0.347371  0.477897         000         000   \n",
       "42063    0.764706   0.508431  0.540466  2005104227         000   \n",
       "\n",
       "      father_horse_id  F_rank_glass  F_rank_dirt  F_rank  \n",
       "0                 NaN           NaN          NaN     NaN  \n",
       "1                 NaN           NaN          NaN     NaN  \n",
       "2                 NaN           NaN          NaN     NaN  \n",
       "3                 NaN           NaN          NaN     NaN  \n",
       "4                 NaN           NaN          NaN     NaN  \n",
       "...               ...           ...          ...     ...  \n",
       "42059             NaN           NaN          NaN     NaN  \n",
       "42060             NaN           NaN          NaN     NaN  \n",
       "42061             NaN           NaN          NaN     NaN  \n",
       "42062             NaN           NaN          NaN     NaN  \n",
       "42063             NaN           NaN          NaN     NaN  \n",
       "\n",
       "[42064 rows x 16 columns]"
      ]
     },
     "execution_count": 895,
     "metadata": {},
     "output_type": "execute_result"
    }
   ],
   "source": [
    "#df_f_rank['father_horse_id'] = df_f_rank['father_horse_id'].astype(int)\n",
    "#temp['f_1_1'] = temp['f_1_1'].astype(int)\n",
    "#temp['m_1_1'] = temp['m_1_1'].astype(int)\n",
    "#temp.merge(df_f_rank, how='outer', left_on='f_1_1', right_on='horse_id')\n",
    "temp.merge(df_f_rank, how='left', left_on='f_1_1', right_on='father_horse_id')"
   ]
  },
  {
   "cell_type": "code",
   "execution_count": 896,
   "id": "f58a3898-64c1-4781-b8d5-9724d2b5c658",
   "metadata": {},
   "outputs": [
    {
     "data": {
      "text/plain": [
       "(42064, 12)"
      ]
     },
     "execution_count": 896,
     "metadata": {},
     "output_type": "execute_result"
    }
   ],
   "source": [
    "temp.shape"
   ]
  },
  {
   "cell_type": "code",
   "execution_count": 897,
   "id": "1b79fb5e-061f-4ef3-8ba3-aa0359c7606f",
   "metadata": {},
   "outputs": [
    {
     "data": {
      "text/plain": [
       "(13522, 12)"
      ]
     },
     "execution_count": 897,
     "metadata": {},
     "output_type": "execute_result"
    }
   ],
   "source": [
    "temp[temp['f_1_1']=='000'].shape"
   ]
  },
  {
   "cell_type": "code",
   "execution_count": 902,
   "id": "e72e3117-b26f-4401-8671-67dc7196ee4a",
   "metadata": {},
   "outputs": [
    {
     "data": {
      "text/plain": [
       "horse_id         0\n",
       "target           0\n",
       "1g_ago           0\n",
       "2g_ago           0\n",
       "3g_ago           0\n",
       "4g_ago           0\n",
       "5g_ago           0\n",
       "rank_glass    7124\n",
       "rank_dirt     4990\n",
       "rank             0\n",
       "dtype: int64"
      ]
     },
     "execution_count": 902,
     "metadata": {},
     "output_type": "execute_result"
    }
   ],
   "source": [
    "#pivot_df[pivot_df['5g_ago'].isnull()]\n",
    "pivot_df_urban.isnull().sum()"
   ]
  },
  {
   "cell_type": "code",
   "execution_count": 907,
   "id": "e0238c19-5a97-47be-806b-b9f9107a4ac4",
   "metadata": {},
   "outputs": [],
   "source": [
    "output_dir = '/Users/eee/python/jra_ml/data/input'\n",
    "output_file = 'input_add_rank.csv'\n",
    "\n",
    "output_path = os.path.join(output_dir, output_file)\n",
    "pivot_df.to_csv(output_path, index=False)"
   ]
  },
  {
   "cell_type": "code",
   "execution_count": null,
   "id": "a119be5e-4e39-46c6-9178-720b5769a8eb",
   "metadata": {},
   "outputs": [],
   "source": []
  }
 ],
 "metadata": {
  "kernelspec": {
   "display_name": "Python 3 (ipykernel)",
   "language": "python",
   "name": "python3"
  },
  "language_info": {
   "codemirror_mode": {
    "name": "ipython",
    "version": 3
   },
   "file_extension": ".py",
   "mimetype": "text/x-python",
   "name": "python",
   "nbconvert_exporter": "python",
   "pygments_lexer": "ipython3",
   "version": "3.10.5"
  }
 },
 "nbformat": 4,
 "nbformat_minor": 5
}
